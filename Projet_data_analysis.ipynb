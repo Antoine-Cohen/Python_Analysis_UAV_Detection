{
  "nbformat": 4,
  "nbformat_minor": 0,
  "metadata": {
    "colab": {
      "name": "Projet_data_analysis.ipynb",
      "provenance": [],
      "collapsed_sections": [],
      "include_colab_link": true
    },
    "kernelspec": {
      "name": "python3",
      "display_name": "Python 3"
    },
    "language_info": {
      "name": "python"
    }
  },
  "cells": [
    {
      "cell_type": "markdown",
      "metadata": {
        "id": "view-in-github",
        "colab_type": "text"
      },
      "source": [
        "<a href=\"https://colab.research.google.com/github/Antoine-Cohen/Python_Analysis_UAV_Detection/blob/main/Projet_data_analysis.ipynb\" target=\"_parent\"><img src=\"https://colab.research.google.com/assets/colab-badge.svg\" alt=\"Open In Colab\"/></a>"
      ]
    },
    {
      "cell_type": "markdown",
      "metadata": {
        "id": "nIaV5jnCELXI"
      },
      "source": [
        "##Import des librairies"
      ]
    },
    {
      "cell_type": "code",
      "metadata": {
        "id": "jdAuRX8i8J7y"
      },
      "source": [
        "import requests\n",
        "import numpy as np\n",
        "import pandas as pd\n",
        "import matplotlib.pyplot as plt\n",
        "import seaborn as sns\n",
        "import re\n",
        "from sklearn.preprocessing import MinMaxScaler\n",
        "from sklearn.preprocessing import StandardScaler\n",
        "from sklearn.pipeline import make_pipeline\n",
        "from sklearn.model_selection import cross_val_score"
      ],
      "execution_count": null,
      "outputs": []
    },
    {
      "cell_type": "markdown",
      "metadata": {
        "id": "-C_1q_vqlIis"
      },
      "source": [
        "# Dataset 1 "
      ]
    },
    {
      "cell_type": "markdown",
      "metadata": {
        "id": "lAHBC9fBbUIP"
      },
      "source": [
        "## Recupération des données (.mat) sous un dataframe"
      ]
    },
    {
      "cell_type": "code",
      "metadata": {
        "id": "OQWVT2N0bz0O",
        "colab": {
          "base_uri": "https://localhost:8080/"
        },
        "outputId": "0665cdc0-783b-4abd-b6d0-a2b7a11a08ef"
      },
      "source": [
        "url = 'http://mason.gmu.edu/~lzhao9/materials/data/UAV/data/pub_dataset1.mat'\n",
        "r = requests.get(url, allow_redirects=True)\n",
        "open('pub_dataset1.mat', 'wb').write(r.content)"
      ],
      "execution_count": null,
      "outputs": [
        {
          "output_type": "execute_result",
          "data": {
            "text/plain": [
              "6268227"
            ]
          },
          "metadata": {},
          "execution_count": 2
        }
      ]
    },
    {
      "cell_type": "code",
      "metadata": {
        "id": "5SrwL2w5xBCK"
      },
      "source": [
        "import h5py\n",
        "data_path = './pub_dataset1.mat'\n",
        "with h5py.File(data_path, 'r') as f:\n",
        "    data_tr = pd.DataFrame(data = f['data_tr']).T\n",
        "    data_te = pd.DataFrame(data = f['data_te']).T"
      ],
      "execution_count": null,
      "outputs": []
    },
    {
      "cell_type": "markdown",
      "metadata": {
        "id": "T6j6dINTbyCS"
      },
      "source": [
        "## Renommage des colonnes"
      ]
    },
    {
      "cell_type": "code",
      "metadata": {
        "id": "YXlUWo4b2Rbf"
      },
      "source": [
        "from bs4 import BeautifulSoup\n",
        "url = 'https://archive.ics.uci.edu/ml/datasets/Unmanned+Aerial+Vehicle+%28UAV%29+Intrusion+Detection'\n",
        "response = requests.get(url)\n",
        "soup = BeautifulSoup(response.text,'html.parser')"
      ],
      "execution_count": null,
      "outputs": []
    },
    {
      "cell_type": "code",
      "metadata": {
        "id": "R8T5kyWD54pM",
        "colab": {
          "base_uri": "https://localhost:8080/"
        },
        "outputId": "40065c54-edf7-441a-f628-f247febfeced"
      },
      "source": [
        "cat = soup.find_all('p',{'class':'normal'})[21] # Tous les noms des colonnes\n",
        "cat"
      ],
      "execution_count": null,
      "outputs": [
        {
          "output_type": "execute_result",
          "data": {
            "text/plain": [
              "<p class=\"normal\">The raw inputs are the radio frequency time series in two directions: uplink_flow and downlink_flow. Attributes are processed from the raw input, the list of attributes are:\n",
              "<br/>1. uplink_size_mean\n",
              "<br/>2. uplink_size_median\n",
              "<br/>3. uplink_size_MAD\n",
              "<br/>4. uplink_size_STD\n",
              "<br/>5. uplink_size_Skewness\n",
              "<br/>6. uplink_size_Kurtosis\n",
              "<br/>7. uplink_size_MAX\n",
              "<br/>8. uplink_size_MIN\n",
              "<br/>9. uplink_size_MeanSquare\n",
              "<br/>10. downlink_size_mean\n",
              "<br/>11. downlink_size_median\n",
              "<br/>12. downlink_size_MAD\n",
              "<br/>13. downlink_size_STD\n",
              "<br/>14. downlink_size_Skewness\n",
              "<br/>15. downlink_size_Kurtosis\n",
              "<br/>16. downlink_size_MAX\n",
              "<br/>17. downlink_size_MIN\n",
              "<br/>18. downlink_size_MeanSquare\n",
              "<br/>19. both_links_size_mean\n",
              "<br/>20. both_links_size_median\n",
              "<br/>21. both_links_size_MAD\n",
              "<br/>22. both_links_size_STD\n",
              "<br/>23. both_links_size_Skewness\n",
              "<br/>24. both_links_size_Kurtosis\n",
              "<br/>25. both_links_size_MAX\n",
              "<br/>26. both_links_size_MIN\n",
              "<br/>27. both_links_size_MeanSquare\n",
              "<br/>28. uplink_interval_mean\n",
              "<br/>29. uplink_interval_median\n",
              "<br/>30. uplink_interval_MAD\n",
              "<br/>31. uplink_interval_STD\n",
              "<br/>32. uplink_interval_Skewness\n",
              "<br/>33. uplink_interval_Kurtosis\n",
              "<br/>34. uplink_interval_MAX\n",
              "<br/>35. uplink_interval_MIN\n",
              "<br/>36. uplink_interval_MeanSquare\n",
              "<br/>37. downlink_interval_mean\n",
              "<br/>38. downlink_interval_median\n",
              "<br/>39. downlink_interval_MAD\n",
              "<br/>40. downlink_interval_STD\n",
              "<br/>41. downlink_interval_Skewness\n",
              "<br/>42. downlink_interval_Kurtosis\n",
              "<br/>43. downlink_interval_MAX\n",
              "<br/>44. downlink_interval_MIN\n",
              "<br/>45. downlink_interval_MeanSquare\n",
              "<br/>46. both_links_interval_mean\n",
              "<br/>47. both_links_interval_median\n",
              "<br/>48. both_links_interval_MAD\n",
              "<br/>49. both_links_interval_STD\n",
              "<br/>50. both_links_interval_Skewness\n",
              "<br/>51. both_links_interval_Kurtosis\n",
              "<br/>52. both_links_interval_MAX\n",
              "<br/>53. both_links_interval_MIN\n",
              "<br/>54. both_links_interval_MeanSquare\n",
              "<br/>55. label</p>"
            ]
          },
          "metadata": {},
          "execution_count": 10
        }
      ]
    },
    {
      "cell_type": "code",
      "metadata": {
        "id": "t8C5aXxVz53r",
        "colab": {
          "base_uri": "https://localhost:8080/"
        },
        "outputId": "f5c6b0ea-f64e-4a58-a3ff-8e3e4a5e2594"
      },
      "source": [
        "cat = cat.get_text(separator = '<br/>',strip = True).split('<br/>')[1:] # Recup le texte propre\n",
        "cat"
      ],
      "execution_count": null,
      "outputs": [
        {
          "output_type": "execute_result",
          "data": {
            "text/plain": [
              "['1. uplink_size_mean',\n",
              " '2. uplink_size_median',\n",
              " '3. uplink_size_MAD',\n",
              " '4. uplink_size_STD',\n",
              " '5. uplink_size_Skewness',\n",
              " '6. uplink_size_Kurtosis',\n",
              " '7. uplink_size_MAX',\n",
              " '8. uplink_size_MIN',\n",
              " '9. uplink_size_MeanSquare',\n",
              " '10. downlink_size_mean',\n",
              " '11. downlink_size_median',\n",
              " '12. downlink_size_MAD',\n",
              " '13. downlink_size_STD',\n",
              " '14. downlink_size_Skewness',\n",
              " '15. downlink_size_Kurtosis',\n",
              " '16. downlink_size_MAX',\n",
              " '17. downlink_size_MIN',\n",
              " '18. downlink_size_MeanSquare',\n",
              " '19. both_links_size_mean',\n",
              " '20. both_links_size_median',\n",
              " '21. both_links_size_MAD',\n",
              " '22. both_links_size_STD',\n",
              " '23. both_links_size_Skewness',\n",
              " '24. both_links_size_Kurtosis',\n",
              " '25. both_links_size_MAX',\n",
              " '26. both_links_size_MIN',\n",
              " '27. both_links_size_MeanSquare',\n",
              " '28. uplink_interval_mean',\n",
              " '29. uplink_interval_median',\n",
              " '30. uplink_interval_MAD',\n",
              " '31. uplink_interval_STD',\n",
              " '32. uplink_interval_Skewness',\n",
              " '33. uplink_interval_Kurtosis',\n",
              " '34. uplink_interval_MAX',\n",
              " '35. uplink_interval_MIN',\n",
              " '36. uplink_interval_MeanSquare',\n",
              " '37. downlink_interval_mean',\n",
              " '38. downlink_interval_median',\n",
              " '39. downlink_interval_MAD',\n",
              " '40. downlink_interval_STD',\n",
              " '41. downlink_interval_Skewness',\n",
              " '42. downlink_interval_Kurtosis',\n",
              " '43. downlink_interval_MAX',\n",
              " '44. downlink_interval_MIN',\n",
              " '45. downlink_interval_MeanSquare',\n",
              " '46. both_links_interval_mean',\n",
              " '47. both_links_interval_median',\n",
              " '48. both_links_interval_MAD',\n",
              " '49. both_links_interval_STD',\n",
              " '50. both_links_interval_Skewness',\n",
              " '51. both_links_interval_Kurtosis',\n",
              " '52. both_links_interval_MAX',\n",
              " '53. both_links_interval_MIN',\n",
              " '54. both_links_interval_MeanSquare',\n",
              " '55. label']"
            ]
          },
          "metadata": {},
          "execution_count": 9
        }
      ]
    },
    {
      "cell_type": "code",
      "metadata": {
        "id": "Yk_9_wUt2SZk"
      },
      "source": [
        "col_names = [(re.search('(?<=. ))\\D+',c).group()) for c in cat]\n",
        "old_new_col = {i:col for i,col in enumerate(col_names)} # dictionnaire anciennes/nouvelles colonnes"
      ],
      "execution_count": null,
      "outputs": []
    },
    {
      "cell_type": "code",
      "metadata": {
        "id": "kQS8ougP3f3j"
      },
      "source": [
        "data_tr.rename(old_new_col,axis = 1,inplace = True)\n",
        "data_te.rename(old_new_col,axis = 1,inplace = True) # Renommage des colonnes"
      ],
      "execution_count": null,
      "outputs": []
    },
    {
      "cell_type": "code",
      "metadata": {
        "colab": {
          "base_uri": "https://localhost:8080/",
          "height": 443
        },
        "id": "ZmB2jcp2Vxy4",
        "outputId": "9254bb2e-56f4-45ff-cabf-d113510f5b4d"
      },
      "source": [
        "data_tr"
      ],
      "execution_count": null,
      "outputs": [
        {
          "output_type": "execute_result",
          "data": {
            "text/html": [
              "<div>\n",
              "<style scoped>\n",
              "    .dataframe tbody tr th:only-of-type {\n",
              "        vertical-align: middle;\n",
              "    }\n",
              "\n",
              "    .dataframe tbody tr th {\n",
              "        vertical-align: top;\n",
              "    }\n",
              "\n",
              "    .dataframe thead th {\n",
              "        text-align: right;\n",
              "    }\n",
              "</style>\n",
              "<table border=\"1\" class=\"dataframe\">\n",
              "  <thead>\n",
              "    <tr style=\"text-align: right;\">\n",
              "      <th></th>\n",
              "      <th>uplink_size_mean</th>\n",
              "      <th>uplink_size_median</th>\n",
              "      <th>uplink_size_MAD</th>\n",
              "      <th>uplink_size_STD</th>\n",
              "      <th>uplink_size_Skewness</th>\n",
              "      <th>uplink_size_Kurtosis</th>\n",
              "      <th>uplink_size_MAX</th>\n",
              "      <th>uplink_size_MIN</th>\n",
              "      <th>uplink_size_MeanSquare</th>\n",
              "      <th>downlink_size_mean</th>\n",
              "      <th>downlink_size_median</th>\n",
              "      <th>downlink_size_MAD</th>\n",
              "      <th>downlink_size_STD</th>\n",
              "      <th>downlink_size_Skewness</th>\n",
              "      <th>downlink_size_Kurtosis</th>\n",
              "      <th>downlink_size_MAX</th>\n",
              "      <th>downlink_size_MIN</th>\n",
              "      <th>downlink_size_MeanSquare</th>\n",
              "      <th>both_links_size_mean</th>\n",
              "      <th>both_links_size_median</th>\n",
              "      <th>both_links_size_MAD</th>\n",
              "      <th>both_links_size_STD</th>\n",
              "      <th>both_links_size_Skewness</th>\n",
              "      <th>both_links_size_Kurtosis</th>\n",
              "      <th>both_links_size_MAX</th>\n",
              "      <th>both_links_size_MIN</th>\n",
              "      <th>both_links_size_MeanSquare</th>\n",
              "      <th>uplink_interval_mean</th>\n",
              "      <th>uplink_interval_median</th>\n",
              "      <th>uplink_interval_MAD</th>\n",
              "      <th>uplink_interval_STD</th>\n",
              "      <th>uplink_interval_Skewness</th>\n",
              "      <th>uplink_interval_Kurtosis</th>\n",
              "      <th>uplink_interval_MAX</th>\n",
              "      <th>uplink_interval_MIN</th>\n",
              "      <th>uplink_interval_MeanSquare</th>\n",
              "      <th>downlink_interval_mean</th>\n",
              "      <th>downlink_interval_median</th>\n",
              "      <th>downlink_interval_MAD</th>\n",
              "      <th>downlink_interval_STD</th>\n",
              "      <th>downlink_interval_Skewness</th>\n",
              "      <th>downlink_interval_Kurtosis</th>\n",
              "      <th>downlink_interval_MAX</th>\n",
              "      <th>downlink_interval_MIN</th>\n",
              "      <th>downlink_interval_MeanSquare</th>\n",
              "      <th>both_links_interval_mean</th>\n",
              "      <th>both_links_interval_median</th>\n",
              "      <th>both_links_interval_MAD</th>\n",
              "      <th>both_links_interval_STD</th>\n",
              "      <th>both_links_interval_Skewness</th>\n",
              "      <th>both_links_interval_Kurtosis</th>\n",
              "      <th>both_links_interval_MAX</th>\n",
              "      <th>both_links_interval_MIN</th>\n",
              "      <th>both_links_interval_MeanSquare</th>\n",
              "      <th>label</th>\n",
              "    </tr>\n",
              "  </thead>\n",
              "  <tbody>\n",
              "    <tr>\n",
              "      <th>0</th>\n",
              "      <td>0.013633</td>\n",
              "      <td>0.009907</td>\n",
              "      <td>0.012473</td>\n",
              "      <td>0.013195</td>\n",
              "      <td>0.206939</td>\n",
              "      <td>-1.518004</td>\n",
              "      <td>0.029022</td>\n",
              "      <td>0.000002</td>\n",
              "      <td>0.016793</td>\n",
              "      <td>113.612245</td>\n",
              "      <td>32.643157</td>\n",
              "      <td>138.0</td>\n",
              "      <td>17.7912</td>\n",
              "      <td>-0.524785</td>\n",
              "      <td>-1.621986</td>\n",
              "      <td>153.0</td>\n",
              "      <td>70.0</td>\n",
              "      <td>118.116770</td>\n",
              "      <td>0.013402</td>\n",
              "      <td>0.009805</td>\n",
              "      <td>0.012023</td>\n",
              "      <td>0.012642</td>\n",
              "      <td>0.254736</td>\n",
              "      <td>-1.480650</td>\n",
              "      <td>0.029021</td>\n",
              "      <td>0.000408</td>\n",
              "      <td>0.016549</td>\n",
              "      <td>136.078431</td>\n",
              "      <td>205.772966</td>\n",
              "      <td>70.0</td>\n",
              "      <td>0.0000</td>\n",
              "      <td>4.398569</td>\n",
              "      <td>18.352606</td>\n",
              "      <td>1130.0</td>\n",
              "      <td>70.0</td>\n",
              "      <td>245.009404</td>\n",
              "      <td>0.006835</td>\n",
              "      <td>0.009674</td>\n",
              "      <td>0.000241</td>\n",
              "      <td>0.000351</td>\n",
              "      <td>1.164627</td>\n",
              "      <td>-0.178463</td>\n",
              "      <td>0.028997</td>\n",
              "      <td>0.000002</td>\n",
              "      <td>0.011805</td>\n",
              "      <td>125.07</td>\n",
              "      <td>148.422224</td>\n",
              "      <td>126.0</td>\n",
              "      <td>83.0256</td>\n",
              "      <td>6.183629</td>\n",
              "      <td>39.041176</td>\n",
              "      <td>1130.0</td>\n",
              "      <td>70.0</td>\n",
              "      <td>193.523564</td>\n",
              "      <td>1.0</td>\n",
              "    </tr>\n",
              "    <tr>\n",
              "      <th>1</th>\n",
              "      <td>0.176876</td>\n",
              "      <td>0.328222</td>\n",
              "      <td>0.050990</td>\n",
              "      <td>0.072377</td>\n",
              "      <td>2.746796</td>\n",
              "      <td>7.799352</td>\n",
              "      <td>1.629773</td>\n",
              "      <td>0.000309</td>\n",
              "      <td>0.369391</td>\n",
              "      <td>487.000000</td>\n",
              "      <td>392.264657</td>\n",
              "      <td>395.5</td>\n",
              "      <td>255.7485</td>\n",
              "      <td>1.692933</td>\n",
              "      <td>1.546272</td>\n",
              "      <td>1476.0</td>\n",
              "      <td>222.0</td>\n",
              "      <td>622.396138</td>\n",
              "      <td>0.128085</td>\n",
              "      <td>0.254164</td>\n",
              "      <td>0.029409</td>\n",
              "      <td>0.043299</td>\n",
              "      <td>3.309583</td>\n",
              "      <td>12.659707</td>\n",
              "      <td>1.482584</td>\n",
              "      <td>0.000143</td>\n",
              "      <td>0.282651</td>\n",
              "      <td>308.827586</td>\n",
              "      <td>214.947496</td>\n",
              "      <td>264.0</td>\n",
              "      <td>63.7518</td>\n",
              "      <td>3.713849</td>\n",
              "      <td>12.835863</td>\n",
              "      <td>1293.0</td>\n",
              "      <td>216.0</td>\n",
              "      <td>375.207023</td>\n",
              "      <td>0.074292</td>\n",
              "      <td>0.198067</td>\n",
              "      <td>0.001850</td>\n",
              "      <td>0.002549</td>\n",
              "      <td>4.688625</td>\n",
              "      <td>25.950990</td>\n",
              "      <td>1.478154</td>\n",
              "      <td>0.000117</td>\n",
              "      <td>0.210612</td>\n",
              "      <td>383.66</td>\n",
              "      <td>313.268698</td>\n",
              "      <td>307.0</td>\n",
              "      <td>126.0210</td>\n",
              "      <td>2.542834</td>\n",
              "      <td>5.425483</td>\n",
              "      <td>1476.0</td>\n",
              "      <td>216.0</td>\n",
              "      <td>494.318622</td>\n",
              "      <td>0.0</td>\n",
              "    </tr>\n",
              "    <tr>\n",
              "      <th>2</th>\n",
              "      <td>0.003496</td>\n",
              "      <td>0.004608</td>\n",
              "      <td>0.001605</td>\n",
              "      <td>0.001622</td>\n",
              "      <td>1.884811</td>\n",
              "      <td>2.649103</td>\n",
              "      <td>0.018668</td>\n",
              "      <td>0.000177</td>\n",
              "      <td>0.005718</td>\n",
              "      <td>96.857143</td>\n",
              "      <td>22.093596</td>\n",
              "      <td>88.0</td>\n",
              "      <td>0.0000</td>\n",
              "      <td>1.932871</td>\n",
              "      <td>1.804209</td>\n",
              "      <td>150.0</td>\n",
              "      <td>88.0</td>\n",
              "      <td>99.257242</td>\n",
              "      <td>0.001428</td>\n",
              "      <td>0.003718</td>\n",
              "      <td>0.000158</td>\n",
              "      <td>0.000228</td>\n",
              "      <td>3.658123</td>\n",
              "      <td>13.575117</td>\n",
              "      <td>0.020585</td>\n",
              "      <td>0.000001</td>\n",
              "      <td>0.003959</td>\n",
              "      <td>588.986111</td>\n",
              "      <td>413.681973</td>\n",
              "      <td>741.5</td>\n",
              "      <td>457.3821</td>\n",
              "      <td>-0.272712</td>\n",
              "      <td>-1.735861</td>\n",
              "      <td>1108.0</td>\n",
              "      <td>76.0</td>\n",
              "      <td>718.095098</td>\n",
              "      <td>0.001042</td>\n",
              "      <td>0.002882</td>\n",
              "      <td>0.000025</td>\n",
              "      <td>0.000035</td>\n",
              "      <td>4.084852</td>\n",
              "      <td>17.829972</td>\n",
              "      <td>0.018668</td>\n",
              "      <td>0.000001</td>\n",
              "      <td>0.003051</td>\n",
              "      <td>451.19</td>\n",
              "      <td>414.950105</td>\n",
              "      <td>150.0</td>\n",
              "      <td>109.7124</td>\n",
              "      <td>0.358598</td>\n",
              "      <td>-1.731709</td>\n",
              "      <td>1108.0</td>\n",
              "      <td>76.0</td>\n",
              "      <td>611.583330</td>\n",
              "      <td>1.0</td>\n",
              "    </tr>\n",
              "    <tr>\n",
              "      <th>3</th>\n",
              "      <td>0.004229</td>\n",
              "      <td>0.005576</td>\n",
              "      <td>0.000986</td>\n",
              "      <td>0.001195</td>\n",
              "      <td>1.088090</td>\n",
              "      <td>-0.287253</td>\n",
              "      <td>0.018410</td>\n",
              "      <td>0.000009</td>\n",
              "      <td>0.006926</td>\n",
              "      <td>98.225806</td>\n",
              "      <td>28.208403</td>\n",
              "      <td>88.0</td>\n",
              "      <td>0.0000</td>\n",
              "      <td>2.800722</td>\n",
              "      <td>8.100519</td>\n",
              "      <td>218.0</td>\n",
              "      <td>76.0</td>\n",
              "      <td>102.070343</td>\n",
              "      <td>0.001919</td>\n",
              "      <td>0.005633</td>\n",
              "      <td>0.000105</td>\n",
              "      <td>0.000153</td>\n",
              "      <td>3.661035</td>\n",
              "      <td>13.732723</td>\n",
              "      <td>0.032340</td>\n",
              "      <td>0.000001</td>\n",
              "      <td>0.005912</td>\n",
              "      <td>599.434783</td>\n",
              "      <td>376.788148</td>\n",
              "      <td>770.0</td>\n",
              "      <td>240.1812</td>\n",
              "      <td>-0.435652</td>\n",
              "      <td>-1.484070</td>\n",
              "      <td>1094.0</td>\n",
              "      <td>76.0</td>\n",
              "      <td>706.564817</td>\n",
              "      <td>0.001324</td>\n",
              "      <td>0.003575</td>\n",
              "      <td>0.000067</td>\n",
              "      <td>0.000096</td>\n",
              "      <td>3.100149</td>\n",
              "      <td>8.892516</td>\n",
              "      <td>0.018410</td>\n",
              "      <td>0.000001</td>\n",
              "      <td>0.003795</td>\n",
              "      <td>444.06</td>\n",
              "      <td>389.912910</td>\n",
              "      <td>147.0</td>\n",
              "      <td>105.2646</td>\n",
              "      <td>0.311359</td>\n",
              "      <td>-1.699683</td>\n",
              "      <td>1094.0</td>\n",
              "      <td>76.0</td>\n",
              "      <td>589.661801</td>\n",
              "      <td>1.0</td>\n",
              "    </tr>\n",
              "    <tr>\n",
              "      <th>4</th>\n",
              "      <td>0.003080</td>\n",
              "      <td>0.005691</td>\n",
              "      <td>0.000934</td>\n",
              "      <td>0.000975</td>\n",
              "      <td>2.881301</td>\n",
              "      <td>8.274496</td>\n",
              "      <td>0.026786</td>\n",
              "      <td>0.000011</td>\n",
              "      <td>0.006387</td>\n",
              "      <td>96.533333</td>\n",
              "      <td>27.042410</td>\n",
              "      <td>88.0</td>\n",
              "      <td>0.0000</td>\n",
              "      <td>3.245917</td>\n",
              "      <td>10.956115</td>\n",
              "      <td>218.0</td>\n",
              "      <td>76.0</td>\n",
              "      <td>100.127918</td>\n",
              "      <td>0.001326</td>\n",
              "      <td>0.004443</td>\n",
              "      <td>0.000034</td>\n",
              "      <td>0.000040</td>\n",
              "      <td>4.790659</td>\n",
              "      <td>24.285991</td>\n",
              "      <td>0.029226</td>\n",
              "      <td>0.000007</td>\n",
              "      <td>0.004606</td>\n",
              "      <td>649.371429</td>\n",
              "      <td>376.682782</td>\n",
              "      <td>794.0</td>\n",
              "      <td>235.7334</td>\n",
              "      <td>-0.564116</td>\n",
              "      <td>-1.208588</td>\n",
              "      <td>1218.0</td>\n",
              "      <td>76.0</td>\n",
              "      <td>749.363844</td>\n",
              "      <td>0.000933</td>\n",
              "      <td>0.003334</td>\n",
              "      <td>0.000029</td>\n",
              "      <td>0.000031</td>\n",
              "      <td>5.731184</td>\n",
              "      <td>36.394334</td>\n",
              "      <td>0.026335</td>\n",
              "      <td>0.000007</td>\n",
              "      <td>0.003446</td>\n",
              "      <td>483.52</td>\n",
              "      <td>404.892316</td>\n",
              "      <td>417.0</td>\n",
              "      <td>505.5666</td>\n",
              "      <td>0.198671</td>\n",
              "      <td>-1.704260</td>\n",
              "      <td>1218.0</td>\n",
              "      <td>76.0</td>\n",
              "      <td>629.356815</td>\n",
              "      <td>1.0</td>\n",
              "    </tr>\n",
              "    <tr>\n",
              "      <th>...</th>\n",
              "      <td>...</td>\n",
              "      <td>...</td>\n",
              "      <td>...</td>\n",
              "      <td>...</td>\n",
              "      <td>...</td>\n",
              "      <td>...</td>\n",
              "      <td>...</td>\n",
              "      <td>...</td>\n",
              "      <td>...</td>\n",
              "      <td>...</td>\n",
              "      <td>...</td>\n",
              "      <td>...</td>\n",
              "      <td>...</td>\n",
              "      <td>...</td>\n",
              "      <td>...</td>\n",
              "      <td>...</td>\n",
              "      <td>...</td>\n",
              "      <td>...</td>\n",
              "      <td>...</td>\n",
              "      <td>...</td>\n",
              "      <td>...</td>\n",
              "      <td>...</td>\n",
              "      <td>...</td>\n",
              "      <td>...</td>\n",
              "      <td>...</td>\n",
              "      <td>...</td>\n",
              "      <td>...</td>\n",
              "      <td>...</td>\n",
              "      <td>...</td>\n",
              "      <td>...</td>\n",
              "      <td>...</td>\n",
              "      <td>...</td>\n",
              "      <td>...</td>\n",
              "      <td>...</td>\n",
              "      <td>...</td>\n",
              "      <td>...</td>\n",
              "      <td>...</td>\n",
              "      <td>...</td>\n",
              "      <td>...</td>\n",
              "      <td>...</td>\n",
              "      <td>...</td>\n",
              "      <td>...</td>\n",
              "      <td>...</td>\n",
              "      <td>...</td>\n",
              "      <td>...</td>\n",
              "      <td>...</td>\n",
              "      <td>...</td>\n",
              "      <td>...</td>\n",
              "      <td>...</td>\n",
              "      <td>...</td>\n",
              "      <td>...</td>\n",
              "      <td>...</td>\n",
              "      <td>...</td>\n",
              "      <td>...</td>\n",
              "      <td>...</td>\n",
              "    </tr>\n",
              "    <tr>\n",
              "      <th>1746</th>\n",
              "      <td>0.168442</td>\n",
              "      <td>0.449148</td>\n",
              "      <td>0.024904</td>\n",
              "      <td>0.036848</td>\n",
              "      <td>3.425184</td>\n",
              "      <td>11.482435</td>\n",
              "      <td>2.269895</td>\n",
              "      <td>0.000102</td>\n",
              "      <td>0.474128</td>\n",
              "      <td>248.868421</td>\n",
              "      <td>22.409181</td>\n",
              "      <td>228.0</td>\n",
              "      <td>0.0000</td>\n",
              "      <td>0.127789</td>\n",
              "      <td>-2.008487</td>\n",
              "      <td>276.0</td>\n",
              "      <td>228.0</td>\n",
              "      <td>249.848849</td>\n",
              "      <td>0.101848</td>\n",
              "      <td>0.321320</td>\n",
              "      <td>0.000725</td>\n",
              "      <td>0.000868</td>\n",
              "      <td>4.507385</td>\n",
              "      <td>20.808679</td>\n",
              "      <td>2.006319</td>\n",
              "      <td>0.000108</td>\n",
              "      <td>0.334595</td>\n",
              "      <td>390.225806</td>\n",
              "      <td>295.854163</td>\n",
              "      <td>250.0</td>\n",
              "      <td>32.6172</td>\n",
              "      <td>1.756040</td>\n",
              "      <td>1.491963</td>\n",
              "      <td>1148.0</td>\n",
              "      <td>228.0</td>\n",
              "      <td>488.256179</td>\n",
              "      <td>0.064008</td>\n",
              "      <td>0.256044</td>\n",
              "      <td>0.000465</td>\n",
              "      <td>0.000481</td>\n",
              "      <td>5.942396</td>\n",
              "      <td>36.987691</td>\n",
              "      <td>2.006093</td>\n",
              "      <td>0.000102</td>\n",
              "      <td>0.262678</td>\n",
              "      <td>336.51</td>\n",
              "      <td>242.642544</td>\n",
              "      <td>250.0</td>\n",
              "      <td>32.6172</td>\n",
              "      <td>2.561327</td>\n",
              "      <td>5.180320</td>\n",
              "      <td>1148.0</td>\n",
              "      <td>228.0</td>\n",
              "      <td>414.156528</td>\n",
              "      <td>0.0</td>\n",
              "    </tr>\n",
              "    <tr>\n",
              "      <th>1747</th>\n",
              "      <td>0.019276</td>\n",
              "      <td>0.023218</td>\n",
              "      <td>0.014205</td>\n",
              "      <td>0.020036</td>\n",
              "      <td>0.260308</td>\n",
              "      <td>-2.145662</td>\n",
              "      <td>0.048694</td>\n",
              "      <td>0.001382</td>\n",
              "      <td>0.027855</td>\n",
              "      <td>353.000000</td>\n",
              "      <td>250.000000</td>\n",
              "      <td>228.0</td>\n",
              "      <td>0.0000</td>\n",
              "      <td>0.750000</td>\n",
              "      <td>-1.687500</td>\n",
              "      <td>728.0</td>\n",
              "      <td>228.0</td>\n",
              "      <td>414.106267</td>\n",
              "      <td>0.471743</td>\n",
              "      <td>4.252675</td>\n",
              "      <td>0.000269</td>\n",
              "      <td>0.000265</td>\n",
              "      <td>9.474984</td>\n",
              "      <td>88.818730</td>\n",
              "      <td>41.677954</td>\n",
              "      <td>0.000065</td>\n",
              "      <td>4.256689</td>\n",
              "      <td>481.833333</td>\n",
              "      <td>437.711433</td>\n",
              "      <td>228.0</td>\n",
              "      <td>0.0000</td>\n",
              "      <td>1.305021</td>\n",
              "      <td>0.111893</td>\n",
              "      <td>1676.0</td>\n",
              "      <td>216.0</td>\n",
              "      <td>649.429686</td>\n",
              "      <td>0.452873</td>\n",
              "      <td>4.166910</td>\n",
              "      <td>0.000272</td>\n",
              "      <td>0.000269</td>\n",
              "      <td>9.682672</td>\n",
              "      <td>92.805474</td>\n",
              "      <td>41.677954</td>\n",
              "      <td>0.000065</td>\n",
              "      <td>4.170683</td>\n",
              "      <td>476.68</td>\n",
              "      <td>431.726739</td>\n",
              "      <td>228.0</td>\n",
              "      <td>0.0000</td>\n",
              "      <td>1.336856</td>\n",
              "      <td>0.224168</td>\n",
              "      <td>1676.0</td>\n",
              "      <td>216.0</td>\n",
              "      <td>641.675868</td>\n",
              "      <td>0.0</td>\n",
              "    </tr>\n",
              "    <tr>\n",
              "      <th>1748</th>\n",
              "      <td>0.003944</td>\n",
              "      <td>0.005735</td>\n",
              "      <td>0.001150</td>\n",
              "      <td>0.001297</td>\n",
              "      <td>1.766728</td>\n",
              "      <td>2.041407</td>\n",
              "      <td>0.020753</td>\n",
              "      <td>0.000100</td>\n",
              "      <td>0.006886</td>\n",
              "      <td>97.437500</td>\n",
              "      <td>27.035147</td>\n",
              "      <td>88.0</td>\n",
              "      <td>0.0000</td>\n",
              "      <td>3.030459</td>\n",
              "      <td>9.801596</td>\n",
              "      <td>218.0</td>\n",
              "      <td>76.0</td>\n",
              "      <td>101.005569</td>\n",
              "      <td>0.001856</td>\n",
              "      <td>0.004926</td>\n",
              "      <td>0.000035</td>\n",
              "      <td>0.000042</td>\n",
              "      <td>3.089798</td>\n",
              "      <td>8.676543</td>\n",
              "      <td>0.022767</td>\n",
              "      <td>0.000007</td>\n",
              "      <td>0.005230</td>\n",
              "      <td>594.117647</td>\n",
              "      <td>376.928733</td>\n",
              "      <td>744.5</td>\n",
              "      <td>327.6546</td>\n",
              "      <td>-0.387781</td>\n",
              "      <td>-1.533467</td>\n",
              "      <td>1090.0</td>\n",
              "      <td>76.0</td>\n",
              "      <td>702.112317</td>\n",
              "      <td>0.001262</td>\n",
              "      <td>0.003465</td>\n",
              "      <td>0.000037</td>\n",
              "      <td>0.000045</td>\n",
              "      <td>3.599441</td>\n",
              "      <td>13.189263</td>\n",
              "      <td>0.020103</td>\n",
              "      <td>0.000007</td>\n",
              "      <td>0.003672</td>\n",
              "      <td>435.18</td>\n",
              "      <td>388.076072</td>\n",
              "      <td>143.0</td>\n",
              "      <td>99.3342</td>\n",
              "      <td>0.367148</td>\n",
              "      <td>-1.663700</td>\n",
              "      <td>1090.0</td>\n",
              "      <td>76.0</td>\n",
              "      <td>581.789171</td>\n",
              "      <td>1.0</td>\n",
              "    </tr>\n",
              "    <tr>\n",
              "      <th>1749</th>\n",
              "      <td>0.090587</td>\n",
              "      <td>0.253379</td>\n",
              "      <td>0.006768</td>\n",
              "      <td>0.009749</td>\n",
              "      <td>3.066824</td>\n",
              "      <td>8.352582</td>\n",
              "      <td>1.090098</td>\n",
              "      <td>0.000168</td>\n",
              "      <td>0.264068</td>\n",
              "      <td>301.333333</td>\n",
              "      <td>65.319726</td>\n",
              "      <td>288.0</td>\n",
              "      <td>0.0000</td>\n",
              "      <td>4.303617</td>\n",
              "      <td>17.244792</td>\n",
              "      <td>608.0</td>\n",
              "      <td>288.0</td>\n",
              "      <td>308.043287</td>\n",
              "      <td>0.028760</td>\n",
              "      <td>0.116793</td>\n",
              "      <td>0.002406</td>\n",
              "      <td>0.002895</td>\n",
              "      <td>4.808322</td>\n",
              "      <td>22.412904</td>\n",
              "      <td>0.729880</td>\n",
              "      <td>0.000414</td>\n",
              "      <td>0.119533</td>\n",
              "      <td>1625.684211</td>\n",
              "      <td>200.982401</td>\n",
              "      <td>1664.0</td>\n",
              "      <td>0.0000</td>\n",
              "      <td>-5.491032</td>\n",
              "      <td>29.399023</td>\n",
              "      <td>1664.0</td>\n",
              "      <td>384.0</td>\n",
              "      <td>1637.898525</td>\n",
              "      <td>0.021857</td>\n",
              "      <td>0.096867</td>\n",
              "      <td>0.000918</td>\n",
              "      <td>0.001022</td>\n",
              "      <td>5.800006</td>\n",
              "      <td>34.728892</td>\n",
              "      <td>0.729880</td>\n",
              "      <td>0.000148</td>\n",
              "      <td>0.098828</td>\n",
              "      <td>1307.84</td>\n",
              "      <td>595.597565</td>\n",
              "      <td>1664.0</td>\n",
              "      <td>0.0000</td>\n",
              "      <td>-1.079037</td>\n",
              "      <td>-0.819218</td>\n",
              "      <td>1664.0</td>\n",
              "      <td>288.0</td>\n",
              "      <td>1435.839322</td>\n",
              "      <td>0.0</td>\n",
              "    </tr>\n",
              "    <tr>\n",
              "      <th>1750</th>\n",
              "      <td>0.001323</td>\n",
              "      <td>0.001244</td>\n",
              "      <td>0.001010</td>\n",
              "      <td>0.000984</td>\n",
              "      <td>1.771218</td>\n",
              "      <td>3.702437</td>\n",
              "      <td>0.005461</td>\n",
              "      <td>0.000107</td>\n",
              "      <td>0.001794</td>\n",
              "      <td>77.526316</td>\n",
              "      <td>24.097875</td>\n",
              "      <td>70.0</td>\n",
              "      <td>0.0000</td>\n",
              "      <td>2.414882</td>\n",
              "      <td>4.163242</td>\n",
              "      <td>153.0</td>\n",
              "      <td>68.0</td>\n",
              "      <td>80.996751</td>\n",
              "      <td>0.000304</td>\n",
              "      <td>0.000761</td>\n",
              "      <td>0.000008</td>\n",
              "      <td>0.000003</td>\n",
              "      <td>4.306302</td>\n",
              "      <td>23.987170</td>\n",
              "      <td>0.005461</td>\n",
              "      <td>0.000004</td>\n",
              "      <td>0.000815</td>\n",
              "      <td>1024.283951</td>\n",
              "      <td>305.437114</td>\n",
              "      <td>1130.0</td>\n",
              "      <td>0.0000</td>\n",
              "      <td>-2.530731</td>\n",
              "      <td>4.560583</td>\n",
              "      <td>1130.0</td>\n",
              "      <td>70.0</td>\n",
              "      <td>1068.315352</td>\n",
              "      <td>0.000259</td>\n",
              "      <td>0.000689</td>\n",
              "      <td>0.000010</td>\n",
              "      <td>0.000006</td>\n",
              "      <td>4.837368</td>\n",
              "      <td>30.487131</td>\n",
              "      <td>0.005453</td>\n",
              "      <td>0.000004</td>\n",
              "      <td>0.000733</td>\n",
              "      <td>844.40</td>\n",
              "      <td>463.502542</td>\n",
              "      <td>1130.0</td>\n",
              "      <td>0.0000</td>\n",
              "      <td>-0.997660</td>\n",
              "      <td>-0.992121</td>\n",
              "      <td>1130.0</td>\n",
              "      <td>68.0</td>\n",
              "      <td>962.131810</td>\n",
              "      <td>1.0</td>\n",
              "    </tr>\n",
              "  </tbody>\n",
              "</table>\n",
              "<p>1751 rows × 55 columns</p>\n",
              "</div>"
            ],
            "text/plain": [
              "      uplink_size_mean  ...  label\n",
              "0             0.013633  ...    1.0\n",
              "1             0.176876  ...    0.0\n",
              "2             0.003496  ...    1.0\n",
              "3             0.004229  ...    1.0\n",
              "4             0.003080  ...    1.0\n",
              "...                ...  ...    ...\n",
              "1746          0.168442  ...    0.0\n",
              "1747          0.019276  ...    0.0\n",
              "1748          0.003944  ...    1.0\n",
              "1749          0.090587  ...    0.0\n",
              "1750          0.001323  ...    1.0\n",
              "\n",
              "[1751 rows x 55 columns]"
            ]
          },
          "metadata": {},
          "execution_count": 9
        }
      ]
    },
    {
      "cell_type": "markdown",
      "metadata": {
        "id": "eagT7gj0mNQI"
      },
      "source": [
        "Recherche du nombre de variables portant l'information, on peut voir ici que seulement 9 variables sont nécessaire pour traiter l'intégralité des données dans une classification "
      ]
    },
    {
      "cell_type": "code",
      "metadata": {
        "colab": {
          "base_uri": "https://localhost:8080/",
          "height": 265
        },
        "id": "VSCrLDlymHv4",
        "outputId": "a3bba592-8342-4420-de9e-3d6fa4b06c23"
      },
      "source": [
        "from sklearn.decomposition import PCA\n",
        "\n",
        "mypca = PCA(n_components=55) # On paramètre ici pour ne garder que 55 composantes\n",
        "\n",
        "mypca.fit(data_tr)\n",
        "mypca.singular_values_ # Valeurs de variance\n",
        "\n",
        "mypca.explained_variance_ratio_ #  Pourcentages\n",
        "\n",
        "mypca.components_ # \n",
        "data_sortie= mypca.fit_transform(data_tr)\n",
        "mypca.noise_variance_\n",
        "\n",
        "y = list(mypca.explained_variance_ratio_)\n",
        "\n",
        "x = range(len(y))\n",
        "\n",
        "ycum = np.cumsum(y)\n",
        "\n",
        "plt.bar(x,y)\n",
        "\n",
        "plt.plot(x,ycum,\"-r\")\n",
        "\n",
        "plt.show()"
      ],
      "execution_count": null,
      "outputs": [
        {
          "output_type": "display_data",
          "data": {
            "image/png": "[encoded data removed]",
            "text/plain": [
              "<Figure size 432x288 with 1 Axes>"
            ]
          },
          "metadata": {
            "needs_background": "light"
          }
        }
      ]
    },
    {
      "cell_type": "markdown",
      "metadata": {
        "id": "s1QcYaBUTwzw"
      },
      "source": [
        "## Correlations"
      ]
    },
    {
      "cell_type": "code",
      "metadata": {
        "colab": {
          "base_uri": "https://localhost:8080/",
          "height": 548
        },
        "id": "o7aFG7AWT2me",
        "outputId": "69755ce9-7a59-40d3-f414-cbed39dab351"
      },
      "source": [
        "mean_med_col = [col for col in col_names if re.search('\\_mean$|\\_median$|label$',col)] # Colonnes moyennes et medianes\n",
        "mean_med_tr = data_tr[mean_med_col]\n",
        "mean_med_tr.label = mean_med_tr.label.astype(int)\n",
        "mean_med_tr"
      ],
      "execution_count": null,
      "outputs": [
        {
          "output_type": "stream",
          "name": "stderr",
          "text": [
            "/usr/local/lib/python3.7/dist-packages/pandas/core/generic.py:5170: SettingWithCopyWarning: \n",
            "A value is trying to be set on a copy of a slice from a DataFrame.\n",
            "Try using .loc[row_indexer,col_indexer] = value instead\n",
            "\n",
            "See the caveats in the documentation: https://pandas.pydata.org/pandas-docs/stable/user_guide/indexing.html#returning-a-view-versus-a-copy\n",
            "  self[name] = value\n"
          ]
        },
        {
          "output_type": "execute_result",
          "data": {
            "text/html": [
              "<div>\n",
              "<style scoped>\n",
              "    .dataframe tbody tr th:only-of-type {\n",
              "        vertical-align: middle;\n",
              "    }\n",
              "\n",
              "    .dataframe tbody tr th {\n",
              "        vertical-align: top;\n",
              "    }\n",
              "\n",
              "    .dataframe thead th {\n",
              "        text-align: right;\n",
              "    }\n",
              "</style>\n",
              "<table border=\"1\" class=\"dataframe\">\n",
              "  <thead>\n",
              "    <tr style=\"text-align: right;\">\n",
              "      <th></th>\n",
              "      <th>uplink_size_mean</th>\n",
              "      <th>uplink_size_median</th>\n",
              "      <th>downlink_size_mean</th>\n",
              "      <th>downlink_size_median</th>\n",
              "      <th>both_links_size_mean</th>\n",
              "      <th>both_links_size_median</th>\n",
              "      <th>uplink_interval_mean</th>\n",
              "      <th>uplink_interval_median</th>\n",
              "      <th>downlink_interval_mean</th>\n",
              "      <th>downlink_interval_median</th>\n",
              "      <th>both_links_interval_mean</th>\n",
              "      <th>both_links_interval_median</th>\n",
              "      <th>label</th>\n",
              "    </tr>\n",
              "  </thead>\n",
              "  <tbody>\n",
              "    <tr>\n",
              "      <th>0</th>\n",
              "      <td>0.013633</td>\n",
              "      <td>0.009907</td>\n",
              "      <td>113.612245</td>\n",
              "      <td>32.643157</td>\n",
              "      <td>0.013402</td>\n",
              "      <td>0.009805</td>\n",
              "      <td>136.078431</td>\n",
              "      <td>205.772966</td>\n",
              "      <td>0.006835</td>\n",
              "      <td>0.009674</td>\n",
              "      <td>125.07</td>\n",
              "      <td>148.422224</td>\n",
              "      <td>1</td>\n",
              "    </tr>\n",
              "    <tr>\n",
              "      <th>1</th>\n",
              "      <td>0.176876</td>\n",
              "      <td>0.328222</td>\n",
              "      <td>487.000000</td>\n",
              "      <td>392.264657</td>\n",
              "      <td>0.128085</td>\n",
              "      <td>0.254164</td>\n",
              "      <td>308.827586</td>\n",
              "      <td>214.947496</td>\n",
              "      <td>0.074292</td>\n",
              "      <td>0.198067</td>\n",
              "      <td>383.66</td>\n",
              "      <td>313.268698</td>\n",
              "      <td>0</td>\n",
              "    </tr>\n",
              "    <tr>\n",
              "      <th>2</th>\n",
              "      <td>0.003496</td>\n",
              "      <td>0.004608</td>\n",
              "      <td>96.857143</td>\n",
              "      <td>22.093596</td>\n",
              "      <td>0.001428</td>\n",
              "      <td>0.003718</td>\n",
              "      <td>588.986111</td>\n",
              "      <td>413.681973</td>\n",
              "      <td>0.001042</td>\n",
              "      <td>0.002882</td>\n",
              "      <td>451.19</td>\n",
              "      <td>414.950105</td>\n",
              "      <td>1</td>\n",
              "    </tr>\n",
              "    <tr>\n",
              "      <th>3</th>\n",
              "      <td>0.004229</td>\n",
              "      <td>0.005576</td>\n",
              "      <td>98.225806</td>\n",
              "      <td>28.208403</td>\n",
              "      <td>0.001919</td>\n",
              "      <td>0.005633</td>\n",
              "      <td>599.434783</td>\n",
              "      <td>376.788148</td>\n",
              "      <td>0.001324</td>\n",
              "      <td>0.003575</td>\n",
              "      <td>444.06</td>\n",
              "      <td>389.912910</td>\n",
              "      <td>1</td>\n",
              "    </tr>\n",
              "    <tr>\n",
              "      <th>4</th>\n",
              "      <td>0.003080</td>\n",
              "      <td>0.005691</td>\n",
              "      <td>96.533333</td>\n",
              "      <td>27.042410</td>\n",
              "      <td>0.001326</td>\n",
              "      <td>0.004443</td>\n",
              "      <td>649.371429</td>\n",
              "      <td>376.682782</td>\n",
              "      <td>0.000933</td>\n",
              "      <td>0.003334</td>\n",
              "      <td>483.52</td>\n",
              "      <td>404.892316</td>\n",
              "      <td>1</td>\n",
              "    </tr>\n",
              "    <tr>\n",
              "      <th>...</th>\n",
              "      <td>...</td>\n",
              "      <td>...</td>\n",
              "      <td>...</td>\n",
              "      <td>...</td>\n",
              "      <td>...</td>\n",
              "      <td>...</td>\n",
              "      <td>...</td>\n",
              "      <td>...</td>\n",
              "      <td>...</td>\n",
              "      <td>...</td>\n",
              "      <td>...</td>\n",
              "      <td>...</td>\n",
              "      <td>...</td>\n",
              "    </tr>\n",
              "    <tr>\n",
              "      <th>1746</th>\n",
              "      <td>0.168442</td>\n",
              "      <td>0.449148</td>\n",
              "      <td>248.868421</td>\n",
              "      <td>22.409181</td>\n",
              "      <td>0.101848</td>\n",
              "      <td>0.321320</td>\n",
              "      <td>390.225806</td>\n",
              "      <td>295.854163</td>\n",
              "      <td>0.064008</td>\n",
              "      <td>0.256044</td>\n",
              "      <td>336.51</td>\n",
              "      <td>242.642544</td>\n",
              "      <td>0</td>\n",
              "    </tr>\n",
              "    <tr>\n",
              "      <th>1747</th>\n",
              "      <td>0.019276</td>\n",
              "      <td>0.023218</td>\n",
              "      <td>353.000000</td>\n",
              "      <td>250.000000</td>\n",
              "      <td>0.471743</td>\n",
              "      <td>4.252675</td>\n",
              "      <td>481.833333</td>\n",
              "      <td>437.711433</td>\n",
              "      <td>0.452873</td>\n",
              "      <td>4.166910</td>\n",
              "      <td>476.68</td>\n",
              "      <td>431.726739</td>\n",
              "      <td>0</td>\n",
              "    </tr>\n",
              "    <tr>\n",
              "      <th>1748</th>\n",
              "      <td>0.003944</td>\n",
              "      <td>0.005735</td>\n",
              "      <td>97.437500</td>\n",
              "      <td>27.035147</td>\n",
              "      <td>0.001856</td>\n",
              "      <td>0.004926</td>\n",
              "      <td>594.117647</td>\n",
              "      <td>376.928733</td>\n",
              "      <td>0.001262</td>\n",
              "      <td>0.003465</td>\n",
              "      <td>435.18</td>\n",
              "      <td>388.076072</td>\n",
              "      <td>1</td>\n",
              "    </tr>\n",
              "    <tr>\n",
              "      <th>1749</th>\n",
              "      <td>0.090587</td>\n",
              "      <td>0.253379</td>\n",
              "      <td>301.333333</td>\n",
              "      <td>65.319726</td>\n",
              "      <td>0.028760</td>\n",
              "      <td>0.116793</td>\n",
              "      <td>1625.684211</td>\n",
              "      <td>200.982401</td>\n",
              "      <td>0.021857</td>\n",
              "      <td>0.096867</td>\n",
              "      <td>1307.84</td>\n",
              "      <td>595.597565</td>\n",
              "      <td>0</td>\n",
              "    </tr>\n",
              "    <tr>\n",
              "      <th>1750</th>\n",
              "      <td>0.001323</td>\n",
              "      <td>0.001244</td>\n",
              "      <td>77.526316</td>\n",
              "      <td>24.097875</td>\n",
              "      <td>0.000304</td>\n",
              "      <td>0.000761</td>\n",
              "      <td>1024.283951</td>\n",
              "      <td>305.437114</td>\n",
              "      <td>0.000259</td>\n",
              "      <td>0.000689</td>\n",
              "      <td>844.40</td>\n",
              "      <td>463.502542</td>\n",
              "      <td>1</td>\n",
              "    </tr>\n",
              "  </tbody>\n",
              "</table>\n",
              "<p>1751 rows × 13 columns</p>\n",
              "</div>"
            ],
            "text/plain": [
              "      uplink_size_mean  uplink_size_median  ...  both_links_interval_median  label\n",
              "0             0.013633            0.009907  ...                  148.422224      1\n",
              "1             0.176876            0.328222  ...                  313.268698      0\n",
              "2             0.003496            0.004608  ...                  414.950105      1\n",
              "3             0.004229            0.005576  ...                  389.912910      1\n",
              "4             0.003080            0.005691  ...                  404.892316      1\n",
              "...                ...                 ...  ...                         ...    ...\n",
              "1746          0.168442            0.449148  ...                  242.642544      0\n",
              "1747          0.019276            0.023218  ...                  431.726739      0\n",
              "1748          0.003944            0.005735  ...                  388.076072      1\n",
              "1749          0.090587            0.253379  ...                  595.597565      0\n",
              "1750          0.001323            0.001244  ...                  463.502542      1\n",
              "\n",
              "[1751 rows x 13 columns]"
            ]
          },
          "metadata": {},
          "execution_count": 10
        }
      ]
    },
    {
      "cell_type": "code",
      "metadata": {
        "id": "skOR3NjEV8YK"
      },
      "source": [
        "corr_m = mean_med_tr.corr()"
      ],
      "execution_count": null,
      "outputs": []
    },
    {
      "cell_type": "code",
      "metadata": {
        "colab": {
          "base_uri": "https://localhost:8080/",
          "height": 630
        },
        "id": "D_tHNTcHUEG8",
        "outputId": "7b03df89-63b2-4e2a-d6c9-cc7ef57cd677"
      },
      "source": [
        "# Matrice de corrélation\n",
        "fig,ax = plt.subplots(figsize = (20,8))\n",
        "sns.heatmap(corr_m,)"
      ],
      "execution_count": null,
      "outputs": [
        {
          "output_type": "execute_result",
          "data": {
            "text/plain": [
              "<matplotlib.axes._subplots.AxesSubplot at 0x7fc0c13f38d0>"
            ]
          },
          "metadata": {},
          "execution_count": 12
        },
        {
          "output_type": "display_data",
          "data": {
            "image/png": "[encoded data removed]",
            "text/plain": [
              "<Figure size 1440x576 with 2 Axes>"
            ]
          },
          "metadata": {
            "needs_background": "light"
          }
        }
      ]
    },
    {
      "cell_type": "code",
      "metadata": {
        "colab": {
          "base_uri": "https://localhost:8080/",
          "height": 500
        },
        "id": "rMFBVlDogvCg",
        "outputId": "b83aa594-28a2-4703-842f-dcfc7dd11851"
      },
      "source": [
        "fig,ax = plt.subplots(figsize = (20,8))\n",
        "ax.scatter(x = mean_med_tr.downlink_size_mean,y = mean_med_tr.label,c = mean_med_tr.label)"
      ],
      "execution_count": null,
      "outputs": [
        {
          "output_type": "execute_result",
          "data": {
            "text/plain": [
              "<matplotlib.collections.PathCollection at 0x7fc0c1822450>"
            ]
          },
          "metadata": {},
          "execution_count": 13
        },
        {
          "output_type": "display_data",
          "data": {
            "image/png": "[encoded data removed]",
            "text/plain": [
              "<Figure size 1440x576 with 1 Axes>"
            ]
          },
          "metadata": {
            "needs_background": "light"
          }
        }
      ]
    },
    {
      "cell_type": "code",
      "metadata": {
        "colab": {
          "base_uri": "https://localhost:8080/",
          "height": 1000
        },
        "id": "XO9mKkYPmUH9",
        "outputId": "67087d03-19c1-4113-b4b0-43813c5a3840"
      },
      "source": [
        "nrc = int((len(mean_med_col)-1)/2)\n",
        "fig,ax = plt.subplots(nrc,2,figsize = (20,20))\n",
        "#ax[0][0].scatter(x = mean_med_tr.downlink_size_mean,y = mean_med_tr.label,c = mean_med_tr.label)\n",
        "for i in range(nrc*2):\n",
        "    col = mean_med_col[i]\n",
        "    j = 0 if i%2 == 0 else 1 \n",
        "    ax[i//2,j].scatter(x = mean_med_tr[col],y = mean_med_tr.label, c = mean_med_tr.label)\n",
        "    ax[i//2,j].set_xlabel(col)\n",
        "    ax[i//2,j].set_ylabel('label')"
      ],
      "execution_count": null,
      "outputs": [
        {
          "output_type": "display_data",
          "data": {
            "image/png": "[encoded data removed]",
            "text/plain": [
              "<Figure size 1440x1440 with 12 Axes>"
            ]
          },
          "metadata": {
            "needs_background": "light"
          }
        }
      ]
    },
    {
      "cell_type": "code",
      "metadata": {
        "id": "4MJt8tZXOg_D"
      },
      "source": [
        "# Proportions de labels dans le dataset tr\n",
        "fig,ax = plt.subplots(figsize = (10,4))\n",
        "x = (mean_med_tr.label.value_counts()/100) \n",
        "y = mean_med_tr.label.drop_duplicates()\n",
        "ax.pie(x,labels = y,autopct= '%.2f')"
      ],
      "execution_count": null,
      "outputs": []
    },
    {
      "cell_type": "markdown",
      "metadata": {
        "id": "GOeRWigTO_mZ"
      },
      "source": [
        "## Machine Learning (Classification techniques)\n"
      ]
    },
    {
      "cell_type": "markdown",
      "metadata": {
        "id": "VcOaeP_uYOI9"
      },
      "source": [
        "### Scaling\n"
      ]
    },
    {
      "cell_type": "code",
      "metadata": {
        "id": "dnuveWCfjPEv",
        "colab": {
          "base_uri": "https://localhost:8080/",
          "height": 701
        },
        "outputId": "1e70ff63-175f-4ce6-e3db-c2986aa7d8f9"
      },
      "source": [
        "col_to_sc = [col for col in list(mean_med_tr.columns) if re.search('\\_size_mean$|\\_size_median$',col)]\n",
        "scaler = StandardScaler()\n",
        "mean_med_tr_sc = mean_med_tr[col_to_sc]\n",
        "mean_med_tr_sc[col_to_sc] = scaler.fit_transform(mean_med_tr_sc[col_to_sc])\n",
        "mean_med_tr_sc"
      ],
      "execution_count": null,
      "outputs": [
        {
          "output_type": "stream",
          "name": "stderr",
          "text": [
            "/usr/local/lib/python3.7/dist-packages/ipykernel_launcher.py:4: SettingWithCopyWarning: \n",
            "A value is trying to be set on a copy of a slice from a DataFrame.\n",
            "Try using .loc[row_indexer,col_indexer] = value instead\n",
            "\n",
            "See the caveats in the documentation: https://pandas.pydata.org/pandas-docs/stable/user_guide/indexing.html#returning-a-view-versus-a-copy\n",
            "  after removing the cwd from sys.path.\n",
            "/usr/local/lib/python3.7/dist-packages/pandas/core/frame.py:3076: SettingWithCopyWarning: \n",
            "A value is trying to be set on a copy of a slice from a DataFrame\n",
            "\n",
            "See the caveats in the documentation: https://pandas.pydata.org/pandas-docs/stable/user_guide/indexing.html#returning-a-view-versus-a-copy\n",
            "  self.iloc._setitem_with_indexer((slice(None), indexer), value)\n",
            "/usr/local/lib/python3.7/dist-packages/pandas/core/frame.py:3041: SettingWithCopyWarning: \n",
            "A value is trying to be set on a copy of a slice from a DataFrame\n",
            "\n",
            "See the caveats in the documentation: https://pandas.pydata.org/pandas-docs/stable/user_guide/indexing.html#returning-a-view-versus-a-copy\n",
            "  self._setitem_array(key, value)\n"
          ]
        },
        {
          "output_type": "execute_result",
          "data": {
            "text/html": [
              "<div>\n",
              "<style scoped>\n",
              "    .dataframe tbody tr th:only-of-type {\n",
              "        vertical-align: middle;\n",
              "    }\n",
              "\n",
              "    .dataframe tbody tr th {\n",
              "        vertical-align: top;\n",
              "    }\n",
              "\n",
              "    .dataframe thead th {\n",
              "        text-align: right;\n",
              "    }\n",
              "</style>\n",
              "<table border=\"1\" class=\"dataframe\">\n",
              "  <thead>\n",
              "    <tr style=\"text-align: right;\">\n",
              "      <th></th>\n",
              "      <th>uplink_size_mean</th>\n",
              "      <th>uplink_size_median</th>\n",
              "      <th>downlink_size_mean</th>\n",
              "      <th>downlink_size_median</th>\n",
              "      <th>both_links_size_mean</th>\n",
              "      <th>both_links_size_median</th>\n",
              "    </tr>\n",
              "  </thead>\n",
              "  <tbody>\n",
              "    <tr>\n",
              "      <th>0</th>\n",
              "      <td>-0.087521</td>\n",
              "      <td>-0.084440</td>\n",
              "      <td>-0.542954</td>\n",
              "      <td>-0.528983</td>\n",
              "      <td>-0.091042</td>\n",
              "      <td>-0.082301</td>\n",
              "    </tr>\n",
              "    <tr>\n",
              "      <th>1</th>\n",
              "      <td>-0.078877</td>\n",
              "      <td>-0.080486</td>\n",
              "      <td>0.805062</td>\n",
              "      <td>1.411367</td>\n",
              "      <td>-0.078719</td>\n",
              "      <td>-0.078381</td>\n",
              "    </tr>\n",
              "    <tr>\n",
              "      <th>2</th>\n",
              "      <td>-0.088058</td>\n",
              "      <td>-0.084506</td>\n",
              "      <td>-0.603444</td>\n",
              "      <td>-0.585904</td>\n",
              "      <td>-0.092329</td>\n",
              "      <td>-0.082398</td>\n",
              "    </tr>\n",
              "    <tr>\n",
              "      <th>3</th>\n",
              "      <td>-0.088019</td>\n",
              "      <td>-0.084494</td>\n",
              "      <td>-0.598502</td>\n",
              "      <td>-0.552911</td>\n",
              "      <td>-0.092276</td>\n",
              "      <td>-0.082368</td>\n",
              "    </tr>\n",
              "    <tr>\n",
              "      <th>4</th>\n",
              "      <td>-0.088080</td>\n",
              "      <td>-0.084493</td>\n",
              "      <td>-0.604613</td>\n",
              "      <td>-0.559202</td>\n",
              "      <td>-0.092340</td>\n",
              "      <td>-0.082387</td>\n",
              "    </tr>\n",
              "    <tr>\n",
              "      <th>...</th>\n",
              "      <td>...</td>\n",
              "      <td>...</td>\n",
              "      <td>...</td>\n",
              "      <td>...</td>\n",
              "      <td>...</td>\n",
              "      <td>...</td>\n",
              "    </tr>\n",
              "    <tr>\n",
              "      <th>1746</th>\n",
              "      <td>-0.079324</td>\n",
              "      <td>-0.078984</td>\n",
              "      <td>-0.054648</td>\n",
              "      <td>-0.584201</td>\n",
              "      <td>-0.081538</td>\n",
              "      <td>-0.077303</td>\n",
              "    </tr>\n",
              "    <tr>\n",
              "      <th>1747</th>\n",
              "      <td>-0.087222</td>\n",
              "      <td>-0.084275</td>\n",
              "      <td>0.321291</td>\n",
              "      <td>0.643773</td>\n",
              "      <td>-0.041793</td>\n",
              "      <td>-0.014237</td>\n",
              "    </tr>\n",
              "    <tr>\n",
              "      <th>1748</th>\n",
              "      <td>-0.088034</td>\n",
              "      <td>-0.084492</td>\n",
              "      <td>-0.601348</td>\n",
              "      <td>-0.559241</td>\n",
              "      <td>-0.092283</td>\n",
              "      <td>-0.082379</td>\n",
              "    </tr>\n",
              "    <tr>\n",
              "      <th>1749</th>\n",
              "      <td>-0.083446</td>\n",
              "      <td>-0.081416</td>\n",
              "      <td>0.134763</td>\n",
              "      <td>-0.352676</td>\n",
              "      <td>-0.089392</td>\n",
              "      <td>-0.080584</td>\n",
              "    </tr>\n",
              "    <tr>\n",
              "      <th>1750</th>\n",
              "      <td>-0.088173</td>\n",
              "      <td>-0.084548</td>\n",
              "      <td>-0.673232</td>\n",
              "      <td>-0.575089</td>\n",
              "      <td>-0.092449</td>\n",
              "      <td>-0.082446</td>\n",
              "    </tr>\n",
              "  </tbody>\n",
              "</table>\n",
              "<p>1751 rows × 6 columns</p>\n",
              "</div>"
            ],
            "text/plain": [
              "      uplink_size_mean  ...  both_links_size_median\n",
              "0            -0.087521  ...               -0.082301\n",
              "1            -0.078877  ...               -0.078381\n",
              "2            -0.088058  ...               -0.082398\n",
              "3            -0.088019  ...               -0.082368\n",
              "4            -0.088080  ...               -0.082387\n",
              "...                ...  ...                     ...\n",
              "1746         -0.079324  ...               -0.077303\n",
              "1747         -0.087222  ...               -0.014237\n",
              "1748         -0.088034  ...               -0.082379\n",
              "1749         -0.083446  ...               -0.080584\n",
              "1750         -0.088173  ...               -0.082446\n",
              "\n",
              "[1751 rows x 6 columns]"
            ]
          },
          "metadata": {},
          "execution_count": 16
        }
      ]
    },
    {
      "cell_type": "code",
      "metadata": {
        "id": "DI4jzQa1aZcy",
        "colab": {
          "base_uri": "https://localhost:8080/"
        },
        "outputId": "fe4ddd55-8aa1-48b6-b431-70f7b655fdc2"
      },
      "source": [
        "mean_med_te_sc = data_te[col_to_sc]\n",
        "mean_med_te_sc[col_to_sc] = scaler.fit_transform(mean_med_te_sc[col_to_sc])"
      ],
      "execution_count": null,
      "outputs": [
        {
          "output_type": "stream",
          "name": "stderr",
          "text": [
            "/usr/local/lib/python3.7/dist-packages/ipykernel_launcher.py:2: SettingWithCopyWarning: \n",
            "A value is trying to be set on a copy of a slice from a DataFrame.\n",
            "Try using .loc[row_indexer,col_indexer] = value instead\n",
            "\n",
            "See the caveats in the documentation: https://pandas.pydata.org/pandas-docs/stable/user_guide/indexing.html#returning-a-view-versus-a-copy\n",
            "  \n",
            "/usr/local/lib/python3.7/dist-packages/pandas/core/frame.py:3076: SettingWithCopyWarning: \n",
            "A value is trying to be set on a copy of a slice from a DataFrame\n",
            "\n",
            "See the caveats in the documentation: https://pandas.pydata.org/pandas-docs/stable/user_guide/indexing.html#returning-a-view-versus-a-copy\n",
            "  self.iloc._setitem_with_indexer((slice(None), indexer), value)\n",
            "/usr/local/lib/python3.7/dist-packages/pandas/core/frame.py:3041: SettingWithCopyWarning: \n",
            "A value is trying to be set on a copy of a slice from a DataFrame\n",
            "\n",
            "See the caveats in the documentation: https://pandas.pydata.org/pandas-docs/stable/user_guide/indexing.html#returning-a-view-versus-a-copy\n",
            "  self._setitem_array(key, value)\n"
          ]
        }
      ]
    },
    {
      "cell_type": "markdown",
      "metadata": {
        "id": "vzTCnCo_dDj9"
      },
      "source": [
        "### Preparing train and test data"
      ]
    },
    {
      "cell_type": "code",
      "metadata": {
        "id": "9sHt5OGbdStc"
      },
      "source": [
        "X_tr = mean_med_tr[col_to_sc]\n",
        "y_tr = mean_med_tr['label']\n",
        "X_te = data_te[col_to_sc]\n",
        "y_te = data_te['label']"
      ],
      "execution_count": null,
      "outputs": []
    },
    {
      "cell_type": "markdown",
      "metadata": {
        "id": "fyMYsTg9if4F"
      },
      "source": [
        "### Using logistic regression"
      ]
    },
    {
      "cell_type": "code",
      "metadata": {
        "colab": {
          "base_uri": "https://localhost:8080/"
        },
        "id": "t5PJr3IJil_Z",
        "outputId": "4f21f047-d1e8-4be4-f646-8f2c88827106"
      },
      "source": [
        "from sklearn.linear_model import LogisticRegression\n",
        "clf_reg = make_pipeline(StandardScaler(),LogisticRegression())\n",
        "clf_reg.fit(X_tr,y_tr)"
      ],
      "execution_count": null,
      "outputs": [
        {
          "output_type": "execute_result",
          "data": {
            "text/plain": [
              "Pipeline(steps=[('standardscaler', StandardScaler()),\n",
              "                ('logisticregression', LogisticRegression())])"
            ]
          },
          "metadata": {},
          "execution_count": 19
        }
      ]
    },
    {
      "cell_type": "code",
      "metadata": {
        "colab": {
          "base_uri": "https://localhost:8080/"
        },
        "id": "gESGjV1PjShw",
        "outputId": "980bb5e8-72d3-49ec-fee3-88f1db56b772"
      },
      "source": [
        "clf_reg.score(X_tr,y_tr)"
      ],
      "execution_count": null,
      "outputs": [
        {
          "output_type": "execute_result",
          "data": {
            "text/plain": [
              "0.9994288977727013"
            ]
          },
          "metadata": {},
          "execution_count": 20
        }
      ]
    },
    {
      "cell_type": "code",
      "metadata": {
        "colab": {
          "base_uri": "https://localhost:8080/"
        },
        "id": "i-4KZ8xejYtx",
        "outputId": "8d436d2f-7cd0-4863-be46-705931aec769"
      },
      "source": [
        "clf_reg.score(X_te,y_te)"
      ],
      "execution_count": null,
      "outputs": [
        {
          "output_type": "execute_result",
          "data": {
            "text/plain": [
              "0.9993193034205003"
            ]
          },
          "metadata": {},
          "execution_count": 21
        }
      ]
    },
    {
      "cell_type": "code",
      "metadata": {
        "colab": {
          "base_uri": "https://localhost:8080/"
        },
        "id": "FldOTGzAkiO5",
        "outputId": "d26fa1fa-4066-4c22-bf53-0fee311adb8d"
      },
      "source": [
        "scores = cross_val_score(clf_reg,X_tr,y_tr,cv = 5)\n",
        "scores"
      ],
      "execution_count": null,
      "outputs": [
        {
          "output_type": "execute_result",
          "data": {
            "text/plain": [
              "array([1.        , 1.        , 1.        , 0.99714286, 1.        ])"
            ]
          },
          "metadata": {},
          "execution_count": 22
        }
      ]
    },
    {
      "cell_type": "code",
      "metadata": {
        "colab": {
          "base_uri": "https://localhost:8080/"
        },
        "id": "R-hLGXjukqBY",
        "outputId": "856feb46-1f4f-4013-812e-d64e1db8477a"
      },
      "source": [
        "scores2 = cross_val_score(clf_reg,X_te,y_te,cv = 5)\n",
        "scores2"
      ],
      "execution_count": null,
      "outputs": [
        {
          "output_type": "execute_result",
          "data": {
            "text/plain": [
              "array([1.        , 0.99971639, 0.99971639, 0.99943279, 0.99914894])"
            ]
          },
          "metadata": {},
          "execution_count": 23
        }
      ]
    },
    {
      "cell_type": "markdown",
      "metadata": {
        "id": "p0agEZKQcdaK"
      },
      "source": [
        "### Using SVC classifier"
      ]
    },
    {
      "cell_type": "code",
      "metadata": {
        "colab": {
          "base_uri": "https://localhost:8080/"
        },
        "id": "HNujW0Qhcuep",
        "outputId": "99b60c48-4259-421a-9bda-b5c8d264c660"
      },
      "source": [
        "from sklearn.svm import SVC\n",
        "clf_svc = make_pipeline(StandardScaler(),SVC(kernel = 'linear'))\n",
        "clf_svc.fit(X_tr,y_tr)"
      ],
      "execution_count": null,
      "outputs": [
        {
          "output_type": "execute_result",
          "data": {
            "text/plain": [
              "Pipeline(steps=[('standardscaler', StandardScaler()),\n",
              "                ('svc', SVC(kernel='linear'))])"
            ]
          },
          "metadata": {},
          "execution_count": 24
        }
      ]
    },
    {
      "cell_type": "code",
      "metadata": {
        "id": "JlgDVJ4Pd9Te",
        "colab": {
          "base_uri": "https://localhost:8080/"
        },
        "outputId": "52b71405-ce12-4f29-c514-60bcc200958c"
      },
      "source": [
        "clf_svc.score(X_tr,y_tr)"
      ],
      "execution_count": null,
      "outputs": [
        {
          "output_type": "execute_result",
          "data": {
            "text/plain": [
              "1.0"
            ]
          },
          "metadata": {},
          "execution_count": 25
        }
      ]
    },
    {
      "cell_type": "code",
      "metadata": {
        "colab": {
          "base_uri": "https://localhost:8080/"
        },
        "id": "UR8_KvRGeJvg",
        "outputId": "1928b141-6cb9-480a-bc5c-bd384b8616d6"
      },
      "source": [
        "clf_svc.score(X_te,y_te)"
      ],
      "execution_count": null,
      "outputs": [
        {
          "output_type": "execute_result",
          "data": {
            "text/plain": [
              "1.0"
            ]
          },
          "metadata": {},
          "execution_count": 26
        }
      ]
    },
    {
      "cell_type": "code",
      "metadata": {
        "id": "Oo7NLkrsejfW"
      },
      "source": [
        "y_pre_svc = clf_svc.predict(X_te)"
      ],
      "execution_count": null,
      "outputs": []
    },
    {
      "cell_type": "code",
      "metadata": {
        "colab": {
          "base_uri": "https://localhost:8080/"
        },
        "id": "bSl3xhSSerzg",
        "outputId": "9cccdb11-6c08-4f97-a7fc-b0ba84f04b25"
      },
      "source": [
        "np.array_equal(y_pre_svc,y_te)"
      ],
      "execution_count": null,
      "outputs": [
        {
          "output_type": "execute_result",
          "data": {
            "text/plain": [
              "True"
            ]
          },
          "metadata": {},
          "execution_count": 28
        }
      ]
    },
    {
      "cell_type": "code",
      "metadata": {
        "colab": {
          "base_uri": "https://localhost:8080/"
        },
        "id": "q3wIeLh7fV4A",
        "outputId": "035e452a-c4e6-4c2f-a6dd-3522a27c843b"
      },
      "source": [
        "scores = cross_val_score(clf_svc,X_tr,y_tr,cv = 5)\n",
        "scores"
      ],
      "execution_count": null,
      "outputs": [
        {
          "output_type": "execute_result",
          "data": {
            "text/plain": [
              "array([1., 1., 1., 1., 1.])"
            ]
          },
          "metadata": {},
          "execution_count": 29
        }
      ]
    },
    {
      "cell_type": "code",
      "metadata": {
        "colab": {
          "base_uri": "https://localhost:8080/"
        },
        "id": "sqBrsNVAfdVB",
        "outputId": "f56e460c-43f5-4b6c-e4e2-743b64c1b69d"
      },
      "source": [
        "scores2 = cross_val_score(clf_svc,X_te,y_te,cv = 5)\n",
        "scores2"
      ],
      "execution_count": null,
      "outputs": [
        {
          "output_type": "execute_result",
          "data": {
            "text/plain": [
              "array([1., 1., 1., 1., 1.])"
            ]
          },
          "metadata": {},
          "execution_count": 30
        }
      ]
    },
    {
      "cell_type": "markdown",
      "metadata": {
        "id": "ViIN153nYS8T"
      },
      "source": [
        "### Using SGD Classifier"
      ]
    },
    {
      "cell_type": "code",
      "metadata": {
        "colab": {
          "base_uri": "https://localhost:8080/"
        },
        "id": "59251dndYoaH",
        "outputId": "3bf4c508-da3e-4a57-9589-154db2ef342a"
      },
      "source": [
        "# Fit the model with training data\n",
        "from sklearn.linear_model import SGDClassifier\n",
        "clf_sgd = make_pipeline(StandardScaler(),SGDClassifier())\n",
        "clf_sgd.fit(X_tr,y_tr)"
      ],
      "execution_count": null,
      "outputs": [
        {
          "output_type": "execute_result",
          "data": {
            "text/plain": [
              "Pipeline(steps=[('standardscaler', StandardScaler()),\n",
              "                ('sgdclassifier', SGDClassifier())])"
            ]
          },
          "metadata": {},
          "execution_count": 31
        }
      ]
    },
    {
      "cell_type": "code",
      "metadata": {
        "colab": {
          "base_uri": "https://localhost:8080/"
        },
        "id": "A0S2QrP0Z57-",
        "outputId": "0e6c901c-ac56-4098-e500-ffb1f849f048"
      },
      "source": [
        "# See the score for the training set\n",
        "clf_sgd.score(X_tr,y_tr)"
      ],
      "execution_count": null,
      "outputs": [
        {
          "output_type": "execute_result",
          "data": {
            "text/plain": [
              "1.0"
            ]
          },
          "metadata": {},
          "execution_count": 32
        }
      ]
    },
    {
      "cell_type": "code",
      "metadata": {
        "colab": {
          "base_uri": "https://localhost:8080/"
        },
        "id": "wLpvVREqaQMK",
        "outputId": "411e2059-25ed-4cf0-9201-7865aaa12c6f"
      },
      "source": [
        "# See the score for the test set\n",
        "clf_sgd.score(X_te,y_te)"
      ],
      "execution_count": null,
      "outputs": [
        {
          "output_type": "execute_result",
          "data": {
            "text/plain": [
              "1.0"
            ]
          },
          "metadata": {},
          "execution_count": 33
        }
      ]
    },
    {
      "cell_type": "code",
      "metadata": {
        "colab": {
          "base_uri": "https://localhost:8080/"
        },
        "id": "4Di9C7Z_bt2O",
        "outputId": "9b002309-a35b-4df8-8077-60995156d918"
      },
      "source": [
        "# Cross fold validation with training data set\n",
        "scores = cross_val_score(clf_sgd,X_tr,y_tr,cv = 5)\n",
        "scores"
      ],
      "execution_count": null,
      "outputs": [
        {
          "output_type": "execute_result",
          "data": {
            "text/plain": [
              "array([1., 1., 1., 1., 1.])"
            ]
          },
          "metadata": {},
          "execution_count": 34
        }
      ]
    },
    {
      "cell_type": "code",
      "metadata": {
        "colab": {
          "base_uri": "https://localhost:8080/"
        },
        "id": "gDoDg5o8cTeY",
        "outputId": "d79175d3-171e-457e-807b-d701b59558a8"
      },
      "source": [
        "# Cross fold validation with test data set\n",
        "scores2 = cross_val_score(clf_sgd,X_te,y_te,cv = 5)\n",
        "scores2"
      ],
      "execution_count": null,
      "outputs": [
        {
          "output_type": "execute_result",
          "data": {
            "text/plain": [
              "array([1.        , 0.99971639, 1.        , 1.        , 1.        ])"
            ]
          },
          "metadata": {},
          "execution_count": 35
        }
      ]
    },
    {
      "cell_type": "markdown",
      "metadata": {
        "id": "kcEZFtHLl0T5"
      },
      "source": [
        "# Dataset 2 "
      ]
    },
    {
      "cell_type": "markdown",
      "metadata": {
        "id": "m2EAIYEjl0T6"
      },
      "source": [
        "## Recupération des données (.mat) sous un dataframe"
      ]
    },
    {
      "cell_type": "code",
      "metadata": {
        "colab": {
          "base_uri": "https://localhost:8080/"
        },
        "id": "Y1Lrojzvl0T8",
        "outputId": "810788f3-4f09-433a-c402-700e7a6e186d"
      },
      "source": [
        "url = 'http://mason.gmu.edu/~lzhao9/materials/data/UAV/data/pub_dataset2.mat'\n",
        "r = requests.get(url, allow_redirects=True)\n",
        "open('pub_dataset2.mat', 'wb').write(r.content)"
      ],
      "execution_count": null,
      "outputs": [
        {
          "output_type": "execute_result",
          "data": {
            "text/plain": [
              "5554984"
            ]
          },
          "metadata": {},
          "execution_count": 36
        }
      ]
    },
    {
      "cell_type": "code",
      "metadata": {
        "id": "5rEGI-Cnl0T_"
      },
      "source": [
        "import h5py\n",
        "data_path2 = './pub_dataset2.mat'\n",
        "with h5py.File(data_path, 'r') as f:\n",
        "    data_tr = pd.DataFrame(data = f['data_tr']).T\n",
        "    data_te = pd.DataFrame(data = f['data_te']).T"
      ],
      "execution_count": null,
      "outputs": []
    },
    {
      "cell_type": "markdown",
      "metadata": {
        "id": "4GJB2YHRl0UA"
      },
      "source": [
        "## Renommage des colonnes"
      ]
    },
    {
      "cell_type": "code",
      "metadata": {
        "id": "s6uOlBrul0UB"
      },
      "source": [
        "url = 'https://archive.ics.uci.edu/ml/datasets/Unmanned+Aerial+Vehicle+%28UAV%29+Intrusion+Detection'\n",
        "response = requests.get(url)\n",
        "soup = BeautifulSoup(response.text,'html.parser')"
      ],
      "execution_count": null,
      "outputs": []
    },
    {
      "cell_type": "code",
      "metadata": {
        "id": "1cU0nJBpl0UB"
      },
      "source": [
        "cat = soup.find_all('p',{'class':'normal'})[21] # Tous les noms des colonnes"
      ],
      "execution_count": null,
      "outputs": []
    },
    {
      "cell_type": "code",
      "metadata": {
        "id": "9rNpSIokl0UC"
      },
      "source": [
        "cat = cat.get_text(separator = '<br/>',strip = True).split('<br/>')[1:] # Recup le texte propre"
      ],
      "execution_count": null,
      "outputs": []
    },
    {
      "cell_type": "code",
      "metadata": {
        "id": "3e9uSvhRl0UD"
      },
      "source": [
        "col_names = [(re.search('(?<=. )\\D+',c).group()) for c in cat]\n",
        "old_new_col = {i:col for i,col in enumerate(col_names)} # dictionnaire anciennes/nouvelles colonnes"
      ],
      "execution_count": null,
      "outputs": []
    },
    {
      "cell_type": "code",
      "metadata": {
        "id": "ftG0UoByl0UE"
      },
      "source": [
        "data_tr.rename(old_new_col,axis = 1,inplace = True)\n",
        "data_te.rename(old_new_col,axis = 1,inplace = True) # Renommage des colonnes"
      ],
      "execution_count": null,
      "outputs": []
    },
    {
      "cell_type": "code",
      "metadata": {
        "colab": {
          "base_uri": "https://localhost:8080/",
          "height": 443
        },
        "id": "1edvTGyLl0UE",
        "outputId": "a2714310-f4aa-4dcb-9a3a-f991ad29ab7f"
      },
      "source": [
        "data_tr"
      ],
      "execution_count": null,
      "outputs": [
        {
          "output_type": "execute_result",
          "data": {
            "text/html": [
              "<div>\n",
              "<style scoped>\n",
              "    .dataframe tbody tr th:only-of-type {\n",
              "        vertical-align: middle;\n",
              "    }\n",
              "\n",
              "    .dataframe tbody tr th {\n",
              "        vertical-align: top;\n",
              "    }\n",
              "\n",
              "    .dataframe thead th {\n",
              "        text-align: right;\n",
              "    }\n",
              "</style>\n",
              "<table border=\"1\" class=\"dataframe\">\n",
              "  <thead>\n",
              "    <tr style=\"text-align: right;\">\n",
              "      <th></th>\n",
              "      <th>uplink_size_mean</th>\n",
              "      <th>uplink_size_median</th>\n",
              "      <th>uplink_size_MAD</th>\n",
              "      <th>uplink_size_STD</th>\n",
              "      <th>uplink_size_Skewness</th>\n",
              "      <th>uplink_size_Kurtosis</th>\n",
              "      <th>uplink_size_MAX</th>\n",
              "      <th>uplink_size_MIN</th>\n",
              "      <th>uplink_size_MeanSquare</th>\n",
              "      <th>downlink_size_mean</th>\n",
              "      <th>downlink_size_median</th>\n",
              "      <th>downlink_size_MAD</th>\n",
              "      <th>downlink_size_STD</th>\n",
              "      <th>downlink_size_Skewness</th>\n",
              "      <th>downlink_size_Kurtosis</th>\n",
              "      <th>downlink_size_MAX</th>\n",
              "      <th>downlink_size_MIN</th>\n",
              "      <th>downlink_size_MeanSquare</th>\n",
              "      <th>both_links_size_mean</th>\n",
              "      <th>both_links_size_median</th>\n",
              "      <th>both_links_size_MAD</th>\n",
              "      <th>both_links_size_STD</th>\n",
              "      <th>both_links_size_Skewness</th>\n",
              "      <th>both_links_size_Kurtosis</th>\n",
              "      <th>both_links_size_MAX</th>\n",
              "      <th>both_links_size_MIN</th>\n",
              "      <th>both_links_size_MeanSquare</th>\n",
              "      <th>uplink_interval_mean</th>\n",
              "      <th>uplink_interval_median</th>\n",
              "      <th>uplink_interval_MAD</th>\n",
              "      <th>uplink_interval_STD</th>\n",
              "      <th>uplink_interval_Skewness</th>\n",
              "      <th>uplink_interval_Kurtosis</th>\n",
              "      <th>uplink_interval_MAX</th>\n",
              "      <th>uplink_interval_MIN</th>\n",
              "      <th>uplink_interval_MeanSquare</th>\n",
              "      <th>downlink_interval_mean</th>\n",
              "      <th>downlink_interval_median</th>\n",
              "      <th>downlink_interval_MAD</th>\n",
              "      <th>downlink_interval_STD</th>\n",
              "      <th>downlink_interval_Skewness</th>\n",
              "      <th>downlink_interval_Kurtosis</th>\n",
              "      <th>downlink_interval_MAX</th>\n",
              "      <th>downlink_interval_MIN</th>\n",
              "      <th>downlink_interval_MeanSquare</th>\n",
              "      <th>both_links_interval_mean</th>\n",
              "      <th>both_links_interval_median</th>\n",
              "      <th>both_links_interval_MAD</th>\n",
              "      <th>both_links_interval_STD</th>\n",
              "      <th>both_links_interval_Skewness</th>\n",
              "      <th>both_links_interval_Kurtosis</th>\n",
              "      <th>both_links_interval_MAX</th>\n",
              "      <th>both_links_interval_MIN</th>\n",
              "      <th>both_links_interval_MeanSquare</th>\n",
              "      <th>label</th>\n",
              "    </tr>\n",
              "  </thead>\n",
              "  <tbody>\n",
              "    <tr>\n",
              "      <th>0</th>\n",
              "      <td>0.013633</td>\n",
              "      <td>0.009907</td>\n",
              "      <td>0.012473</td>\n",
              "      <td>0.013195</td>\n",
              "      <td>0.206939</td>\n",
              "      <td>-1.518004</td>\n",
              "      <td>0.029022</td>\n",
              "      <td>0.000002</td>\n",
              "      <td>0.016793</td>\n",
              "      <td>113.612245</td>\n",
              "      <td>32.643157</td>\n",
              "      <td>138.0</td>\n",
              "      <td>17.7912</td>\n",
              "      <td>-0.524785</td>\n",
              "      <td>-1.621986</td>\n",
              "      <td>153.0</td>\n",
              "      <td>70.0</td>\n",
              "      <td>118.116770</td>\n",
              "      <td>0.013402</td>\n",
              "      <td>0.009805</td>\n",
              "      <td>0.012023</td>\n",
              "      <td>0.012642</td>\n",
              "      <td>0.254736</td>\n",
              "      <td>-1.480650</td>\n",
              "      <td>0.029021</td>\n",
              "      <td>0.000408</td>\n",
              "      <td>0.016549</td>\n",
              "      <td>136.078431</td>\n",
              "      <td>205.772966</td>\n",
              "      <td>70.0</td>\n",
              "      <td>0.0000</td>\n",
              "      <td>4.398569</td>\n",
              "      <td>18.352606</td>\n",
              "      <td>1130.0</td>\n",
              "      <td>70.0</td>\n",
              "      <td>245.009404</td>\n",
              "      <td>0.006835</td>\n",
              "      <td>0.009674</td>\n",
              "      <td>0.000241</td>\n",
              "      <td>0.000351</td>\n",
              "      <td>1.164627</td>\n",
              "      <td>-0.178463</td>\n",
              "      <td>0.028997</td>\n",
              "      <td>0.000002</td>\n",
              "      <td>0.011805</td>\n",
              "      <td>125.07</td>\n",
              "      <td>148.422224</td>\n",
              "      <td>126.0</td>\n",
              "      <td>83.0256</td>\n",
              "      <td>6.183629</td>\n",
              "      <td>39.041176</td>\n",
              "      <td>1130.0</td>\n",
              "      <td>70.0</td>\n",
              "      <td>193.523564</td>\n",
              "      <td>1.0</td>\n",
              "    </tr>\n",
              "    <tr>\n",
              "      <th>1</th>\n",
              "      <td>0.176876</td>\n",
              "      <td>0.328222</td>\n",
              "      <td>0.050990</td>\n",
              "      <td>0.072377</td>\n",
              "      <td>2.746796</td>\n",
              "      <td>7.799352</td>\n",
              "      <td>1.629773</td>\n",
              "      <td>0.000309</td>\n",
              "      <td>0.369391</td>\n",
              "      <td>487.000000</td>\n",
              "      <td>392.264657</td>\n",
              "      <td>395.5</td>\n",
              "      <td>255.7485</td>\n",
              "      <td>1.692933</td>\n",
              "      <td>1.546272</td>\n",
              "      <td>1476.0</td>\n",
              "      <td>222.0</td>\n",
              "      <td>622.396138</td>\n",
              "      <td>0.128085</td>\n",
              "      <td>0.254164</td>\n",
              "      <td>0.029409</td>\n",
              "      <td>0.043299</td>\n",
              "      <td>3.309583</td>\n",
              "      <td>12.659707</td>\n",
              "      <td>1.482584</td>\n",
              "      <td>0.000143</td>\n",
              "      <td>0.282651</td>\n",
              "      <td>308.827586</td>\n",
              "      <td>214.947496</td>\n",
              "      <td>264.0</td>\n",
              "      <td>63.7518</td>\n",
              "      <td>3.713849</td>\n",
              "      <td>12.835863</td>\n",
              "      <td>1293.0</td>\n",
              "      <td>216.0</td>\n",
              "      <td>375.207023</td>\n",
              "      <td>0.074292</td>\n",
              "      <td>0.198067</td>\n",
              "      <td>0.001850</td>\n",
              "      <td>0.002549</td>\n",
              "      <td>4.688625</td>\n",
              "      <td>25.950990</td>\n",
              "      <td>1.478154</td>\n",
              "      <td>0.000117</td>\n",
              "      <td>0.210612</td>\n",
              "      <td>383.66</td>\n",
              "      <td>313.268698</td>\n",
              "      <td>307.0</td>\n",
              "      <td>126.0210</td>\n",
              "      <td>2.542834</td>\n",
              "      <td>5.425483</td>\n",
              "      <td>1476.0</td>\n",
              "      <td>216.0</td>\n",
              "      <td>494.318622</td>\n",
              "      <td>0.0</td>\n",
              "    </tr>\n",
              "    <tr>\n",
              "      <th>2</th>\n",
              "      <td>0.003496</td>\n",
              "      <td>0.004608</td>\n",
              "      <td>0.001605</td>\n",
              "      <td>0.001622</td>\n",
              "      <td>1.884811</td>\n",
              "      <td>2.649103</td>\n",
              "      <td>0.018668</td>\n",
              "      <td>0.000177</td>\n",
              "      <td>0.005718</td>\n",
              "      <td>96.857143</td>\n",
              "      <td>22.093596</td>\n",
              "      <td>88.0</td>\n",
              "      <td>0.0000</td>\n",
              "      <td>1.932871</td>\n",
              "      <td>1.804209</td>\n",
              "      <td>150.0</td>\n",
              "      <td>88.0</td>\n",
              "      <td>99.257242</td>\n",
              "      <td>0.001428</td>\n",
              "      <td>0.003718</td>\n",
              "      <td>0.000158</td>\n",
              "      <td>0.000228</td>\n",
              "      <td>3.658123</td>\n",
              "      <td>13.575117</td>\n",
              "      <td>0.020585</td>\n",
              "      <td>0.000001</td>\n",
              "      <td>0.003959</td>\n",
              "      <td>588.986111</td>\n",
              "      <td>413.681973</td>\n",
              "      <td>741.5</td>\n",
              "      <td>457.3821</td>\n",
              "      <td>-0.272712</td>\n",
              "      <td>-1.735861</td>\n",
              "      <td>1108.0</td>\n",
              "      <td>76.0</td>\n",
              "      <td>718.095098</td>\n",
              "      <td>0.001042</td>\n",
              "      <td>0.002882</td>\n",
              "      <td>0.000025</td>\n",
              "      <td>0.000035</td>\n",
              "      <td>4.084852</td>\n",
              "      <td>17.829972</td>\n",
              "      <td>0.018668</td>\n",
              "      <td>0.000001</td>\n",
              "      <td>0.003051</td>\n",
              "      <td>451.19</td>\n",
              "      <td>414.950105</td>\n",
              "      <td>150.0</td>\n",
              "      <td>109.7124</td>\n",
              "      <td>0.358598</td>\n",
              "      <td>-1.731709</td>\n",
              "      <td>1108.0</td>\n",
              "      <td>76.0</td>\n",
              "      <td>611.583330</td>\n",
              "      <td>1.0</td>\n",
              "    </tr>\n",
              "    <tr>\n",
              "      <th>3</th>\n",
              "      <td>0.004229</td>\n",
              "      <td>0.005576</td>\n",
              "      <td>0.000986</td>\n",
              "      <td>0.001195</td>\n",
              "      <td>1.088090</td>\n",
              "      <td>-0.287253</td>\n",
              "      <td>0.018410</td>\n",
              "      <td>0.000009</td>\n",
              "      <td>0.006926</td>\n",
              "      <td>98.225806</td>\n",
              "      <td>28.208403</td>\n",
              "      <td>88.0</td>\n",
              "      <td>0.0000</td>\n",
              "      <td>2.800722</td>\n",
              "      <td>8.100519</td>\n",
              "      <td>218.0</td>\n",
              "      <td>76.0</td>\n",
              "      <td>102.070343</td>\n",
              "      <td>0.001919</td>\n",
              "      <td>0.005633</td>\n",
              "      <td>0.000105</td>\n",
              "      <td>0.000153</td>\n",
              "      <td>3.661035</td>\n",
              "      <td>13.732723</td>\n",
              "      <td>0.032340</td>\n",
              "      <td>0.000001</td>\n",
              "      <td>0.005912</td>\n",
              "      <td>599.434783</td>\n",
              "      <td>376.788148</td>\n",
              "      <td>770.0</td>\n",
              "      <td>240.1812</td>\n",
              "      <td>-0.435652</td>\n",
              "      <td>-1.484070</td>\n",
              "      <td>1094.0</td>\n",
              "      <td>76.0</td>\n",
              "      <td>706.564817</td>\n",
              "      <td>0.001324</td>\n",
              "      <td>0.003575</td>\n",
              "      <td>0.000067</td>\n",
              "      <td>0.000096</td>\n",
              "      <td>3.100149</td>\n",
              "      <td>8.892516</td>\n",
              "      <td>0.018410</td>\n",
              "      <td>0.000001</td>\n",
              "      <td>0.003795</td>\n",
              "      <td>444.06</td>\n",
              "      <td>389.912910</td>\n",
              "      <td>147.0</td>\n",
              "      <td>105.2646</td>\n",
              "      <td>0.311359</td>\n",
              "      <td>-1.699683</td>\n",
              "      <td>1094.0</td>\n",
              "      <td>76.0</td>\n",
              "      <td>589.661801</td>\n",
              "      <td>1.0</td>\n",
              "    </tr>\n",
              "    <tr>\n",
              "      <th>4</th>\n",
              "      <td>0.003080</td>\n",
              "      <td>0.005691</td>\n",
              "      <td>0.000934</td>\n",
              "      <td>0.000975</td>\n",
              "      <td>2.881301</td>\n",
              "      <td>8.274496</td>\n",
              "      <td>0.026786</td>\n",
              "      <td>0.000011</td>\n",
              "      <td>0.006387</td>\n",
              "      <td>96.533333</td>\n",
              "      <td>27.042410</td>\n",
              "      <td>88.0</td>\n",
              "      <td>0.0000</td>\n",
              "      <td>3.245917</td>\n",
              "      <td>10.956115</td>\n",
              "      <td>218.0</td>\n",
              "      <td>76.0</td>\n",
              "      <td>100.127918</td>\n",
              "      <td>0.001326</td>\n",
              "      <td>0.004443</td>\n",
              "      <td>0.000034</td>\n",
              "      <td>0.000040</td>\n",
              "      <td>4.790659</td>\n",
              "      <td>24.285991</td>\n",
              "      <td>0.029226</td>\n",
              "      <td>0.000007</td>\n",
              "      <td>0.004606</td>\n",
              "      <td>649.371429</td>\n",
              "      <td>376.682782</td>\n",
              "      <td>794.0</td>\n",
              "      <td>235.7334</td>\n",
              "      <td>-0.564116</td>\n",
              "      <td>-1.208588</td>\n",
              "      <td>1218.0</td>\n",
              "      <td>76.0</td>\n",
              "      <td>749.363844</td>\n",
              "      <td>0.000933</td>\n",
              "      <td>0.003334</td>\n",
              "      <td>0.000029</td>\n",
              "      <td>0.000031</td>\n",
              "      <td>5.731184</td>\n",
              "      <td>36.394334</td>\n",
              "      <td>0.026335</td>\n",
              "      <td>0.000007</td>\n",
              "      <td>0.003446</td>\n",
              "      <td>483.52</td>\n",
              "      <td>404.892316</td>\n",
              "      <td>417.0</td>\n",
              "      <td>505.5666</td>\n",
              "      <td>0.198671</td>\n",
              "      <td>-1.704260</td>\n",
              "      <td>1218.0</td>\n",
              "      <td>76.0</td>\n",
              "      <td>629.356815</td>\n",
              "      <td>1.0</td>\n",
              "    </tr>\n",
              "    <tr>\n",
              "      <th>...</th>\n",
              "      <td>...</td>\n",
              "      <td>...</td>\n",
              "      <td>...</td>\n",
              "      <td>...</td>\n",
              "      <td>...</td>\n",
              "      <td>...</td>\n",
              "      <td>...</td>\n",
              "      <td>...</td>\n",
              "      <td>...</td>\n",
              "      <td>...</td>\n",
              "      <td>...</td>\n",
              "      <td>...</td>\n",
              "      <td>...</td>\n",
              "      <td>...</td>\n",
              "      <td>...</td>\n",
              "      <td>...</td>\n",
              "      <td>...</td>\n",
              "      <td>...</td>\n",
              "      <td>...</td>\n",
              "      <td>...</td>\n",
              "      <td>...</td>\n",
              "      <td>...</td>\n",
              "      <td>...</td>\n",
              "      <td>...</td>\n",
              "      <td>...</td>\n",
              "      <td>...</td>\n",
              "      <td>...</td>\n",
              "      <td>...</td>\n",
              "      <td>...</td>\n",
              "      <td>...</td>\n",
              "      <td>...</td>\n",
              "      <td>...</td>\n",
              "      <td>...</td>\n",
              "      <td>...</td>\n",
              "      <td>...</td>\n",
              "      <td>...</td>\n",
              "      <td>...</td>\n",
              "      <td>...</td>\n",
              "      <td>...</td>\n",
              "      <td>...</td>\n",
              "      <td>...</td>\n",
              "      <td>...</td>\n",
              "      <td>...</td>\n",
              "      <td>...</td>\n",
              "      <td>...</td>\n",
              "      <td>...</td>\n",
              "      <td>...</td>\n",
              "      <td>...</td>\n",
              "      <td>...</td>\n",
              "      <td>...</td>\n",
              "      <td>...</td>\n",
              "      <td>...</td>\n",
              "      <td>...</td>\n",
              "      <td>...</td>\n",
              "      <td>...</td>\n",
              "    </tr>\n",
              "    <tr>\n",
              "      <th>1746</th>\n",
              "      <td>0.168442</td>\n",
              "      <td>0.449148</td>\n",
              "      <td>0.024904</td>\n",
              "      <td>0.036848</td>\n",
              "      <td>3.425184</td>\n",
              "      <td>11.482435</td>\n",
              "      <td>2.269895</td>\n",
              "      <td>0.000102</td>\n",
              "      <td>0.474128</td>\n",
              "      <td>248.868421</td>\n",
              "      <td>22.409181</td>\n",
              "      <td>228.0</td>\n",
              "      <td>0.0000</td>\n",
              "      <td>0.127789</td>\n",
              "      <td>-2.008487</td>\n",
              "      <td>276.0</td>\n",
              "      <td>228.0</td>\n",
              "      <td>249.848849</td>\n",
              "      <td>0.101848</td>\n",
              "      <td>0.321320</td>\n",
              "      <td>0.000725</td>\n",
              "      <td>0.000868</td>\n",
              "      <td>4.507385</td>\n",
              "      <td>20.808679</td>\n",
              "      <td>2.006319</td>\n",
              "      <td>0.000108</td>\n",
              "      <td>0.334595</td>\n",
              "      <td>390.225806</td>\n",
              "      <td>295.854163</td>\n",
              "      <td>250.0</td>\n",
              "      <td>32.6172</td>\n",
              "      <td>1.756040</td>\n",
              "      <td>1.491963</td>\n",
              "      <td>1148.0</td>\n",
              "      <td>228.0</td>\n",
              "      <td>488.256179</td>\n",
              "      <td>0.064008</td>\n",
              "      <td>0.256044</td>\n",
              "      <td>0.000465</td>\n",
              "      <td>0.000481</td>\n",
              "      <td>5.942396</td>\n",
              "      <td>36.987691</td>\n",
              "      <td>2.006093</td>\n",
              "      <td>0.000102</td>\n",
              "      <td>0.262678</td>\n",
              "      <td>336.51</td>\n",
              "      <td>242.642544</td>\n",
              "      <td>250.0</td>\n",
              "      <td>32.6172</td>\n",
              "      <td>2.561327</td>\n",
              "      <td>5.180320</td>\n",
              "      <td>1148.0</td>\n",
              "      <td>228.0</td>\n",
              "      <td>414.156528</td>\n",
              "      <td>0.0</td>\n",
              "    </tr>\n",
              "    <tr>\n",
              "      <th>1747</th>\n",
              "      <td>0.019276</td>\n",
              "      <td>0.023218</td>\n",
              "      <td>0.014205</td>\n",
              "      <td>0.020036</td>\n",
              "      <td>0.260308</td>\n",
              "      <td>-2.145662</td>\n",
              "      <td>0.048694</td>\n",
              "      <td>0.001382</td>\n",
              "      <td>0.027855</td>\n",
              "      <td>353.000000</td>\n",
              "      <td>250.000000</td>\n",
              "      <td>228.0</td>\n",
              "      <td>0.0000</td>\n",
              "      <td>0.750000</td>\n",
              "      <td>-1.687500</td>\n",
              "      <td>728.0</td>\n",
              "      <td>228.0</td>\n",
              "      <td>414.106267</td>\n",
              "      <td>0.471743</td>\n",
              "      <td>4.252675</td>\n",
              "      <td>0.000269</td>\n",
              "      <td>0.000265</td>\n",
              "      <td>9.474984</td>\n",
              "      <td>88.818730</td>\n",
              "      <td>41.677954</td>\n",
              "      <td>0.000065</td>\n",
              "      <td>4.256689</td>\n",
              "      <td>481.833333</td>\n",
              "      <td>437.711433</td>\n",
              "      <td>228.0</td>\n",
              "      <td>0.0000</td>\n",
              "      <td>1.305021</td>\n",
              "      <td>0.111893</td>\n",
              "      <td>1676.0</td>\n",
              "      <td>216.0</td>\n",
              "      <td>649.429686</td>\n",
              "      <td>0.452873</td>\n",
              "      <td>4.166910</td>\n",
              "      <td>0.000272</td>\n",
              "      <td>0.000269</td>\n",
              "      <td>9.682672</td>\n",
              "      <td>92.805474</td>\n",
              "      <td>41.677954</td>\n",
              "      <td>0.000065</td>\n",
              "      <td>4.170683</td>\n",
              "      <td>476.68</td>\n",
              "      <td>431.726739</td>\n",
              "      <td>228.0</td>\n",
              "      <td>0.0000</td>\n",
              "      <td>1.336856</td>\n",
              "      <td>0.224168</td>\n",
              "      <td>1676.0</td>\n",
              "      <td>216.0</td>\n",
              "      <td>641.675868</td>\n",
              "      <td>0.0</td>\n",
              "    </tr>\n",
              "    <tr>\n",
              "      <th>1748</th>\n",
              "      <td>0.003944</td>\n",
              "      <td>0.005735</td>\n",
              "      <td>0.001150</td>\n",
              "      <td>0.001297</td>\n",
              "      <td>1.766728</td>\n",
              "      <td>2.041407</td>\n",
              "      <td>0.020753</td>\n",
              "      <td>0.000100</td>\n",
              "      <td>0.006886</td>\n",
              "      <td>97.437500</td>\n",
              "      <td>27.035147</td>\n",
              "      <td>88.0</td>\n",
              "      <td>0.0000</td>\n",
              "      <td>3.030459</td>\n",
              "      <td>9.801596</td>\n",
              "      <td>218.0</td>\n",
              "      <td>76.0</td>\n",
              "      <td>101.005569</td>\n",
              "      <td>0.001856</td>\n",
              "      <td>0.004926</td>\n",
              "      <td>0.000035</td>\n",
              "      <td>0.000042</td>\n",
              "      <td>3.089798</td>\n",
              "      <td>8.676543</td>\n",
              "      <td>0.022767</td>\n",
              "      <td>0.000007</td>\n",
              "      <td>0.005230</td>\n",
              "      <td>594.117647</td>\n",
              "      <td>376.928733</td>\n",
              "      <td>744.5</td>\n",
              "      <td>327.6546</td>\n",
              "      <td>-0.387781</td>\n",
              "      <td>-1.533467</td>\n",
              "      <td>1090.0</td>\n",
              "      <td>76.0</td>\n",
              "      <td>702.112317</td>\n",
              "      <td>0.001262</td>\n",
              "      <td>0.003465</td>\n",
              "      <td>0.000037</td>\n",
              "      <td>0.000045</td>\n",
              "      <td>3.599441</td>\n",
              "      <td>13.189263</td>\n",
              "      <td>0.020103</td>\n",
              "      <td>0.000007</td>\n",
              "      <td>0.003672</td>\n",
              "      <td>435.18</td>\n",
              "      <td>388.076072</td>\n",
              "      <td>143.0</td>\n",
              "      <td>99.3342</td>\n",
              "      <td>0.367148</td>\n",
              "      <td>-1.663700</td>\n",
              "      <td>1090.0</td>\n",
              "      <td>76.0</td>\n",
              "      <td>581.789171</td>\n",
              "      <td>1.0</td>\n",
              "    </tr>\n",
              "    <tr>\n",
              "      <th>1749</th>\n",
              "      <td>0.090587</td>\n",
              "      <td>0.253379</td>\n",
              "      <td>0.006768</td>\n",
              "      <td>0.009749</td>\n",
              "      <td>3.066824</td>\n",
              "      <td>8.352582</td>\n",
              "      <td>1.090098</td>\n",
              "      <td>0.000168</td>\n",
              "      <td>0.264068</td>\n",
              "      <td>301.333333</td>\n",
              "      <td>65.319726</td>\n",
              "      <td>288.0</td>\n",
              "      <td>0.0000</td>\n",
              "      <td>4.303617</td>\n",
              "      <td>17.244792</td>\n",
              "      <td>608.0</td>\n",
              "      <td>288.0</td>\n",
              "      <td>308.043287</td>\n",
              "      <td>0.028760</td>\n",
              "      <td>0.116793</td>\n",
              "      <td>0.002406</td>\n",
              "      <td>0.002895</td>\n",
              "      <td>4.808322</td>\n",
              "      <td>22.412904</td>\n",
              "      <td>0.729880</td>\n",
              "      <td>0.000414</td>\n",
              "      <td>0.119533</td>\n",
              "      <td>1625.684211</td>\n",
              "      <td>200.982401</td>\n",
              "      <td>1664.0</td>\n",
              "      <td>0.0000</td>\n",
              "      <td>-5.491032</td>\n",
              "      <td>29.399023</td>\n",
              "      <td>1664.0</td>\n",
              "      <td>384.0</td>\n",
              "      <td>1637.898525</td>\n",
              "      <td>0.021857</td>\n",
              "      <td>0.096867</td>\n",
              "      <td>0.000918</td>\n",
              "      <td>0.001022</td>\n",
              "      <td>5.800006</td>\n",
              "      <td>34.728892</td>\n",
              "      <td>0.729880</td>\n",
              "      <td>0.000148</td>\n",
              "      <td>0.098828</td>\n",
              "      <td>1307.84</td>\n",
              "      <td>595.597565</td>\n",
              "      <td>1664.0</td>\n",
              "      <td>0.0000</td>\n",
              "      <td>-1.079037</td>\n",
              "      <td>-0.819218</td>\n",
              "      <td>1664.0</td>\n",
              "      <td>288.0</td>\n",
              "      <td>1435.839322</td>\n",
              "      <td>0.0</td>\n",
              "    </tr>\n",
              "    <tr>\n",
              "      <th>1750</th>\n",
              "      <td>0.001323</td>\n",
              "      <td>0.001244</td>\n",
              "      <td>0.001010</td>\n",
              "      <td>0.000984</td>\n",
              "      <td>1.771218</td>\n",
              "      <td>3.702437</td>\n",
              "      <td>0.005461</td>\n",
              "      <td>0.000107</td>\n",
              "      <td>0.001794</td>\n",
              "      <td>77.526316</td>\n",
              "      <td>24.097875</td>\n",
              "      <td>70.0</td>\n",
              "      <td>0.0000</td>\n",
              "      <td>2.414882</td>\n",
              "      <td>4.163242</td>\n",
              "      <td>153.0</td>\n",
              "      <td>68.0</td>\n",
              "      <td>80.996751</td>\n",
              "      <td>0.000304</td>\n",
              "      <td>0.000761</td>\n",
              "      <td>0.000008</td>\n",
              "      <td>0.000003</td>\n",
              "      <td>4.306302</td>\n",
              "      <td>23.987170</td>\n",
              "      <td>0.005461</td>\n",
              "      <td>0.000004</td>\n",
              "      <td>0.000815</td>\n",
              "      <td>1024.283951</td>\n",
              "      <td>305.437114</td>\n",
              "      <td>1130.0</td>\n",
              "      <td>0.0000</td>\n",
              "      <td>-2.530731</td>\n",
              "      <td>4.560583</td>\n",
              "      <td>1130.0</td>\n",
              "      <td>70.0</td>\n",
              "      <td>1068.315352</td>\n",
              "      <td>0.000259</td>\n",
              "      <td>0.000689</td>\n",
              "      <td>0.000010</td>\n",
              "      <td>0.000006</td>\n",
              "      <td>4.837368</td>\n",
              "      <td>30.487131</td>\n",
              "      <td>0.005453</td>\n",
              "      <td>0.000004</td>\n",
              "      <td>0.000733</td>\n",
              "      <td>844.40</td>\n",
              "      <td>463.502542</td>\n",
              "      <td>1130.0</td>\n",
              "      <td>0.0000</td>\n",
              "      <td>-0.997660</td>\n",
              "      <td>-0.992121</td>\n",
              "      <td>1130.0</td>\n",
              "      <td>68.0</td>\n",
              "      <td>962.131810</td>\n",
              "      <td>1.0</td>\n",
              "    </tr>\n",
              "  </tbody>\n",
              "</table>\n",
              "<p>1751 rows × 55 columns</p>\n",
              "</div>"
            ],
            "text/plain": [
              "      uplink_size_mean  ...  label\n",
              "0             0.013633  ...    1.0\n",
              "1             0.176876  ...    0.0\n",
              "2             0.003496  ...    1.0\n",
              "3             0.004229  ...    1.0\n",
              "4             0.003080  ...    1.0\n",
              "...                ...  ...    ...\n",
              "1746          0.168442  ...    0.0\n",
              "1747          0.019276  ...    0.0\n",
              "1748          0.003944  ...    1.0\n",
              "1749          0.090587  ...    0.0\n",
              "1750          0.001323  ...    1.0\n",
              "\n",
              "[1751 rows x 55 columns]"
            ]
          },
          "metadata": {},
          "execution_count": 45
        }
      ]
    },
    {
      "cell_type": "markdown",
      "metadata": {
        "id": "9bfY2s78nbQ-"
      },
      "source": [
        "Ici aussi la majorité de l'information est transporté par une dizaine de variables. "
      ]
    },
    {
      "cell_type": "code",
      "metadata": {
        "colab": {
          "base_uri": "https://localhost:8080/",
          "height": 265
        },
        "id": "Ukr5fzqznQ4B",
        "outputId": "1dd07503-e999-4a07-f0bc-fd73ecb9541b"
      },
      "source": [
        "from sklearn.decomposition import PCA\n",
        "\n",
        "mypca = PCA(n_components=55) # On paramètre ici pour ne garder que 55 composantes\n",
        "\n",
        "mypca.fit(data_tr)\n",
        "mypca.singular_values_ # Valeurs de variance\n",
        "\n",
        "mypca.explained_variance_ratio_ #  Pourcentages\n",
        "\n",
        "mypca.components_ # \n",
        "data_sortie= mypca.fit_transform(data_tr)\n",
        "mypca.noise_variance_\n",
        "\n",
        "y = list(mypca.explained_variance_ratio_)\n",
        "\n",
        "x = range(len(y))\n",
        "\n",
        "ycum = np.cumsum(y)\n",
        "\n",
        "plt.bar(x,y)\n",
        "\n",
        "plt.plot(x,ycum,\"-r\")\n",
        "\n",
        "plt.show()"
      ],
      "execution_count": null,
      "outputs": [
        {
          "output_type": "display_data",
          "data": {
            "image/png": "[encoded data removed]",
            "text/plain": [
              "<Figure size 432x288 with 1 Axes>"
            ]
          },
          "metadata": {
            "needs_background": "light"
          }
        }
      ]
    },
    {
      "cell_type": "markdown",
      "metadata": {
        "id": "Th5qCzAOl0UF"
      },
      "source": [
        "## Visualisation"
      ]
    },
    {
      "cell_type": "markdown",
      "metadata": {
        "id": "-hgI7_Nal0UF"
      },
      "source": [
        "## Correlations"
      ]
    },
    {
      "cell_type": "code",
      "metadata": {
        "id": "kv3WC7nNl0UG"
      },
      "source": [
        "# import re\n",
        "# r1 = re.compile(\"\\.pdf$\")  # regular expression corrected\n",
        "# if re.search(\"\\.pdf$\",\"spam.pdf\"):  # re.match() replaced with re.search()\n",
        "#     print(\"yes\")\n",
        "# else:\n",
        "#     print(\"no\")"
      ],
      "execution_count": null,
      "outputs": []
    },
    {
      "cell_type": "code",
      "metadata": {
        "colab": {
          "base_uri": "https://localhost:8080/",
          "height": 555
        },
        "id": "3brr50Qkl0UG",
        "outputId": "7d9a8914-4c18-4b3b-e3ac-be10c7a01ad1"
      },
      "source": [
        "mean_med_col = [col for col in col_names if re.search('\\_mean$|\\_median$|label$',col)] # Colonnes moyennes et medianes\n",
        "mean_med_tr = data_tr[mean_med_col]\n",
        "mean_med_tr.label = mean_med_tr.label.astype(int)\n",
        "mean_med_tr"
      ],
      "execution_count": null,
      "outputs": [
        {
          "output_type": "stream",
          "name": "stderr",
          "text": [
            "/usr/local/lib/python3.7/dist-packages/pandas/core/generic.py:5170: SettingWithCopyWarning: \n",
            "A value is trying to be set on a copy of a slice from a DataFrame.\n",
            "Try using .loc[row_indexer,col_indexer] = value instead\n",
            "\n",
            "See the caveats in the documentation: https://pandas.pydata.org/pandas-docs/stable/user_guide/indexing.html#returning-a-view-versus-a-copy\n",
            "  self[name] = value\n"
          ]
        },
        {
          "output_type": "execute_result",
          "data": {
            "text/html": [
              "<div>\n",
              "<style scoped>\n",
              "    .dataframe tbody tr th:only-of-type {\n",
              "        vertical-align: middle;\n",
              "    }\n",
              "\n",
              "    .dataframe tbody tr th {\n",
              "        vertical-align: top;\n",
              "    }\n",
              "\n",
              "    .dataframe thead th {\n",
              "        text-align: right;\n",
              "    }\n",
              "</style>\n",
              "<table border=\"1\" class=\"dataframe\">\n",
              "  <thead>\n",
              "    <tr style=\"text-align: right;\">\n",
              "      <th></th>\n",
              "      <th>uplink_size_mean</th>\n",
              "      <th>uplink_size_median</th>\n",
              "      <th>downlink_size_mean</th>\n",
              "      <th>downlink_size_median</th>\n",
              "      <th>both_links_size_mean</th>\n",
              "      <th>both_links_size_median</th>\n",
              "      <th>uplink_interval_mean</th>\n",
              "      <th>uplink_interval_median</th>\n",
              "      <th>downlink_interval_mean</th>\n",
              "      <th>downlink_interval_median</th>\n",
              "      <th>both_links_interval_mean</th>\n",
              "      <th>both_links_interval_median</th>\n",
              "      <th>label</th>\n",
              "    </tr>\n",
              "  </thead>\n",
              "  <tbody>\n",
              "    <tr>\n",
              "      <th>0</th>\n",
              "      <td>0.013633</td>\n",
              "      <td>0.009907</td>\n",
              "      <td>113.612245</td>\n",
              "      <td>32.643157</td>\n",
              "      <td>0.013402</td>\n",
              "      <td>0.009805</td>\n",
              "      <td>136.078431</td>\n",
              "      <td>205.772966</td>\n",
              "      <td>0.006835</td>\n",
              "      <td>0.009674</td>\n",
              "      <td>125.07</td>\n",
              "      <td>148.422224</td>\n",
              "      <td>1</td>\n",
              "    </tr>\n",
              "    <tr>\n",
              "      <th>1</th>\n",
              "      <td>0.176876</td>\n",
              "      <td>0.328222</td>\n",
              "      <td>487.000000</td>\n",
              "      <td>392.264657</td>\n",
              "      <td>0.128085</td>\n",
              "      <td>0.254164</td>\n",
              "      <td>308.827586</td>\n",
              "      <td>214.947496</td>\n",
              "      <td>0.074292</td>\n",
              "      <td>0.198067</td>\n",
              "      <td>383.66</td>\n",
              "      <td>313.268698</td>\n",
              "      <td>0</td>\n",
              "    </tr>\n",
              "    <tr>\n",
              "      <th>2</th>\n",
              "      <td>0.003496</td>\n",
              "      <td>0.004608</td>\n",
              "      <td>96.857143</td>\n",
              "      <td>22.093596</td>\n",
              "      <td>0.001428</td>\n",
              "      <td>0.003718</td>\n",
              "      <td>588.986111</td>\n",
              "      <td>413.681973</td>\n",
              "      <td>0.001042</td>\n",
              "      <td>0.002882</td>\n",
              "      <td>451.19</td>\n",
              "      <td>414.950105</td>\n",
              "      <td>1</td>\n",
              "    </tr>\n",
              "    <tr>\n",
              "      <th>3</th>\n",
              "      <td>0.004229</td>\n",
              "      <td>0.005576</td>\n",
              "      <td>98.225806</td>\n",
              "      <td>28.208403</td>\n",
              "      <td>0.001919</td>\n",
              "      <td>0.005633</td>\n",
              "      <td>599.434783</td>\n",
              "      <td>376.788148</td>\n",
              "      <td>0.001324</td>\n",
              "      <td>0.003575</td>\n",
              "      <td>444.06</td>\n",
              "      <td>389.912910</td>\n",
              "      <td>1</td>\n",
              "    </tr>\n",
              "    <tr>\n",
              "      <th>4</th>\n",
              "      <td>0.003080</td>\n",
              "      <td>0.005691</td>\n",
              "      <td>96.533333</td>\n",
              "      <td>27.042410</td>\n",
              "      <td>0.001326</td>\n",
              "      <td>0.004443</td>\n",
              "      <td>649.371429</td>\n",
              "      <td>376.682782</td>\n",
              "      <td>0.000933</td>\n",
              "      <td>0.003334</td>\n",
              "      <td>483.52</td>\n",
              "      <td>404.892316</td>\n",
              "      <td>1</td>\n",
              "    </tr>\n",
              "    <tr>\n",
              "      <th>...</th>\n",
              "      <td>...</td>\n",
              "      <td>...</td>\n",
              "      <td>...</td>\n",
              "      <td>...</td>\n",
              "      <td>...</td>\n",
              "      <td>...</td>\n",
              "      <td>...</td>\n",
              "      <td>...</td>\n",
              "      <td>...</td>\n",
              "      <td>...</td>\n",
              "      <td>...</td>\n",
              "      <td>...</td>\n",
              "      <td>...</td>\n",
              "    </tr>\n",
              "    <tr>\n",
              "      <th>1746</th>\n",
              "      <td>0.168442</td>\n",
              "      <td>0.449148</td>\n",
              "      <td>248.868421</td>\n",
              "      <td>22.409181</td>\n",
              "      <td>0.101848</td>\n",
              "      <td>0.321320</td>\n",
              "      <td>390.225806</td>\n",
              "      <td>295.854163</td>\n",
              "      <td>0.064008</td>\n",
              "      <td>0.256044</td>\n",
              "      <td>336.51</td>\n",
              "      <td>242.642544</td>\n",
              "      <td>0</td>\n",
              "    </tr>\n",
              "    <tr>\n",
              "      <th>1747</th>\n",
              "      <td>0.019276</td>\n",
              "      <td>0.023218</td>\n",
              "      <td>353.000000</td>\n",
              "      <td>250.000000</td>\n",
              "      <td>0.471743</td>\n",
              "      <td>4.252675</td>\n",
              "      <td>481.833333</td>\n",
              "      <td>437.711433</td>\n",
              "      <td>0.452873</td>\n",
              "      <td>4.166910</td>\n",
              "      <td>476.68</td>\n",
              "      <td>431.726739</td>\n",
              "      <td>0</td>\n",
              "    </tr>\n",
              "    <tr>\n",
              "      <th>1748</th>\n",
              "      <td>0.003944</td>\n",
              "      <td>0.005735</td>\n",
              "      <td>97.437500</td>\n",
              "      <td>27.035147</td>\n",
              "      <td>0.001856</td>\n",
              "      <td>0.004926</td>\n",
              "      <td>594.117647</td>\n",
              "      <td>376.928733</td>\n",
              "      <td>0.001262</td>\n",
              "      <td>0.003465</td>\n",
              "      <td>435.18</td>\n",
              "      <td>388.076072</td>\n",
              "      <td>1</td>\n",
              "    </tr>\n",
              "    <tr>\n",
              "      <th>1749</th>\n",
              "      <td>0.090587</td>\n",
              "      <td>0.253379</td>\n",
              "      <td>301.333333</td>\n",
              "      <td>65.319726</td>\n",
              "      <td>0.028760</td>\n",
              "      <td>0.116793</td>\n",
              "      <td>1625.684211</td>\n",
              "      <td>200.982401</td>\n",
              "      <td>0.021857</td>\n",
              "      <td>0.096867</td>\n",
              "      <td>1307.84</td>\n",
              "      <td>595.597565</td>\n",
              "      <td>0</td>\n",
              "    </tr>\n",
              "    <tr>\n",
              "      <th>1750</th>\n",
              "      <td>0.001323</td>\n",
              "      <td>0.001244</td>\n",
              "      <td>77.526316</td>\n",
              "      <td>24.097875</td>\n",
              "      <td>0.000304</td>\n",
              "      <td>0.000761</td>\n",
              "      <td>1024.283951</td>\n",
              "      <td>305.437114</td>\n",
              "      <td>0.000259</td>\n",
              "      <td>0.000689</td>\n",
              "      <td>844.40</td>\n",
              "      <td>463.502542</td>\n",
              "      <td>1</td>\n",
              "    </tr>\n",
              "  </tbody>\n",
              "</table>\n",
              "<p>1751 rows × 13 columns</p>\n",
              "</div>"
            ],
            "text/plain": [
              "      uplink_size_mean  uplink_size_median  ...  both_links_interval_median  label\n",
              "0             0.013633            0.009907  ...                  148.422224      1\n",
              "1             0.176876            0.328222  ...                  313.268698      0\n",
              "2             0.003496            0.004608  ...                  414.950105      1\n",
              "3             0.004229            0.005576  ...                  389.912910      1\n",
              "4             0.003080            0.005691  ...                  404.892316      1\n",
              "...                ...                 ...  ...                         ...    ...\n",
              "1746          0.168442            0.449148  ...                  242.642544      0\n",
              "1747          0.019276            0.023218  ...                  431.726739      0\n",
              "1748          0.003944            0.005735  ...                  388.076072      1\n",
              "1749          0.090587            0.253379  ...                  595.597565      0\n",
              "1750          0.001323            0.001244  ...                  463.502542      1\n",
              "\n",
              "[1751 rows x 13 columns]"
            ]
          },
          "metadata": {},
          "execution_count": 51
        }
      ]
    },
    {
      "cell_type": "code",
      "metadata": {
        "id": "THD61FqBl0UH"
      },
      "source": [
        "corr_m = mean_med_tr.corr()"
      ],
      "execution_count": null,
      "outputs": []
    },
    {
      "cell_type": "code",
      "metadata": {
        "colab": {
          "base_uri": "https://localhost:8080/",
          "height": 550
        },
        "id": "05cBb0HJl0UI",
        "outputId": "10535e4c-64d9-4bcf-ea25-65944dd8d15a"
      },
      "source": [
        "# Matrice de corrélation\n",
        "fig,ax = plt.subplots(figsize = (20,8))\n",
        "sns.heatmap(corr_m,)"
      ],
      "execution_count": null,
      "outputs": [
        {
          "output_type": "execute_result",
          "data": {
            "text/plain": [
              "<matplotlib.axes._subplots.AxesSubplot at 0x7f80f7aabf50>"
            ]
          },
          "metadata": {},
          "execution_count": 53
        },
        {
          "output_type": "display_data",
          "data": {
            "image/png": "[encoded data removed]",
            "text/plain": [
              "<Figure size 1440x576 with 2 Axes>"
            ]
          },
          "metadata": {
            "needs_background": "light"
          }
        }
      ]
    },
    {
      "cell_type": "code",
      "metadata": {
        "colab": {
          "base_uri": "https://localhost:8080/",
          "height": 440
        },
        "id": "sdallLb3l0UI",
        "outputId": "3811359a-9346-40d9-c655-f4567f38aab4"
      },
      "source": [
        "fig,ax = plt.subplots(figsize = (20,8))\n",
        "ax.scatter(x = mean_med_tr.downlink_size_mean,y = mean_med_tr.label,c = mean_med_tr.label)"
      ],
      "execution_count": null,
      "outputs": [
        {
          "output_type": "execute_result",
          "data": {
            "text/plain": [
              "<matplotlib.collections.PathCollection at 0x7f80ea00d0d0>"
            ]
          },
          "metadata": {},
          "execution_count": 54
        },
        {
          "output_type": "display_data",
          "data": {
            "image/png": "[encoded data removed]",
            "text/plain": [
              "<Figure size 1440x576 with 1 Axes>"
            ]
          },
          "metadata": {
            "needs_background": "light"
          }
        }
      ]
    },
    {
      "cell_type": "code",
      "metadata": {
        "colab": {
          "base_uri": "https://localhost:8080/",
          "height": 989
        },
        "id": "MTc-AwY9l0UJ",
        "outputId": "2b5a28fd-2a07-4a9e-be50-7e213778da94"
      },
      "source": [
        "nrc = int((len(mean_med_col)-1)/2)\n",
        "fig,ax = plt.subplots(nrc,2,figsize = (20,20))\n",
        "#ax[0][0].scatter(x = mean_med_tr.downlink_size_mean,y = mean_med_tr.label,c = mean_med_tr.label)\n",
        "  \n",
        "for i in range(nrc*2):\n",
        "    col = mean_med_col[i]\n",
        "    j = 0 if i%2 == 0 else 1    \n",
        "    ax[i//2,j].scatter(x = mean_med_tr[col],y = mean_med_tr.label, c = mean_med_tr.label)\n",
        "    ax[i//2,j].set_xlabel(col)\n",
        "    ax[i//2,j].set_ylabel('label')"
      ],
      "execution_count": null,
      "outputs": [
        {
          "output_type": "display_data",
          "data": {
            "image/png": "[encoded data removed]",
            "text/plain": [
              "<Figure size 1440x1440 with 12 Axes>"
            ]
          },
          "metadata": {
            "needs_background": "light"
          }
        }
      ]
    },
    {
      "cell_type": "code",
      "metadata": {
        "colab": {
          "base_uri": "https://localhost:8080/",
          "height": 359
        },
        "id": "QbRQKDW4l0UJ",
        "outputId": "cbd0dfbc-334a-410d-e1f4-63e4491b5437"
      },
      "source": [
        "# Proportions de labels dans le dataset tr\n",
        "fig,ax = plt.subplots(figsize = (10,4))\n",
        "x = (mean_med_tr.label.value_counts()/100) \n",
        "y = mean_med_tr.label.drop_duplicates()\n",
        "ax.pie(x,labels = y,autopct= '%.2f')"
      ],
      "execution_count": null,
      "outputs": [
        {
          "output_type": "execute_result",
          "data": {
            "text/plain": [
              "([<matplotlib.patches.Wedge at 0x7f80f81d3950>,\n",
              "  <matplotlib.patches.Wedge at 0x7f80f87efc10>],\n",
              " [Text(-0.16027466327212386, 1.0882610129527786, '1'),\n",
              "  Text(0.1602745613817736, -1.0882610279587706, '0')],\n",
              " [Text(-0.08742254360297665, 0.5935969161560609, '54.65'),\n",
              "  Text(0.08742248802642195, -0.5935969243411475, '45.35')])"
            ]
          },
          "metadata": {},
          "execution_count": 56
        },
        {
          "output_type": "display_data",
          "data": {
            "image/png": "[encoded data removed]",
            "text/plain": [
              "<Figure size 720x288 with 1 Axes>"
            ]
          },
          "metadata": {}
        }
      ]
    },
    {
      "cell_type": "markdown",
      "metadata": {
        "id": "SkLrPI8pl0UK"
      },
      "source": [
        "## Machine Learning (Classification techniques)\n"
      ]
    },
    {
      "cell_type": "markdown",
      "metadata": {
        "id": "YsCAEAzgl0UK"
      },
      "source": [
        "### Scaling\n"
      ]
    },
    {
      "cell_type": "code",
      "metadata": {
        "colab": {
          "base_uri": "https://localhost:8080/",
          "height": 740
        },
        "id": "62t1otCrl0UK",
        "outputId": "36be1fed-deda-4a59-f35c-f6e6c16fd531"
      },
      "source": [
        "col_to_sc = [col for col in list(mean_med_tr.columns) if re.search('\\_size_mean$|\\_size_median$',col)]\n",
        "scaler = StandardScaler()\n",
        "mean_med_tr_sc = mean_med_tr[col_to_sc]\n",
        "mean_med_tr_sc[col_to_sc] = scaler.fit_transform(mean_med_tr_sc[col_to_sc])\n",
        "mean_med_tr_sc"
      ],
      "execution_count": null,
      "outputs": [
        {
          "output_type": "stream",
          "name": "stderr",
          "text": [
            "/usr/local/lib/python3.7/dist-packages/ipykernel_launcher.py:4: SettingWithCopyWarning: \n",
            "A value is trying to be set on a copy of a slice from a DataFrame.\n",
            "Try using .loc[row_indexer,col_indexer] = value instead\n",
            "\n",
            "See the caveats in the documentation: https://pandas.pydata.org/pandas-docs/stable/user_guide/indexing.html#returning-a-view-versus-a-copy\n",
            "  after removing the cwd from sys.path.\n",
            "/usr/local/lib/python3.7/dist-packages/pandas/core/frame.py:3076: SettingWithCopyWarning: \n",
            "A value is trying to be set on a copy of a slice from a DataFrame\n",
            "\n",
            "See the caveats in the documentation: https://pandas.pydata.org/pandas-docs/stable/user_guide/indexing.html#returning-a-view-versus-a-copy\n",
            "  self.iloc._setitem_with_indexer((slice(None), indexer), value)\n",
            "/usr/local/lib/python3.7/dist-packages/pandas/core/frame.py:3041: SettingWithCopyWarning: \n",
            "A value is trying to be set on a copy of a slice from a DataFrame\n",
            "\n",
            "See the caveats in the documentation: https://pandas.pydata.org/pandas-docs/stable/user_guide/indexing.html#returning-a-view-versus-a-copy\n",
            "  self._setitem_array(key, value)\n"
          ]
        },
        {
          "output_type": "execute_result",
          "data": {
            "text/html": [
              "<div>\n",
              "<style scoped>\n",
              "    .dataframe tbody tr th:only-of-type {\n",
              "        vertical-align: middle;\n",
              "    }\n",
              "\n",
              "    .dataframe tbody tr th {\n",
              "        vertical-align: top;\n",
              "    }\n",
              "\n",
              "    .dataframe thead th {\n",
              "        text-align: right;\n",
              "    }\n",
              "</style>\n",
              "<table border=\"1\" class=\"dataframe\">\n",
              "  <thead>\n",
              "    <tr style=\"text-align: right;\">\n",
              "      <th></th>\n",
              "      <th>uplink_size_mean</th>\n",
              "      <th>uplink_size_median</th>\n",
              "      <th>downlink_size_mean</th>\n",
              "      <th>downlink_size_median</th>\n",
              "      <th>both_links_size_mean</th>\n",
              "      <th>both_links_size_median</th>\n",
              "    </tr>\n",
              "  </thead>\n",
              "  <tbody>\n",
              "    <tr>\n",
              "      <th>0</th>\n",
              "      <td>-0.087521</td>\n",
              "      <td>-0.084440</td>\n",
              "      <td>-0.542954</td>\n",
              "      <td>-0.528983</td>\n",
              "      <td>-0.091042</td>\n",
              "      <td>-0.082301</td>\n",
              "    </tr>\n",
              "    <tr>\n",
              "      <th>1</th>\n",
              "      <td>-0.078877</td>\n",
              "      <td>-0.080486</td>\n",
              "      <td>0.805062</td>\n",
              "      <td>1.411367</td>\n",
              "      <td>-0.078719</td>\n",
              "      <td>-0.078381</td>\n",
              "    </tr>\n",
              "    <tr>\n",
              "      <th>2</th>\n",
              "      <td>-0.088058</td>\n",
              "      <td>-0.084506</td>\n",
              "      <td>-0.603444</td>\n",
              "      <td>-0.585904</td>\n",
              "      <td>-0.092329</td>\n",
              "      <td>-0.082398</td>\n",
              "    </tr>\n",
              "    <tr>\n",
              "      <th>3</th>\n",
              "      <td>-0.088019</td>\n",
              "      <td>-0.084494</td>\n",
              "      <td>-0.598502</td>\n",
              "      <td>-0.552911</td>\n",
              "      <td>-0.092276</td>\n",
              "      <td>-0.082368</td>\n",
              "    </tr>\n",
              "    <tr>\n",
              "      <th>4</th>\n",
              "      <td>-0.088080</td>\n",
              "      <td>-0.084493</td>\n",
              "      <td>-0.604613</td>\n",
              "      <td>-0.559202</td>\n",
              "      <td>-0.092340</td>\n",
              "      <td>-0.082387</td>\n",
              "    </tr>\n",
              "    <tr>\n",
              "      <th>...</th>\n",
              "      <td>...</td>\n",
              "      <td>...</td>\n",
              "      <td>...</td>\n",
              "      <td>...</td>\n",
              "      <td>...</td>\n",
              "      <td>...</td>\n",
              "    </tr>\n",
              "    <tr>\n",
              "      <th>1746</th>\n",
              "      <td>-0.079324</td>\n",
              "      <td>-0.078984</td>\n",
              "      <td>-0.054648</td>\n",
              "      <td>-0.584201</td>\n",
              "      <td>-0.081538</td>\n",
              "      <td>-0.077303</td>\n",
              "    </tr>\n",
              "    <tr>\n",
              "      <th>1747</th>\n",
              "      <td>-0.087222</td>\n",
              "      <td>-0.084275</td>\n",
              "      <td>0.321291</td>\n",
              "      <td>0.643773</td>\n",
              "      <td>-0.041793</td>\n",
              "      <td>-0.014237</td>\n",
              "    </tr>\n",
              "    <tr>\n",
              "      <th>1748</th>\n",
              "      <td>-0.088034</td>\n",
              "      <td>-0.084492</td>\n",
              "      <td>-0.601348</td>\n",
              "      <td>-0.559241</td>\n",
              "      <td>-0.092283</td>\n",
              "      <td>-0.082379</td>\n",
              "    </tr>\n",
              "    <tr>\n",
              "      <th>1749</th>\n",
              "      <td>-0.083446</td>\n",
              "      <td>-0.081416</td>\n",
              "      <td>0.134763</td>\n",
              "      <td>-0.352676</td>\n",
              "      <td>-0.089392</td>\n",
              "      <td>-0.080584</td>\n",
              "    </tr>\n",
              "    <tr>\n",
              "      <th>1750</th>\n",
              "      <td>-0.088173</td>\n",
              "      <td>-0.084548</td>\n",
              "      <td>-0.673232</td>\n",
              "      <td>-0.575089</td>\n",
              "      <td>-0.092449</td>\n",
              "      <td>-0.082446</td>\n",
              "    </tr>\n",
              "  </tbody>\n",
              "</table>\n",
              "<p>1751 rows × 6 columns</p>\n",
              "</div>"
            ],
            "text/plain": [
              "      uplink_size_mean  ...  both_links_size_median\n",
              "0            -0.087521  ...               -0.082301\n",
              "1            -0.078877  ...               -0.078381\n",
              "2            -0.088058  ...               -0.082398\n",
              "3            -0.088019  ...               -0.082368\n",
              "4            -0.088080  ...               -0.082387\n",
              "...                ...  ...                     ...\n",
              "1746         -0.079324  ...               -0.077303\n",
              "1747         -0.087222  ...               -0.014237\n",
              "1748         -0.088034  ...               -0.082379\n",
              "1749         -0.083446  ...               -0.080584\n",
              "1750         -0.088173  ...               -0.082446\n",
              "\n",
              "[1751 rows x 6 columns]"
            ]
          },
          "metadata": {},
          "execution_count": 57
        }
      ]
    },
    {
      "cell_type": "code",
      "metadata": {
        "colab": {
          "base_uri": "https://localhost:8080/"
        },
        "id": "L0f0Ud-el0UL",
        "outputId": "7e424d25-8243-46c8-d607-2bbee5795c6d"
      },
      "source": [
        "mean_med_te_sc = data_te[col_to_sc]\n",
        "mean_med_te_sc[col_to_sc] = scaler.fit_transform(mean_med_te_sc[col_to_sc])"
      ],
      "execution_count": null,
      "outputs": [
        {
          "output_type": "stream",
          "name": "stderr",
          "text": [
            "/usr/local/lib/python3.7/dist-packages/ipykernel_launcher.py:2: SettingWithCopyWarning: \n",
            "A value is trying to be set on a copy of a slice from a DataFrame.\n",
            "Try using .loc[row_indexer,col_indexer] = value instead\n",
            "\n",
            "See the caveats in the documentation: https://pandas.pydata.org/pandas-docs/stable/user_guide/indexing.html#returning-a-view-versus-a-copy\n",
            "  \n",
            "/usr/local/lib/python3.7/dist-packages/pandas/core/frame.py:3076: SettingWithCopyWarning: \n",
            "A value is trying to be set on a copy of a slice from a DataFrame\n",
            "\n",
            "See the caveats in the documentation: https://pandas.pydata.org/pandas-docs/stable/user_guide/indexing.html#returning-a-view-versus-a-copy\n",
            "  self.iloc._setitem_with_indexer((slice(None), indexer), value)\n",
            "/usr/local/lib/python3.7/dist-packages/pandas/core/frame.py:3041: SettingWithCopyWarning: \n",
            "A value is trying to be set on a copy of a slice from a DataFrame\n",
            "\n",
            "See the caveats in the documentation: https://pandas.pydata.org/pandas-docs/stable/user_guide/indexing.html#returning-a-view-versus-a-copy\n",
            "  self._setitem_array(key, value)\n"
          ]
        }
      ]
    },
    {
      "cell_type": "markdown",
      "metadata": {
        "id": "1GYmAPMxl0UL"
      },
      "source": [
        "### Preparing train and test data"
      ]
    },
    {
      "cell_type": "code",
      "metadata": {
        "id": "So4jMSl8l0UL"
      },
      "source": [
        "X_tr = mean_med_tr_sc\n",
        "y_tr = mean_med_tr['label']\n",
        "X_te = mean_med_te_sc\n",
        "y_te = data_te['label']"
      ],
      "execution_count": null,
      "outputs": []
    },
    {
      "cell_type": "markdown",
      "metadata": {
        "id": "BwCI6Eijl0UL"
      },
      "source": [
        "### Using logistic regression"
      ]
    },
    {
      "cell_type": "code",
      "metadata": {
        "colab": {
          "base_uri": "https://localhost:8080/"
        },
        "id": "JSCZcslzl0UM",
        "outputId": "cd19859b-4ecc-408a-d839-ae673e95272b"
      },
      "source": [
        "from sklearn.linear_model import LogisticRegression\n",
        "clf_reg = make_pipeline(StandardScaler(),LogisticRegression())\n",
        "clf_reg.fit(X_tr,y_tr)"
      ],
      "execution_count": null,
      "outputs": [
        {
          "output_type": "execute_result",
          "data": {
            "text/plain": [
              "Pipeline(steps=[('standardscaler', StandardScaler()),\n",
              "                ('logisticregression', LogisticRegression())])"
            ]
          },
          "metadata": {},
          "execution_count": 60
        }
      ]
    },
    {
      "cell_type": "code",
      "metadata": {
        "colab": {
          "base_uri": "https://localhost:8080/"
        },
        "id": "Fzm5lw0zl0UM",
        "outputId": "1f63ad4a-76a8-46d8-f590-3dd93820ea6b"
      },
      "source": [
        "clf_reg.score(X_tr,y_tr)"
      ],
      "execution_count": null,
      "outputs": [
        {
          "output_type": "execute_result",
          "data": {
            "text/plain": [
              "0.9994288977727013"
            ]
          },
          "metadata": {},
          "execution_count": 61
        }
      ]
    },
    {
      "cell_type": "code",
      "metadata": {
        "colab": {
          "base_uri": "https://localhost:8080/"
        },
        "id": "-GhjRsR5l0UM",
        "outputId": "8b5a80af-c56f-4f77-d545-119606dee0ca"
      },
      "source": [
        "clf_reg.score(X_te,y_te)"
      ],
      "execution_count": null,
      "outputs": [
        {
          "output_type": "execute_result",
          "data": {
            "text/plain": [
              "0.9994327528504169"
            ]
          },
          "metadata": {},
          "execution_count": 62
        }
      ]
    },
    {
      "cell_type": "code",
      "metadata": {
        "colab": {
          "base_uri": "https://localhost:8080/"
        },
        "id": "u1Q_g1jal0UN",
        "outputId": "67f695c3-6452-4698-d15a-7c3d5eae380b"
      },
      "source": [
        "scores = cross_val_score(clf_reg,X_tr,y_tr,cv = 5)\n",
        "scores"
      ],
      "execution_count": null,
      "outputs": [
        {
          "output_type": "execute_result",
          "data": {
            "text/plain": [
              "array([1.        , 1.        , 1.        , 0.99714286, 1.        ])"
            ]
          },
          "metadata": {},
          "execution_count": 63
        }
      ]
    },
    {
      "cell_type": "code",
      "metadata": {
        "colab": {
          "base_uri": "https://localhost:8080/"
        },
        "id": "wpRXRbdbl0UN",
        "outputId": "96803947-cf77-4c67-907f-01ed5bfad8c5"
      },
      "source": [
        "scores2 = cross_val_score(clf_reg,X_te,y_te,cv = 5)\n",
        "scores2"
      ],
      "execution_count": null,
      "outputs": [
        {
          "output_type": "execute_result",
          "data": {
            "text/plain": [
              "array([1.        , 0.99971639, 0.99971639, 0.99943279, 0.99914894])"
            ]
          },
          "metadata": {},
          "execution_count": 64
        }
      ]
    },
    {
      "cell_type": "markdown",
      "metadata": {
        "id": "rNDHjuPYl0UO"
      },
      "source": [
        "### Using SVC classifier"
      ]
    },
    {
      "cell_type": "code",
      "metadata": {
        "colab": {
          "base_uri": "https://localhost:8080/"
        },
        "id": "SimjRFycl0UO",
        "outputId": "03026b85-b787-4e24-d972-786b243378d7"
      },
      "source": [
        "from sklearn.svm import SVC\n",
        "clf_svc = make_pipeline(StandardScaler(),SVC(kernel = 'linear'))\n",
        "clf_svc.fit(X_tr,y_tr)"
      ],
      "execution_count": null,
      "outputs": [
        {
          "output_type": "execute_result",
          "data": {
            "text/plain": [
              "Pipeline(steps=[('standardscaler', StandardScaler()),\n",
              "                ('svc', SVC(kernel='linear'))])"
            ]
          },
          "metadata": {},
          "execution_count": 65
        }
      ]
    },
    {
      "cell_type": "code",
      "metadata": {
        "colab": {
          "base_uri": "https://localhost:8080/"
        },
        "id": "zAtsHXakl0UO",
        "outputId": "4d30db12-5bc3-459a-f456-3d7af9d6d72b"
      },
      "source": [
        "clf_svc.score(X_tr,y_tr)"
      ],
      "execution_count": null,
      "outputs": [
        {
          "output_type": "execute_result",
          "data": {
            "text/plain": [
              "1.0"
            ]
          },
          "metadata": {},
          "execution_count": 66
        }
      ]
    },
    {
      "cell_type": "code",
      "metadata": {
        "colab": {
          "base_uri": "https://localhost:8080/"
        },
        "id": "qG0srfO1l0UP",
        "outputId": "33cd73a5-7193-4087-96cd-33a0d10bdb76"
      },
      "source": [
        "clf_svc.score(X_te,y_te)"
      ],
      "execution_count": null,
      "outputs": [
        {
          "output_type": "execute_result",
          "data": {
            "text/plain": [
              "1.0"
            ]
          },
          "metadata": {},
          "execution_count": 67
        }
      ]
    },
    {
      "cell_type": "code",
      "metadata": {
        "id": "wQ171sQ5l0UP"
      },
      "source": [
        "y_pre_svc = clf_svc.predict(X_te)"
      ],
      "execution_count": null,
      "outputs": []
    },
    {
      "cell_type": "code",
      "metadata": {
        "colab": {
          "base_uri": "https://localhost:8080/"
        },
        "id": "wqyhQl2Ul0UQ",
        "outputId": "c83bf9ea-47de-42a4-b3cb-d8b797f07b5e"
      },
      "source": [
        "np.array_equal(y_pre_svc,y_te)"
      ],
      "execution_count": null,
      "outputs": [
        {
          "output_type": "execute_result",
          "data": {
            "text/plain": [
              "True"
            ]
          },
          "metadata": {},
          "execution_count": 69
        }
      ]
    },
    {
      "cell_type": "code",
      "metadata": {
        "colab": {
          "base_uri": "https://localhost:8080/"
        },
        "id": "ZUfAOoYal0UQ",
        "outputId": "64cc7c57-5efa-427f-ffa9-e0d8cc6dcaa4"
      },
      "source": [
        "scores = cross_val_score(clf_svc,X_tr,y_tr,cv = 5)\n",
        "scores"
      ],
      "execution_count": null,
      "outputs": [
        {
          "output_type": "execute_result",
          "data": {
            "text/plain": [
              "array([1., 1., 1., 1., 1.])"
            ]
          },
          "metadata": {},
          "execution_count": 70
        }
      ]
    },
    {
      "cell_type": "code",
      "metadata": {
        "colab": {
          "base_uri": "https://localhost:8080/"
        },
        "id": "RXLLgk2Ml0UQ",
        "outputId": "cb636441-affb-4e79-c78c-fd82ecab4fae"
      },
      "source": [
        "scores2 = cross_val_score(clf_svc,X_te,y_te,cv = 5)\n",
        "scores2"
      ],
      "execution_count": null,
      "outputs": [
        {
          "output_type": "execute_result",
          "data": {
            "text/plain": [
              "array([1., 1., 1., 1., 1.])"
            ]
          },
          "metadata": {},
          "execution_count": 71
        }
      ]
    },
    {
      "cell_type": "markdown",
      "metadata": {
        "id": "lwnSjK18l0UR"
      },
      "source": [
        "### Using SGD Classifier"
      ]
    },
    {
      "cell_type": "code",
      "metadata": {
        "colab": {
          "base_uri": "https://localhost:8080/"
        },
        "id": "BZ-Ixpral0UR",
        "outputId": "09316d7e-d0b2-4a6c-aa99-3d94607d6e6c"
      },
      "source": [
        "# Fit the model with training data\n",
        "from sklearn.linear_model import SGDClassifier\n",
        "clf_sgd = make_pipeline(StandardScaler(),SGDClassifier())\n",
        "clf_sgd.fit(X_tr,y_tr)"
      ],
      "execution_count": null,
      "outputs": [
        {
          "output_type": "execute_result",
          "data": {
            "text/plain": [
              "Pipeline(steps=[('standardscaler', StandardScaler()),\n",
              "                ('sgdclassifier', SGDClassifier())])"
            ]
          },
          "metadata": {},
          "execution_count": 72
        }
      ]
    },
    {
      "cell_type": "code",
      "metadata": {
        "colab": {
          "base_uri": "https://localhost:8080/"
        },
        "id": "Gsay3jo4l0UR",
        "outputId": "2ee283fe-3a19-4f33-cce3-1ae1174dce47"
      },
      "source": [
        "# See the score for the training set\n",
        "clf_sgd.score(X_tr,y_tr)"
      ],
      "execution_count": null,
      "outputs": [
        {
          "output_type": "execute_result",
          "data": {
            "text/plain": [
              "0.9994288977727013"
            ]
          },
          "metadata": {},
          "execution_count": 73
        }
      ]
    },
    {
      "cell_type": "code",
      "metadata": {
        "colab": {
          "base_uri": "https://localhost:8080/"
        },
        "id": "fP0xgvcfl0US",
        "outputId": "9b78d86c-a4b1-4d1c-bfa4-4b0185c8b510"
      },
      "source": [
        "# See the score for the test set\n",
        "clf_sgd.score(X_te,y_te)"
      ],
      "execution_count": null,
      "outputs": [
        {
          "output_type": "execute_result",
          "data": {
            "text/plain": [
              "0.9992058539905837"
            ]
          },
          "metadata": {},
          "execution_count": 74
        }
      ]
    },
    {
      "cell_type": "code",
      "metadata": {
        "colab": {
          "base_uri": "https://localhost:8080/"
        },
        "id": "rdUsRixUl0UT",
        "outputId": "c95c2056-b4f9-4364-e374-384b135bbee4"
      },
      "source": [
        "# Cross fold validation with training data set\n",
        "scores = cross_val_score(clf_sgd,X_tr,y_tr,cv = 5)\n",
        "scores"
      ],
      "execution_count": null,
      "outputs": [
        {
          "output_type": "execute_result",
          "data": {
            "text/plain": [
              "array([1.        , 1.        , 1.        , 0.99714286, 1.        ])"
            ]
          },
          "metadata": {},
          "execution_count": 75
        }
      ]
    },
    {
      "cell_type": "code",
      "metadata": {
        "colab": {
          "base_uri": "https://localhost:8080/"
        },
        "id": "GBhUevUul0UT",
        "outputId": "ee27eb2f-3b60-4bf4-c910-4df7494a7cf3"
      },
      "source": [
        "# Cross fold validation with test data set\n",
        "scores2 = cross_val_score(clf_sgd,X_te,y_te,cv = 5)\n",
        "scores2"
      ],
      "execution_count": null,
      "outputs": [
        {
          "output_type": "execute_result",
          "data": {
            "text/plain": [
              "array([1.        , 0.99971639, 1.        , 1.        , 1.        ])"
            ]
          },
          "metadata": {},
          "execution_count": 76
        }
      ]
    },
    {
      "cell_type": "markdown",
      "metadata": {
        "id": "gvUkvSLqirq-"
      },
      "source": [
        "# Dataset 3"
      ]
    },
    {
      "cell_type": "markdown",
      "metadata": {
        "id": "Bp7BcMZpoOm7"
      },
      "source": [
        "## Recupération des données (.mat) sous un dataframe"
      ]
    },
    {
      "cell_type": "code",
      "metadata": {
        "colab": {
          "base_uri": "https://localhost:8080/"
        },
        "id": "t0rST2BNoOm8",
        "outputId": "1494080d-5146-405e-b04a-7193221858bb"
      },
      "source": [
        "url = 'http://mason.gmu.edu/~lzhao9/materials/data/UAV/data/pub_dataset3.mat'\n",
        "r = requests.get(url, allow_redirects=True)\n",
        "open('pub_dataset3.mat', 'wb').write(r.content)"
      ],
      "execution_count": null,
      "outputs": [
        {
          "output_type": "execute_result",
          "data": {
            "text/plain": [
              "1783318"
            ]
          },
          "metadata": {},
          "execution_count": 32
        }
      ]
    },
    {
      "cell_type": "code",
      "metadata": {
        "id": "4Zd42O9NoOm9"
      },
      "source": [
        "import h5py\n",
        "data_path = './pub_dataset3.mat'\n",
        "with h5py.File(data_path, 'r') as f:\n",
        "    data_tr = pd.DataFrame(data = f['data_tr']).T\n",
        "    data_te = pd.DataFrame(data = f['data_te']).T"
      ],
      "execution_count": null,
      "outputs": []
    },
    {
      "cell_type": "markdown",
      "metadata": {
        "id": "mxIMDduNoOm9"
      },
      "source": [
        "## Renommage des colonnes"
      ]
    },
    {
      "cell_type": "code",
      "metadata": {
        "id": "LqIHR2zKoOm-"
      },
      "source": [
        "from bs4 import BeautifulSoup\n",
        "url = 'https://archive.ics.uci.edu/ml/datasets/Unmanned+Aerial+Vehicle+%28UAV%29+Intrusion+Detection'\n",
        "response = requests.get(url)\n",
        "soup = BeautifulSoup(response.text,'html.parser')"
      ],
      "execution_count": null,
      "outputs": []
    },
    {
      "cell_type": "code",
      "metadata": {
        "id": "N39b5Z3ioOm-"
      },
      "source": [
        "cat = soup.find_all('p',{'class':'normal'})[21] # Tous les noms des colonnes"
      ],
      "execution_count": null,
      "outputs": []
    },
    {
      "cell_type": "code",
      "metadata": {
        "id": "Y2vhlu5EoOm-"
      },
      "source": [
        "cat = cat.get_text(separator = '<br/>',strip = True).split('<br/>')[1:] # Recup le texte propre"
      ],
      "execution_count": null,
      "outputs": []
    },
    {
      "cell_type": "code",
      "metadata": {
        "id": "mDu_1TS1oOnA"
      },
      "source": [
        "col_names = [(re.search('(?<=. )\\D+',c).group()) for c in cat]\n",
        "old_new_col = {i:col for i,col in enumerate(col_names)} # dictionnaire anciennes/nouvelles colonnes"
      ],
      "execution_count": null,
      "outputs": []
    },
    {
      "cell_type": "code",
      "metadata": {
        "id": "UI6D0FtCoOnB"
      },
      "source": [
        "data_tr.rename(old_new_col,axis = 1,inplace = True)\n",
        "data_te.rename(old_new_col,axis = 1,inplace = True) # Renommage des colonnes"
      ],
      "execution_count": null,
      "outputs": []
    },
    {
      "cell_type": "code",
      "metadata": {
        "colab": {
          "base_uri": "https://localhost:8080/",
          "height": 443
        },
        "id": "Ej32gg_noOnB",
        "outputId": "fde9eeae-2e9e-4073-e247-a60afb9f908d"
      },
      "source": [
        "data_tr"
      ],
      "execution_count": null,
      "outputs": [
        {
          "output_type": "execute_result",
          "data": {
            "text/html": [
              "<div>\n",
              "<style scoped>\n",
              "    .dataframe tbody tr th:only-of-type {\n",
              "        vertical-align: middle;\n",
              "    }\n",
              "\n",
              "    .dataframe tbody tr th {\n",
              "        vertical-align: top;\n",
              "    }\n",
              "\n",
              "    .dataframe thead th {\n",
              "        text-align: right;\n",
              "    }\n",
              "</style>\n",
              "<table border=\"1\" class=\"dataframe\">\n",
              "  <thead>\n",
              "    <tr style=\"text-align: right;\">\n",
              "      <th></th>\n",
              "      <th>uplink_size_mean</th>\n",
              "      <th>uplink_size_median</th>\n",
              "      <th>uplink_size_MAD</th>\n",
              "      <th>uplink_size_STD</th>\n",
              "      <th>uplink_size_Skewness</th>\n",
              "      <th>uplink_size_Kurtosis</th>\n",
              "      <th>uplink_size_MAX</th>\n",
              "      <th>uplink_size_MIN</th>\n",
              "      <th>uplink_size_MeanSquare</th>\n",
              "      <th>downlink_size_mean</th>\n",
              "      <th>downlink_size_median</th>\n",
              "      <th>downlink_size_MAD</th>\n",
              "      <th>downlink_size_STD</th>\n",
              "      <th>downlink_size_Skewness</th>\n",
              "      <th>downlink_size_Kurtosis</th>\n",
              "      <th>downlink_size_MAX</th>\n",
              "      <th>downlink_size_MIN</th>\n",
              "      <th>downlink_size_MeanSquare</th>\n",
              "      <th>both_links_size_mean</th>\n",
              "      <th>both_links_size_median</th>\n",
              "      <th>both_links_size_MAD</th>\n",
              "      <th>both_links_size_STD</th>\n",
              "      <th>both_links_size_Skewness</th>\n",
              "      <th>both_links_size_Kurtosis</th>\n",
              "      <th>both_links_size_MAX</th>\n",
              "      <th>both_links_size_MIN</th>\n",
              "      <th>both_links_size_MeanSquare</th>\n",
              "      <th>uplink_interval_mean</th>\n",
              "      <th>uplink_interval_median</th>\n",
              "      <th>uplink_interval_MAD</th>\n",
              "      <th>uplink_interval_STD</th>\n",
              "      <th>uplink_interval_Skewness</th>\n",
              "      <th>uplink_interval_Kurtosis</th>\n",
              "      <th>uplink_interval_MAX</th>\n",
              "      <th>uplink_interval_MIN</th>\n",
              "      <th>uplink_interval_MeanSquare</th>\n",
              "      <th>downlink_interval_mean</th>\n",
              "      <th>downlink_interval_median</th>\n",
              "      <th>downlink_interval_MAD</th>\n",
              "      <th>downlink_interval_STD</th>\n",
              "      <th>downlink_interval_Skewness</th>\n",
              "      <th>downlink_interval_Kurtosis</th>\n",
              "      <th>downlink_interval_MAX</th>\n",
              "      <th>downlink_interval_MIN</th>\n",
              "      <th>downlink_interval_MeanSquare</th>\n",
              "      <th>both_links_interval_mean</th>\n",
              "      <th>both_links_interval_median</th>\n",
              "      <th>both_links_interval_MAD</th>\n",
              "      <th>both_links_interval_STD</th>\n",
              "      <th>both_links_interval_Skewness</th>\n",
              "      <th>both_links_interval_Kurtosis</th>\n",
              "      <th>both_links_interval_MAX</th>\n",
              "      <th>both_links_interval_MIN</th>\n",
              "      <th>both_links_interval_MeanSquare</th>\n",
              "      <th>label</th>\n",
              "    </tr>\n",
              "  </thead>\n",
              "  <tbody>\n",
              "    <tr>\n",
              "      <th>0</th>\n",
              "      <td>0.013633</td>\n",
              "      <td>0.009907</td>\n",
              "      <td>0.012473</td>\n",
              "      <td>0.013195</td>\n",
              "      <td>0.206939</td>\n",
              "      <td>-1.518004</td>\n",
              "      <td>0.029022</td>\n",
              "      <td>0.000002</td>\n",
              "      <td>0.016793</td>\n",
              "      <td>113.612245</td>\n",
              "      <td>32.643157</td>\n",
              "      <td>138.0</td>\n",
              "      <td>17.7912</td>\n",
              "      <td>-0.524785</td>\n",
              "      <td>-1.621986</td>\n",
              "      <td>153.0</td>\n",
              "      <td>70.0</td>\n",
              "      <td>118.116770</td>\n",
              "      <td>0.013402</td>\n",
              "      <td>0.009805</td>\n",
              "      <td>0.012023</td>\n",
              "      <td>0.012642</td>\n",
              "      <td>0.254736</td>\n",
              "      <td>-1.480650</td>\n",
              "      <td>0.029021</td>\n",
              "      <td>0.000408</td>\n",
              "      <td>0.016549</td>\n",
              "      <td>136.078431</td>\n",
              "      <td>205.772966</td>\n",
              "      <td>70.0</td>\n",
              "      <td>0.0000</td>\n",
              "      <td>4.398569</td>\n",
              "      <td>18.352606</td>\n",
              "      <td>1130.0</td>\n",
              "      <td>70.0</td>\n",
              "      <td>245.009404</td>\n",
              "      <td>0.006835</td>\n",
              "      <td>0.009674</td>\n",
              "      <td>0.000241</td>\n",
              "      <td>0.000351</td>\n",
              "      <td>1.164627</td>\n",
              "      <td>-0.178463</td>\n",
              "      <td>0.028997</td>\n",
              "      <td>0.000002</td>\n",
              "      <td>0.011805</td>\n",
              "      <td>125.07</td>\n",
              "      <td>148.422224</td>\n",
              "      <td>126.0</td>\n",
              "      <td>83.0256</td>\n",
              "      <td>6.183629</td>\n",
              "      <td>39.041176</td>\n",
              "      <td>1130.0</td>\n",
              "      <td>70.0</td>\n",
              "      <td>193.523564</td>\n",
              "      <td>1.0</td>\n",
              "    </tr>\n",
              "    <tr>\n",
              "      <th>1</th>\n",
              "      <td>0.176876</td>\n",
              "      <td>0.328222</td>\n",
              "      <td>0.050990</td>\n",
              "      <td>0.072377</td>\n",
              "      <td>2.746796</td>\n",
              "      <td>7.799352</td>\n",
              "      <td>1.629773</td>\n",
              "      <td>0.000309</td>\n",
              "      <td>0.369391</td>\n",
              "      <td>487.000000</td>\n",
              "      <td>392.264657</td>\n",
              "      <td>395.5</td>\n",
              "      <td>255.7485</td>\n",
              "      <td>1.692933</td>\n",
              "      <td>1.546272</td>\n",
              "      <td>1476.0</td>\n",
              "      <td>222.0</td>\n",
              "      <td>622.396138</td>\n",
              "      <td>0.128085</td>\n",
              "      <td>0.254164</td>\n",
              "      <td>0.029409</td>\n",
              "      <td>0.043299</td>\n",
              "      <td>3.309583</td>\n",
              "      <td>12.659707</td>\n",
              "      <td>1.482584</td>\n",
              "      <td>0.000143</td>\n",
              "      <td>0.282651</td>\n",
              "      <td>308.827586</td>\n",
              "      <td>214.947496</td>\n",
              "      <td>264.0</td>\n",
              "      <td>63.7518</td>\n",
              "      <td>3.713849</td>\n",
              "      <td>12.835863</td>\n",
              "      <td>1293.0</td>\n",
              "      <td>216.0</td>\n",
              "      <td>375.207023</td>\n",
              "      <td>0.074292</td>\n",
              "      <td>0.198067</td>\n",
              "      <td>0.001850</td>\n",
              "      <td>0.002549</td>\n",
              "      <td>4.688625</td>\n",
              "      <td>25.950990</td>\n",
              "      <td>1.478154</td>\n",
              "      <td>0.000117</td>\n",
              "      <td>0.210612</td>\n",
              "      <td>383.66</td>\n",
              "      <td>313.268698</td>\n",
              "      <td>307.0</td>\n",
              "      <td>126.0210</td>\n",
              "      <td>2.542834</td>\n",
              "      <td>5.425483</td>\n",
              "      <td>1476.0</td>\n",
              "      <td>216.0</td>\n",
              "      <td>494.318622</td>\n",
              "      <td>0.0</td>\n",
              "    </tr>\n",
              "    <tr>\n",
              "      <th>2</th>\n",
              "      <td>0.003496</td>\n",
              "      <td>0.004608</td>\n",
              "      <td>0.001605</td>\n",
              "      <td>0.001622</td>\n",
              "      <td>1.884811</td>\n",
              "      <td>2.649103</td>\n",
              "      <td>0.018668</td>\n",
              "      <td>0.000177</td>\n",
              "      <td>0.005718</td>\n",
              "      <td>96.857143</td>\n",
              "      <td>22.093596</td>\n",
              "      <td>88.0</td>\n",
              "      <td>0.0000</td>\n",
              "      <td>1.932871</td>\n",
              "      <td>1.804209</td>\n",
              "      <td>150.0</td>\n",
              "      <td>88.0</td>\n",
              "      <td>99.257242</td>\n",
              "      <td>0.001428</td>\n",
              "      <td>0.003718</td>\n",
              "      <td>0.000158</td>\n",
              "      <td>0.000228</td>\n",
              "      <td>3.658123</td>\n",
              "      <td>13.575117</td>\n",
              "      <td>0.020585</td>\n",
              "      <td>0.000001</td>\n",
              "      <td>0.003959</td>\n",
              "      <td>588.986111</td>\n",
              "      <td>413.681973</td>\n",
              "      <td>741.5</td>\n",
              "      <td>457.3821</td>\n",
              "      <td>-0.272712</td>\n",
              "      <td>-1.735861</td>\n",
              "      <td>1108.0</td>\n",
              "      <td>76.0</td>\n",
              "      <td>718.095098</td>\n",
              "      <td>0.001042</td>\n",
              "      <td>0.002882</td>\n",
              "      <td>0.000025</td>\n",
              "      <td>0.000035</td>\n",
              "      <td>4.084852</td>\n",
              "      <td>17.829972</td>\n",
              "      <td>0.018668</td>\n",
              "      <td>0.000001</td>\n",
              "      <td>0.003051</td>\n",
              "      <td>451.19</td>\n",
              "      <td>414.950105</td>\n",
              "      <td>150.0</td>\n",
              "      <td>109.7124</td>\n",
              "      <td>0.358598</td>\n",
              "      <td>-1.731709</td>\n",
              "      <td>1108.0</td>\n",
              "      <td>76.0</td>\n",
              "      <td>611.583330</td>\n",
              "      <td>1.0</td>\n",
              "    </tr>\n",
              "    <tr>\n",
              "      <th>3</th>\n",
              "      <td>0.004229</td>\n",
              "      <td>0.005576</td>\n",
              "      <td>0.000986</td>\n",
              "      <td>0.001195</td>\n",
              "      <td>1.088090</td>\n",
              "      <td>-0.287253</td>\n",
              "      <td>0.018410</td>\n",
              "      <td>0.000009</td>\n",
              "      <td>0.006926</td>\n",
              "      <td>98.225806</td>\n",
              "      <td>28.208403</td>\n",
              "      <td>88.0</td>\n",
              "      <td>0.0000</td>\n",
              "      <td>2.800722</td>\n",
              "      <td>8.100519</td>\n",
              "      <td>218.0</td>\n",
              "      <td>76.0</td>\n",
              "      <td>102.070343</td>\n",
              "      <td>0.001919</td>\n",
              "      <td>0.005633</td>\n",
              "      <td>0.000105</td>\n",
              "      <td>0.000153</td>\n",
              "      <td>3.661035</td>\n",
              "      <td>13.732723</td>\n",
              "      <td>0.032340</td>\n",
              "      <td>0.000001</td>\n",
              "      <td>0.005912</td>\n",
              "      <td>599.434783</td>\n",
              "      <td>376.788148</td>\n",
              "      <td>770.0</td>\n",
              "      <td>240.1812</td>\n",
              "      <td>-0.435652</td>\n",
              "      <td>-1.484070</td>\n",
              "      <td>1094.0</td>\n",
              "      <td>76.0</td>\n",
              "      <td>706.564817</td>\n",
              "      <td>0.001324</td>\n",
              "      <td>0.003575</td>\n",
              "      <td>0.000067</td>\n",
              "      <td>0.000096</td>\n",
              "      <td>3.100149</td>\n",
              "      <td>8.892516</td>\n",
              "      <td>0.018410</td>\n",
              "      <td>0.000001</td>\n",
              "      <td>0.003795</td>\n",
              "      <td>444.06</td>\n",
              "      <td>389.912910</td>\n",
              "      <td>147.0</td>\n",
              "      <td>105.2646</td>\n",
              "      <td>0.311359</td>\n",
              "      <td>-1.699683</td>\n",
              "      <td>1094.0</td>\n",
              "      <td>76.0</td>\n",
              "      <td>589.661801</td>\n",
              "      <td>1.0</td>\n",
              "    </tr>\n",
              "    <tr>\n",
              "      <th>4</th>\n",
              "      <td>0.003080</td>\n",
              "      <td>0.005691</td>\n",
              "      <td>0.000934</td>\n",
              "      <td>0.000975</td>\n",
              "      <td>2.881301</td>\n",
              "      <td>8.274496</td>\n",
              "      <td>0.026786</td>\n",
              "      <td>0.000011</td>\n",
              "      <td>0.006387</td>\n",
              "      <td>96.533333</td>\n",
              "      <td>27.042410</td>\n",
              "      <td>88.0</td>\n",
              "      <td>0.0000</td>\n",
              "      <td>3.245917</td>\n",
              "      <td>10.956115</td>\n",
              "      <td>218.0</td>\n",
              "      <td>76.0</td>\n",
              "      <td>100.127918</td>\n",
              "      <td>0.001326</td>\n",
              "      <td>0.004443</td>\n",
              "      <td>0.000034</td>\n",
              "      <td>0.000040</td>\n",
              "      <td>4.790659</td>\n",
              "      <td>24.285991</td>\n",
              "      <td>0.029226</td>\n",
              "      <td>0.000007</td>\n",
              "      <td>0.004606</td>\n",
              "      <td>649.371429</td>\n",
              "      <td>376.682782</td>\n",
              "      <td>794.0</td>\n",
              "      <td>235.7334</td>\n",
              "      <td>-0.564116</td>\n",
              "      <td>-1.208588</td>\n",
              "      <td>1218.0</td>\n",
              "      <td>76.0</td>\n",
              "      <td>749.363844</td>\n",
              "      <td>0.000933</td>\n",
              "      <td>0.003334</td>\n",
              "      <td>0.000029</td>\n",
              "      <td>0.000031</td>\n",
              "      <td>5.731184</td>\n",
              "      <td>36.394334</td>\n",
              "      <td>0.026335</td>\n",
              "      <td>0.000007</td>\n",
              "      <td>0.003446</td>\n",
              "      <td>483.52</td>\n",
              "      <td>404.892316</td>\n",
              "      <td>417.0</td>\n",
              "      <td>505.5666</td>\n",
              "      <td>0.198671</td>\n",
              "      <td>-1.704260</td>\n",
              "      <td>1218.0</td>\n",
              "      <td>76.0</td>\n",
              "      <td>629.356815</td>\n",
              "      <td>1.0</td>\n",
              "    </tr>\n",
              "    <tr>\n",
              "      <th>...</th>\n",
              "      <td>...</td>\n",
              "      <td>...</td>\n",
              "      <td>...</td>\n",
              "      <td>...</td>\n",
              "      <td>...</td>\n",
              "      <td>...</td>\n",
              "      <td>...</td>\n",
              "      <td>...</td>\n",
              "      <td>...</td>\n",
              "      <td>...</td>\n",
              "      <td>...</td>\n",
              "      <td>...</td>\n",
              "      <td>...</td>\n",
              "      <td>...</td>\n",
              "      <td>...</td>\n",
              "      <td>...</td>\n",
              "      <td>...</td>\n",
              "      <td>...</td>\n",
              "      <td>...</td>\n",
              "      <td>...</td>\n",
              "      <td>...</td>\n",
              "      <td>...</td>\n",
              "      <td>...</td>\n",
              "      <td>...</td>\n",
              "      <td>...</td>\n",
              "      <td>...</td>\n",
              "      <td>...</td>\n",
              "      <td>...</td>\n",
              "      <td>...</td>\n",
              "      <td>...</td>\n",
              "      <td>...</td>\n",
              "      <td>...</td>\n",
              "      <td>...</td>\n",
              "      <td>...</td>\n",
              "      <td>...</td>\n",
              "      <td>...</td>\n",
              "      <td>...</td>\n",
              "      <td>...</td>\n",
              "      <td>...</td>\n",
              "      <td>...</td>\n",
              "      <td>...</td>\n",
              "      <td>...</td>\n",
              "      <td>...</td>\n",
              "      <td>...</td>\n",
              "      <td>...</td>\n",
              "      <td>...</td>\n",
              "      <td>...</td>\n",
              "      <td>...</td>\n",
              "      <td>...</td>\n",
              "      <td>...</td>\n",
              "      <td>...</td>\n",
              "      <td>...</td>\n",
              "      <td>...</td>\n",
              "      <td>...</td>\n",
              "      <td>...</td>\n",
              "    </tr>\n",
              "    <tr>\n",
              "      <th>1746</th>\n",
              "      <td>0.168442</td>\n",
              "      <td>0.449148</td>\n",
              "      <td>0.024904</td>\n",
              "      <td>0.036848</td>\n",
              "      <td>3.425184</td>\n",
              "      <td>11.482435</td>\n",
              "      <td>2.269895</td>\n",
              "      <td>0.000102</td>\n",
              "      <td>0.474128</td>\n",
              "      <td>248.868421</td>\n",
              "      <td>22.409181</td>\n",
              "      <td>228.0</td>\n",
              "      <td>0.0000</td>\n",
              "      <td>0.127789</td>\n",
              "      <td>-2.008487</td>\n",
              "      <td>276.0</td>\n",
              "      <td>228.0</td>\n",
              "      <td>249.848849</td>\n",
              "      <td>0.101848</td>\n",
              "      <td>0.321320</td>\n",
              "      <td>0.000725</td>\n",
              "      <td>0.000868</td>\n",
              "      <td>4.507385</td>\n",
              "      <td>20.808679</td>\n",
              "      <td>2.006319</td>\n",
              "      <td>0.000108</td>\n",
              "      <td>0.334595</td>\n",
              "      <td>390.225806</td>\n",
              "      <td>295.854163</td>\n",
              "      <td>250.0</td>\n",
              "      <td>32.6172</td>\n",
              "      <td>1.756040</td>\n",
              "      <td>1.491963</td>\n",
              "      <td>1148.0</td>\n",
              "      <td>228.0</td>\n",
              "      <td>488.256179</td>\n",
              "      <td>0.064008</td>\n",
              "      <td>0.256044</td>\n",
              "      <td>0.000465</td>\n",
              "      <td>0.000481</td>\n",
              "      <td>5.942396</td>\n",
              "      <td>36.987691</td>\n",
              "      <td>2.006093</td>\n",
              "      <td>0.000102</td>\n",
              "      <td>0.262678</td>\n",
              "      <td>336.51</td>\n",
              "      <td>242.642544</td>\n",
              "      <td>250.0</td>\n",
              "      <td>32.6172</td>\n",
              "      <td>2.561327</td>\n",
              "      <td>5.180320</td>\n",
              "      <td>1148.0</td>\n",
              "      <td>228.0</td>\n",
              "      <td>414.156528</td>\n",
              "      <td>0.0</td>\n",
              "    </tr>\n",
              "    <tr>\n",
              "      <th>1747</th>\n",
              "      <td>0.019276</td>\n",
              "      <td>0.023218</td>\n",
              "      <td>0.014205</td>\n",
              "      <td>0.020036</td>\n",
              "      <td>0.260308</td>\n",
              "      <td>-2.145662</td>\n",
              "      <td>0.048694</td>\n",
              "      <td>0.001382</td>\n",
              "      <td>0.027855</td>\n",
              "      <td>353.000000</td>\n",
              "      <td>250.000000</td>\n",
              "      <td>228.0</td>\n",
              "      <td>0.0000</td>\n",
              "      <td>0.750000</td>\n",
              "      <td>-1.687500</td>\n",
              "      <td>728.0</td>\n",
              "      <td>228.0</td>\n",
              "      <td>414.106267</td>\n",
              "      <td>0.471743</td>\n",
              "      <td>4.252675</td>\n",
              "      <td>0.000269</td>\n",
              "      <td>0.000265</td>\n",
              "      <td>9.474984</td>\n",
              "      <td>88.818730</td>\n",
              "      <td>41.677954</td>\n",
              "      <td>0.000065</td>\n",
              "      <td>4.256689</td>\n",
              "      <td>481.833333</td>\n",
              "      <td>437.711433</td>\n",
              "      <td>228.0</td>\n",
              "      <td>0.0000</td>\n",
              "      <td>1.305021</td>\n",
              "      <td>0.111893</td>\n",
              "      <td>1676.0</td>\n",
              "      <td>216.0</td>\n",
              "      <td>649.429686</td>\n",
              "      <td>0.452873</td>\n",
              "      <td>4.166910</td>\n",
              "      <td>0.000272</td>\n",
              "      <td>0.000269</td>\n",
              "      <td>9.682672</td>\n",
              "      <td>92.805474</td>\n",
              "      <td>41.677954</td>\n",
              "      <td>0.000065</td>\n",
              "      <td>4.170683</td>\n",
              "      <td>476.68</td>\n",
              "      <td>431.726739</td>\n",
              "      <td>228.0</td>\n",
              "      <td>0.0000</td>\n",
              "      <td>1.336856</td>\n",
              "      <td>0.224168</td>\n",
              "      <td>1676.0</td>\n",
              "      <td>216.0</td>\n",
              "      <td>641.675868</td>\n",
              "      <td>0.0</td>\n",
              "    </tr>\n",
              "    <tr>\n",
              "      <th>1748</th>\n",
              "      <td>0.003944</td>\n",
              "      <td>0.005735</td>\n",
              "      <td>0.001150</td>\n",
              "      <td>0.001297</td>\n",
              "      <td>1.766728</td>\n",
              "      <td>2.041407</td>\n",
              "      <td>0.020753</td>\n",
              "      <td>0.000100</td>\n",
              "      <td>0.006886</td>\n",
              "      <td>97.437500</td>\n",
              "      <td>27.035147</td>\n",
              "      <td>88.0</td>\n",
              "      <td>0.0000</td>\n",
              "      <td>3.030459</td>\n",
              "      <td>9.801596</td>\n",
              "      <td>218.0</td>\n",
              "      <td>76.0</td>\n",
              "      <td>101.005569</td>\n",
              "      <td>0.001856</td>\n",
              "      <td>0.004926</td>\n",
              "      <td>0.000035</td>\n",
              "      <td>0.000042</td>\n",
              "      <td>3.089798</td>\n",
              "      <td>8.676543</td>\n",
              "      <td>0.022767</td>\n",
              "      <td>0.000007</td>\n",
              "      <td>0.005230</td>\n",
              "      <td>594.117647</td>\n",
              "      <td>376.928733</td>\n",
              "      <td>744.5</td>\n",
              "      <td>327.6546</td>\n",
              "      <td>-0.387781</td>\n",
              "      <td>-1.533467</td>\n",
              "      <td>1090.0</td>\n",
              "      <td>76.0</td>\n",
              "      <td>702.112317</td>\n",
              "      <td>0.001262</td>\n",
              "      <td>0.003465</td>\n",
              "      <td>0.000037</td>\n",
              "      <td>0.000045</td>\n",
              "      <td>3.599441</td>\n",
              "      <td>13.189263</td>\n",
              "      <td>0.020103</td>\n",
              "      <td>0.000007</td>\n",
              "      <td>0.003672</td>\n",
              "      <td>435.18</td>\n",
              "      <td>388.076072</td>\n",
              "      <td>143.0</td>\n",
              "      <td>99.3342</td>\n",
              "      <td>0.367148</td>\n",
              "      <td>-1.663700</td>\n",
              "      <td>1090.0</td>\n",
              "      <td>76.0</td>\n",
              "      <td>581.789171</td>\n",
              "      <td>1.0</td>\n",
              "    </tr>\n",
              "    <tr>\n",
              "      <th>1749</th>\n",
              "      <td>0.090587</td>\n",
              "      <td>0.253379</td>\n",
              "      <td>0.006768</td>\n",
              "      <td>0.009749</td>\n",
              "      <td>3.066824</td>\n",
              "      <td>8.352582</td>\n",
              "      <td>1.090098</td>\n",
              "      <td>0.000168</td>\n",
              "      <td>0.264068</td>\n",
              "      <td>301.333333</td>\n",
              "      <td>65.319726</td>\n",
              "      <td>288.0</td>\n",
              "      <td>0.0000</td>\n",
              "      <td>4.303617</td>\n",
              "      <td>17.244792</td>\n",
              "      <td>608.0</td>\n",
              "      <td>288.0</td>\n",
              "      <td>308.043287</td>\n",
              "      <td>0.028760</td>\n",
              "      <td>0.116793</td>\n",
              "      <td>0.002406</td>\n",
              "      <td>0.002895</td>\n",
              "      <td>4.808322</td>\n",
              "      <td>22.412904</td>\n",
              "      <td>0.729880</td>\n",
              "      <td>0.000414</td>\n",
              "      <td>0.119533</td>\n",
              "      <td>1625.684211</td>\n",
              "      <td>200.982401</td>\n",
              "      <td>1664.0</td>\n",
              "      <td>0.0000</td>\n",
              "      <td>-5.491032</td>\n",
              "      <td>29.399023</td>\n",
              "      <td>1664.0</td>\n",
              "      <td>384.0</td>\n",
              "      <td>1637.898525</td>\n",
              "      <td>0.021857</td>\n",
              "      <td>0.096867</td>\n",
              "      <td>0.000918</td>\n",
              "      <td>0.001022</td>\n",
              "      <td>5.800006</td>\n",
              "      <td>34.728892</td>\n",
              "      <td>0.729880</td>\n",
              "      <td>0.000148</td>\n",
              "      <td>0.098828</td>\n",
              "      <td>1307.84</td>\n",
              "      <td>595.597565</td>\n",
              "      <td>1664.0</td>\n",
              "      <td>0.0000</td>\n",
              "      <td>-1.079037</td>\n",
              "      <td>-0.819218</td>\n",
              "      <td>1664.0</td>\n",
              "      <td>288.0</td>\n",
              "      <td>1435.839322</td>\n",
              "      <td>0.0</td>\n",
              "    </tr>\n",
              "    <tr>\n",
              "      <th>1750</th>\n",
              "      <td>0.001323</td>\n",
              "      <td>0.001244</td>\n",
              "      <td>0.001010</td>\n",
              "      <td>0.000984</td>\n",
              "      <td>1.771218</td>\n",
              "      <td>3.702437</td>\n",
              "      <td>0.005461</td>\n",
              "      <td>0.000107</td>\n",
              "      <td>0.001794</td>\n",
              "      <td>77.526316</td>\n",
              "      <td>24.097875</td>\n",
              "      <td>70.0</td>\n",
              "      <td>0.0000</td>\n",
              "      <td>2.414882</td>\n",
              "      <td>4.163242</td>\n",
              "      <td>153.0</td>\n",
              "      <td>68.0</td>\n",
              "      <td>80.996751</td>\n",
              "      <td>0.000304</td>\n",
              "      <td>0.000761</td>\n",
              "      <td>0.000008</td>\n",
              "      <td>0.000003</td>\n",
              "      <td>4.306302</td>\n",
              "      <td>23.987170</td>\n",
              "      <td>0.005461</td>\n",
              "      <td>0.000004</td>\n",
              "      <td>0.000815</td>\n",
              "      <td>1024.283951</td>\n",
              "      <td>305.437114</td>\n",
              "      <td>1130.0</td>\n",
              "      <td>0.0000</td>\n",
              "      <td>-2.530731</td>\n",
              "      <td>4.560583</td>\n",
              "      <td>1130.0</td>\n",
              "      <td>70.0</td>\n",
              "      <td>1068.315352</td>\n",
              "      <td>0.000259</td>\n",
              "      <td>0.000689</td>\n",
              "      <td>0.000010</td>\n",
              "      <td>0.000006</td>\n",
              "      <td>4.837368</td>\n",
              "      <td>30.487131</td>\n",
              "      <td>0.005453</td>\n",
              "      <td>0.000004</td>\n",
              "      <td>0.000733</td>\n",
              "      <td>844.40</td>\n",
              "      <td>463.502542</td>\n",
              "      <td>1130.0</td>\n",
              "      <td>0.0000</td>\n",
              "      <td>-0.997660</td>\n",
              "      <td>-0.992121</td>\n",
              "      <td>1130.0</td>\n",
              "      <td>68.0</td>\n",
              "      <td>962.131810</td>\n",
              "      <td>1.0</td>\n",
              "    </tr>\n",
              "  </tbody>\n",
              "</table>\n",
              "<p>1751 rows × 55 columns</p>\n",
              "</div>"
            ],
            "text/plain": [
              "      uplink_size_mean  ...  label\n",
              "0             0.013633  ...    1.0\n",
              "1             0.176876  ...    0.0\n",
              "2             0.003496  ...    1.0\n",
              "3             0.004229  ...    1.0\n",
              "4             0.003080  ...    1.0\n",
              "...                ...  ...    ...\n",
              "1746          0.168442  ...    0.0\n",
              "1747          0.019276  ...    0.0\n",
              "1748          0.003944  ...    1.0\n",
              "1749          0.090587  ...    0.0\n",
              "1750          0.001323  ...    1.0\n",
              "\n",
              "[1751 rows x 55 columns]"
            ]
          },
          "metadata": {},
          "execution_count": 48
        }
      ]
    },
    {
      "cell_type": "code",
      "metadata": {
        "colab": {
          "base_uri": "https://localhost:8080/",
          "height": 265
        },
        "id": "dDhCa5vpntX5",
        "outputId": "c26f73a4-8038-477a-f5fe-e0e7b575082b"
      },
      "source": [
        "from sklearn.decomposition import PCA\n",
        "\n",
        "mypca = PCA(n_components=55) # On paramètre ici pour ne garder que 55 composantes\n",
        "\n",
        "mypca.fit(data_tr)\n",
        "mypca.singular_values_ # Valeurs de variance\n",
        "\n",
        "mypca.explained_variance_ratio_ #  Pourcentages\n",
        "\n",
        "mypca.components_ # \n",
        "data_sortie= mypca.fit_transform(data_tr)\n",
        "mypca.noise_variance_\n",
        "\n",
        "y = list(mypca.explained_variance_ratio_)\n",
        "\n",
        "x = range(len(y))\n",
        "\n",
        "ycum = np.cumsum(y)\n",
        "\n",
        "plt.bar(x,y)\n",
        "\n",
        "plt.plot(x,ycum,\"-r\")\n",
        "\n",
        "plt.show()"
      ],
      "execution_count": null,
      "outputs": [
        {
          "output_type": "display_data",
          "data": {
            "image/png": "[encoded data removed]",
            "text/plain": [
              "<Figure size 432x288 with 1 Axes>"
            ]
          },
          "metadata": {
            "needs_background": "light"
          }
        }
      ]
    },
    {
      "cell_type": "markdown",
      "metadata": {
        "id": "wgkANwrfoOnB"
      },
      "source": [
        "## Correlations"
      ]
    },
    {
      "cell_type": "code",
      "metadata": {
        "colab": {
          "base_uri": "https://localhost:8080/",
          "height": 555
        },
        "id": "B4vAeWDsoOnD",
        "outputId": "5bb3ad96-ed7c-4de5-bcb7-af1cf17ebdfb"
      },
      "source": [
        "mean_med_col = [col for col in col_names if re.search('\\_mean$|\\_median$|label$',col)] # Colonnes moyennes et medianes\n",
        "mean_med_tr = data_tr[mean_med_col]\n",
        "mean_med_tr.label = mean_med_tr.label.astype(int)\n",
        "mean_med_tr"
      ],
      "execution_count": null,
      "outputs": [
        {
          "output_type": "stream",
          "name": "stderr",
          "text": [
            "/usr/local/lib/python3.7/dist-packages/pandas/core/generic.py:5170: SettingWithCopyWarning: \n",
            "A value is trying to be set on a copy of a slice from a DataFrame.\n",
            "Try using .loc[row_indexer,col_indexer] = value instead\n",
            "\n",
            "See the caveats in the documentation: https://pandas.pydata.org/pandas-docs/stable/user_guide/indexing.html#returning-a-view-versus-a-copy\n",
            "  self[name] = value\n"
          ]
        },
        {
          "output_type": "execute_result",
          "data": {
            "text/html": [
              "<div>\n",
              "<style scoped>\n",
              "    .dataframe tbody tr th:only-of-type {\n",
              "        vertical-align: middle;\n",
              "    }\n",
              "\n",
              "    .dataframe tbody tr th {\n",
              "        vertical-align: top;\n",
              "    }\n",
              "\n",
              "    .dataframe thead th {\n",
              "        text-align: right;\n",
              "    }\n",
              "</style>\n",
              "<table border=\"1\" class=\"dataframe\">\n",
              "  <thead>\n",
              "    <tr style=\"text-align: right;\">\n",
              "      <th></th>\n",
              "      <th>uplink_size_mean</th>\n",
              "      <th>uplink_size_median</th>\n",
              "      <th>downlink_size_mean</th>\n",
              "      <th>downlink_size_median</th>\n",
              "      <th>both_links_size_mean</th>\n",
              "      <th>both_links_size_median</th>\n",
              "      <th>uplink_interval_mean</th>\n",
              "      <th>uplink_interval_median</th>\n",
              "      <th>downlink_interval_mean</th>\n",
              "      <th>downlink_interval_median</th>\n",
              "      <th>both_links_interval_mean</th>\n",
              "      <th>both_links_interval_median</th>\n",
              "      <th>label</th>\n",
              "    </tr>\n",
              "  </thead>\n",
              "  <tbody>\n",
              "    <tr>\n",
              "      <th>0</th>\n",
              "      <td>0.016384</td>\n",
              "      <td>0.017049</td>\n",
              "      <td>143.761905</td>\n",
              "      <td>10.153204</td>\n",
              "      <td>0.027829</td>\n",
              "      <td>0.029467</td>\n",
              "      <td>439.297297</td>\n",
              "      <td>450.704564</td>\n",
              "      <td>0.010322</td>\n",
              "      <td>0.015365</td>\n",
              "      <td>253.11</td>\n",
              "      <td>307.402934</td>\n",
              "      <td>1</td>\n",
              "    </tr>\n",
              "    <tr>\n",
              "      <th>1</th>\n",
              "      <td>0.284070</td>\n",
              "      <td>0.828884</td>\n",
              "      <td>252.285714</td>\n",
              "      <td>95.664724</td>\n",
              "      <td>0.153040</td>\n",
              "      <td>0.568284</td>\n",
              "      <td>1430.307692</td>\n",
              "      <td>514.807000</td>\n",
              "      <td>0.099479</td>\n",
              "      <td>0.459503</td>\n",
              "      <td>1018.00</td>\n",
              "      <td>702.404442</td>\n",
              "      <td>0</td>\n",
              "    </tr>\n",
              "    <tr>\n",
              "      <th>2</th>\n",
              "      <td>0.016612</td>\n",
              "      <td>0.015893</td>\n",
              "      <td>143.322581</td>\n",
              "      <td>10.016010</td>\n",
              "      <td>0.026316</td>\n",
              "      <td>0.029797</td>\n",
              "      <td>452.447368</td>\n",
              "      <td>462.604302</td>\n",
              "      <td>0.010308</td>\n",
              "      <td>0.014524</td>\n",
              "      <td>260.79</td>\n",
              "      <td>320.598723</td>\n",
              "      <td>1</td>\n",
              "    </tr>\n",
              "    <tr>\n",
              "      <th>3</th>\n",
              "      <td>0.016395</td>\n",
              "      <td>0.016500</td>\n",
              "      <td>143.590164</td>\n",
              "      <td>9.851188</td>\n",
              "      <td>0.025708</td>\n",
              "      <td>0.029713</td>\n",
              "      <td>432.128205</td>\n",
              "      <td>448.110547</td>\n",
              "      <td>0.010026</td>\n",
              "      <td>0.014839</td>\n",
              "      <td>256.12</td>\n",
              "      <td>311.674470</td>\n",
              "      <td>1</td>\n",
              "    </tr>\n",
              "    <tr>\n",
              "      <th>4</th>\n",
              "      <td>0.017476</td>\n",
              "      <td>0.016967</td>\n",
              "      <td>142.901639</td>\n",
              "      <td>9.833116</td>\n",
              "      <td>0.027352</td>\n",
              "      <td>0.029847</td>\n",
              "      <td>427.333333</td>\n",
              "      <td>416.127785</td>\n",
              "      <td>0.010674</td>\n",
              "      <td>0.015426</td>\n",
              "      <td>253.83</td>\n",
              "      <td>293.199248</td>\n",
              "      <td>1</td>\n",
              "    </tr>\n",
              "    <tr>\n",
              "      <th>...</th>\n",
              "      <td>...</td>\n",
              "      <td>...</td>\n",
              "      <td>...</td>\n",
              "      <td>...</td>\n",
              "      <td>...</td>\n",
              "      <td>...</td>\n",
              "      <td>...</td>\n",
              "      <td>...</td>\n",
              "      <td>...</td>\n",
              "      <td>...</td>\n",
              "      <td>...</td>\n",
              "      <td>...</td>\n",
              "      <td>...</td>\n",
              "    </tr>\n",
              "    <tr>\n",
              "      <th>495</th>\n",
              "      <td>0.193349</td>\n",
              "      <td>0.590532</td>\n",
              "      <td>289.000000</td>\n",
              "      <td>4.000000</td>\n",
              "      <td>0.051793</td>\n",
              "      <td>0.286426</td>\n",
              "      <td>1643.619048</td>\n",
              "      <td>142.835477</td>\n",
              "      <td>0.043509</td>\n",
              "      <td>0.252197</td>\n",
              "      <td>1426.88</td>\n",
              "      <td>515.966354</td>\n",
              "      <td>0</td>\n",
              "    </tr>\n",
              "    <tr>\n",
              "      <th>496</th>\n",
              "      <td>0.014869</td>\n",
              "      <td>0.033200</td>\n",
              "      <td>354.153846</td>\n",
              "      <td>402.755413</td>\n",
              "      <td>0.008444</td>\n",
              "      <td>0.027909</td>\n",
              "      <td>1524.147541</td>\n",
              "      <td>411.071439</td>\n",
              "      <td>0.006361</td>\n",
              "      <td>0.021258</td>\n",
              "      <td>1067.85</td>\n",
              "      <td>702.582658</td>\n",
              "      <td>0</td>\n",
              "    </tr>\n",
              "    <tr>\n",
              "      <th>497</th>\n",
              "      <td>0.005127</td>\n",
              "      <td>0.008620</td>\n",
              "      <td>310.545455</td>\n",
              "      <td>160.087884</td>\n",
              "      <td>0.002122</td>\n",
              "      <td>0.005002</td>\n",
              "      <td>1385.492537</td>\n",
              "      <td>531.691451</td>\n",
              "      <td>0.001692</td>\n",
              "      <td>0.004543</td>\n",
              "      <td>1030.76</td>\n",
              "      <td>674.397421</td>\n",
              "      <td>0</td>\n",
              "    </tr>\n",
              "    <tr>\n",
              "      <th>498</th>\n",
              "      <td>2.986887</td>\n",
              "      <td>10.339577</td>\n",
              "      <td>245.487179</td>\n",
              "      <td>46.505728</td>\n",
              "      <td>2.417339</td>\n",
              "      <td>8.419928</td>\n",
              "      <td>286.803279</td>\n",
              "      <td>146.923202</td>\n",
              "      <td>1.474586</td>\n",
              "      <td>6.645075</td>\n",
              "      <td>270.69</td>\n",
              "      <td>119.678922</td>\n",
              "      <td>0</td>\n",
              "    </tr>\n",
              "    <tr>\n",
              "      <th>499</th>\n",
              "      <td>0.016842</td>\n",
              "      <td>0.017091</td>\n",
              "      <td>144.090909</td>\n",
              "      <td>10.771368</td>\n",
              "      <td>0.029523</td>\n",
              "      <td>0.030018</td>\n",
              "      <td>259.705882</td>\n",
              "      <td>74.159341</td>\n",
              "      <td>0.011116</td>\n",
              "      <td>0.015690</td>\n",
              "      <td>183.40</td>\n",
              "      <td>70.279385</td>\n",
              "      <td>1</td>\n",
              "    </tr>\n",
              "  </tbody>\n",
              "</table>\n",
              "<p>500 rows × 13 columns</p>\n",
              "</div>"
            ],
            "text/plain": [
              "     uplink_size_mean  uplink_size_median  ...  both_links_interval_median  label\n",
              "0            0.016384            0.017049  ...                  307.402934      1\n",
              "1            0.284070            0.828884  ...                  702.404442      0\n",
              "2            0.016612            0.015893  ...                  320.598723      1\n",
              "3            0.016395            0.016500  ...                  311.674470      1\n",
              "4            0.017476            0.016967  ...                  293.199248      1\n",
              "..                ...                 ...  ...                         ...    ...\n",
              "495          0.193349            0.590532  ...                  515.966354      0\n",
              "496          0.014869            0.033200  ...                  702.582658      0\n",
              "497          0.005127            0.008620  ...                  674.397421      0\n",
              "498          2.986887           10.339577  ...                  119.678922      0\n",
              "499          0.016842            0.017091  ...                   70.279385      1\n",
              "\n",
              "[500 rows x 13 columns]"
            ]
          },
          "metadata": {},
          "execution_count": 112
        }
      ]
    },
    {
      "cell_type": "code",
      "metadata": {
        "colab": {
          "base_uri": "https://localhost:8080/"
        },
        "id": "la0a25X3qM23",
        "outputId": "310dc3a2-8d4d-409c-fd6e-99a9cecf773f"
      },
      "source": [
        "mean_med_tr.columns"
      ],
      "execution_count": null,
      "outputs": [
        {
          "output_type": "execute_result",
          "data": {
            "text/plain": [
              "Index(['uplink_size_mean', 'uplink_size_median', 'downlink_size_mean',\n",
              "       'downlink_size_median', 'both_links_size_mean',\n",
              "       'both_links_size_median', 'uplink_interval_mean',\n",
              "       'uplink_interval_median', 'downlink_interval_mean',\n",
              "       'downlink_interval_median', 'both_links_interval_mean',\n",
              "       'both_links_interval_median', 'label'],\n",
              "      dtype='object')"
            ]
          },
          "metadata": {},
          "execution_count": 113
        }
      ]
    },
    {
      "cell_type": "code",
      "metadata": {
        "id": "eKTzbXDboOnD"
      },
      "source": [
        "corr_m = mean_med_tr.corr()"
      ],
      "execution_count": null,
      "outputs": []
    },
    {
      "cell_type": "code",
      "metadata": {
        "colab": {
          "base_uri": "https://localhost:8080/",
          "height": 550
        },
        "id": "eD0TPprFoOnD",
        "outputId": "44e28cc8-9e7d-4726-9161-870a5c8839c1"
      },
      "source": [
        "# Matrice de corrélation\n",
        "fig,ax = plt.subplots(figsize = (20,8))\n",
        "sns.heatmap(corr_m,)"
      ],
      "execution_count": null,
      "outputs": [
        {
          "output_type": "execute_result",
          "data": {
            "text/plain": [
              "<matplotlib.axes._subplots.AxesSubplot at 0x7f80f82c7410>"
            ]
          },
          "metadata": {},
          "execution_count": 87
        },
        {
          "output_type": "display_data",
          "data": {
            "image/png": "[encoded data removed]",
            "text/plain": [
              "<Figure size 1440x576 with 2 Axes>"
            ]
          },
          "metadata": {
            "needs_background": "light"
          }
        }
      ]
    },
    {
      "cell_type": "code",
      "metadata": {
        "colab": {
          "base_uri": "https://localhost:8080/",
          "height": 440
        },
        "id": "aHYJFP_soOnD",
        "outputId": "71192ee3-906d-4829-d13e-e0721fde9209"
      },
      "source": [
        "fig,ax = plt.subplots(figsize = (20,8))\n",
        "ax.scatter(x = mean_med_tr.downlink_size_mean,y = mean_med_tr.label,c = mean_med_tr.label)"
      ],
      "execution_count": null,
      "outputs": [
        {
          "output_type": "execute_result",
          "data": {
            "text/plain": [
              "<matplotlib.collections.PathCollection at 0x7f80f74018d0>"
            ]
          },
          "metadata": {},
          "execution_count": 88
        },
        {
          "output_type": "display_data",
          "data": {
            "image/png": "[encoded data removed]",
            "text/plain": [
              "<Figure size 1440x576 with 1 Axes>"
            ]
          },
          "metadata": {
            "needs_background": "light"
          }
        }
      ]
    },
    {
      "cell_type": "code",
      "metadata": {
        "colab": {
          "base_uri": "https://localhost:8080/",
          "height": 989
        },
        "id": "7nDYN9rOoOnE",
        "outputId": "fc083000-a2c2-460e-896a-4ccf8f14e93c"
      },
      "source": [
        "nrc = int((len(mean_med_col)-1)/2)\n",
        "fig,ax = plt.subplots(nrc,2,figsize = (20,20))\n",
        "#ax[0][0].scatter(x = mean_med_tr.downlink_size_mean,y = mean_med_tr.label,c = mean_med_tr.label)\n",
        "for i in range(nrc*2):\n",
        "    col = mean_med_col[i]\n",
        "    j = 0 if i%2 == 0 else 1  \n",
        "    ax[i//2,j].scatter(x = mean_med_tr[col],y = mean_med_tr.label, c = mean_med_tr.label)\n",
        "    ax[i//2,j].set_xlabel(col)\n",
        "    ax[i//2,j].set_ylabel('label')"
      ],
      "execution_count": null,
      "outputs": [
        {
          "output_type": "display_data",
          "data": {
            "image/png": "[encoded data removed]",
            "text/plain": [
              "<Figure size 1440x1440 with 12 Axes>"
            ]
          },
          "metadata": {
            "needs_background": "light"
          }
        }
      ]
    },
    {
      "cell_type": "code",
      "metadata": {
        "colab": {
          "base_uri": "https://localhost:8080/",
          "height": 359
        },
        "id": "CqxIaILBoOnE",
        "outputId": "57851625-b0f1-4e21-d2fe-065fbb45da39"
      },
      "source": [
        "# Proportions de labels dans le dataset tr\n",
        "fig,ax = plt.subplots(figsize = (10,4))\n",
        "x = (mean_med_tr.label.value_counts()/100) \n",
        "y = mean_med_tr.label.drop_duplicates()\n",
        "ax.pie(x,labels = y,autopct= '%.2f')"
      ],
      "execution_count": null,
      "outputs": [
        {
          "output_type": "execute_result",
          "data": {
            "text/plain": [
              "([<matplotlib.patches.Wedge at 0x7f80f6ffddd0>,\n",
              "  <matplotlib.patches.Wedge at 0x7f80f6ffd2d0>],\n",
              " [Text(-0.10351925128402176, 1.0951181509835346, '1'),\n",
              "  Text(0.10351925128402162, -1.0951181509835346, '0')],\n",
              " [Text(-0.05646504615492095, 0.597337173263746, '53.00'),\n",
              "  Text(0.05646504615492087, -0.597337173263746, '47.00')])"
            ]
          },
          "metadata": {},
          "execution_count": 90
        },
        {
          "output_type": "display_data",
          "data": {
            "image/png": "[encoded data removed]",
            "text/plain": [
              "<Figure size 720x288 with 1 Axes>"
            ]
          },
          "metadata": {}
        }
      ]
    },
    {
      "cell_type": "markdown",
      "metadata": {
        "id": "PtGezY_foOnE"
      },
      "source": [
        "## Machine Learning (Classification techniques)\n"
      ]
    },
    {
      "cell_type": "markdown",
      "metadata": {
        "id": "byg0Nb-PoOnF"
      },
      "source": [
        "### Scaling\n"
      ]
    },
    {
      "cell_type": "code",
      "metadata": {
        "colab": {
          "base_uri": "https://localhost:8080/",
          "height": 740
        },
        "id": "qM1M5M7YoOnF",
        "outputId": "5e153010-9438-49d5-bfb9-fb8c359ced4a"
      },
      "source": [
        "col_to_sc = [col for col in list(mean_med_tr.columns) if re.search('\\_size_mean$|\\_size_median$',col)]\n",
        "scaler = StandardScaler()\n",
        "mean_med_tr_sc = mean_med_tr[col_to_sc]\n",
        "mean_med_tr_sc[col_to_sc] = scaler.fit_transform(mean_med_tr_sc[col_to_sc])\n",
        "mean_med_tr_sc"
      ],
      "execution_count": null,
      "outputs": [
        {
          "output_type": "stream",
          "name": "stderr",
          "text": [
            "/usr/local/lib/python3.7/dist-packages/ipykernel_launcher.py:4: SettingWithCopyWarning: \n",
            "A value is trying to be set on a copy of a slice from a DataFrame.\n",
            "Try using .loc[row_indexer,col_indexer] = value instead\n",
            "\n",
            "See the caveats in the documentation: https://pandas.pydata.org/pandas-docs/stable/user_guide/indexing.html#returning-a-view-versus-a-copy\n",
            "  after removing the cwd from sys.path.\n",
            "/usr/local/lib/python3.7/dist-packages/pandas/core/frame.py:3076: SettingWithCopyWarning: \n",
            "A value is trying to be set on a copy of a slice from a DataFrame\n",
            "\n",
            "See the caveats in the documentation: https://pandas.pydata.org/pandas-docs/stable/user_guide/indexing.html#returning-a-view-versus-a-copy\n",
            "  self.iloc._setitem_with_indexer((slice(None), indexer), value)\n",
            "/usr/local/lib/python3.7/dist-packages/pandas/core/frame.py:3041: SettingWithCopyWarning: \n",
            "A value is trying to be set on a copy of a slice from a DataFrame\n",
            "\n",
            "See the caveats in the documentation: https://pandas.pydata.org/pandas-docs/stable/user_guide/indexing.html#returning-a-view-versus-a-copy\n",
            "  self._setitem_array(key, value)\n"
          ]
        },
        {
          "output_type": "execute_result",
          "data": {
            "text/html": [
              "<div>\n",
              "<style scoped>\n",
              "    .dataframe tbody tr th:only-of-type {\n",
              "        vertical-align: middle;\n",
              "    }\n",
              "\n",
              "    .dataframe tbody tr th {\n",
              "        vertical-align: top;\n",
              "    }\n",
              "\n",
              "    .dataframe thead th {\n",
              "        text-align: right;\n",
              "    }\n",
              "</style>\n",
              "<table border=\"1\" class=\"dataframe\">\n",
              "  <thead>\n",
              "    <tr style=\"text-align: right;\">\n",
              "      <th></th>\n",
              "      <th>uplink_size_mean</th>\n",
              "      <th>uplink_size_median</th>\n",
              "      <th>downlink_size_mean</th>\n",
              "      <th>downlink_size_median</th>\n",
              "      <th>both_links_size_mean</th>\n",
              "      <th>both_links_size_median</th>\n",
              "    </tr>\n",
              "  </thead>\n",
              "  <tbody>\n",
              "    <tr>\n",
              "      <th>0</th>\n",
              "      <td>-0.172122</td>\n",
              "      <td>-0.172241</td>\n",
              "      <td>-0.589246</td>\n",
              "      <td>-0.641578</td>\n",
              "      <td>-0.212724</td>\n",
              "      <td>-0.185513</td>\n",
              "    </tr>\n",
              "    <tr>\n",
              "      <th>1</th>\n",
              "      <td>-0.104005</td>\n",
              "      <td>-0.109686</td>\n",
              "      <td>-0.181733</td>\n",
              "      <td>-0.177741</td>\n",
              "      <td>-0.115072</td>\n",
              "      <td>-0.111011</td>\n",
              "    </tr>\n",
              "    <tr>\n",
              "      <th>2</th>\n",
              "      <td>-0.172064</td>\n",
              "      <td>-0.172330</td>\n",
              "      <td>-0.590896</td>\n",
              "      <td>-0.642323</td>\n",
              "      <td>-0.213904</td>\n",
              "      <td>-0.185467</td>\n",
              "    </tr>\n",
              "    <tr>\n",
              "      <th>3</th>\n",
              "      <td>-0.172120</td>\n",
              "      <td>-0.172283</td>\n",
              "      <td>-0.589891</td>\n",
              "      <td>-0.643217</td>\n",
              "      <td>-0.214378</td>\n",
              "      <td>-0.185479</td>\n",
              "    </tr>\n",
              "    <tr>\n",
              "      <th>4</th>\n",
              "      <td>-0.171844</td>\n",
              "      <td>-0.172247</td>\n",
              "      <td>-0.592477</td>\n",
              "      <td>-0.643315</td>\n",
              "      <td>-0.213096</td>\n",
              "      <td>-0.185460</td>\n",
              "    </tr>\n",
              "    <tr>\n",
              "      <th>...</th>\n",
              "      <td>...</td>\n",
              "      <td>...</td>\n",
              "      <td>...</td>\n",
              "      <td>...</td>\n",
              "      <td>...</td>\n",
              "      <td>...</td>\n",
              "    </tr>\n",
              "    <tr>\n",
              "      <th>495</th>\n",
              "      <td>-0.127091</td>\n",
              "      <td>-0.128052</td>\n",
              "      <td>-0.043869</td>\n",
              "      <td>-0.674955</td>\n",
              "      <td>-0.194035</td>\n",
              "      <td>-0.149983</td>\n",
              "    </tr>\n",
              "    <tr>\n",
              "      <th>496</th>\n",
              "      <td>-0.172508</td>\n",
              "      <td>-0.170996</td>\n",
              "      <td>0.200788</td>\n",
              "      <td>1.488002</td>\n",
              "      <td>-0.227842</td>\n",
              "      <td>-0.185728</td>\n",
              "    </tr>\n",
              "    <tr>\n",
              "      <th>497</th>\n",
              "      <td>-0.174987</td>\n",
              "      <td>-0.172890</td>\n",
              "      <td>0.037036</td>\n",
              "      <td>0.171708</td>\n",
              "      <td>-0.232773</td>\n",
              "      <td>-0.188895</td>\n",
              "    </tr>\n",
              "    <tr>\n",
              "      <th>498</th>\n",
              "      <td>0.583768</td>\n",
              "      <td>0.623144</td>\n",
              "      <td>-0.207262</td>\n",
              "      <td>-0.444393</td>\n",
              "      <td>1.650855</td>\n",
              "      <td>0.974622</td>\n",
              "    </tr>\n",
              "    <tr>\n",
              "      <th>499</th>\n",
              "      <td>-0.172006</td>\n",
              "      <td>-0.172237</td>\n",
              "      <td>-0.588011</td>\n",
              "      <td>-0.638225</td>\n",
              "      <td>-0.211402</td>\n",
              "      <td>-0.185436</td>\n",
              "    </tr>\n",
              "  </tbody>\n",
              "</table>\n",
              "<p>500 rows × 6 columns</p>\n",
              "</div>"
            ],
            "text/plain": [
              "     uplink_size_mean  ...  both_links_size_median\n",
              "0           -0.172122  ...               -0.185513\n",
              "1           -0.104005  ...               -0.111011\n",
              "2           -0.172064  ...               -0.185467\n",
              "3           -0.172120  ...               -0.185479\n",
              "4           -0.171844  ...               -0.185460\n",
              "..                ...  ...                     ...\n",
              "495         -0.127091  ...               -0.149983\n",
              "496         -0.172508  ...               -0.185728\n",
              "497         -0.174987  ...               -0.188895\n",
              "498          0.583768  ...                0.974622\n",
              "499         -0.172006  ...               -0.185436\n",
              "\n",
              "[500 rows x 6 columns]"
            ]
          },
          "metadata": {},
          "execution_count": 91
        }
      ]
    },
    {
      "cell_type": "code",
      "metadata": {
        "colab": {
          "base_uri": "https://localhost:8080/"
        },
        "id": "6rBFApECoOnF",
        "outputId": "f21f2fb3-6bf3-44e8-8e15-ff2a92b27d89"
      },
      "source": [
        "mean_med_te_sc = data_te[col_to_sc]\n",
        "mean_med_te_sc[col_to_sc] = scaler.fit_transform(mean_med_te_sc[col_to_sc])"
      ],
      "execution_count": null,
      "outputs": [
        {
          "output_type": "stream",
          "name": "stderr",
          "text": [
            "/usr/local/lib/python3.7/dist-packages/ipykernel_launcher.py:2: SettingWithCopyWarning: \n",
            "A value is trying to be set on a copy of a slice from a DataFrame.\n",
            "Try using .loc[row_indexer,col_indexer] = value instead\n",
            "\n",
            "See the caveats in the documentation: https://pandas.pydata.org/pandas-docs/stable/user_guide/indexing.html#returning-a-view-versus-a-copy\n",
            "  \n",
            "/usr/local/lib/python3.7/dist-packages/pandas/core/frame.py:3076: SettingWithCopyWarning: \n",
            "A value is trying to be set on a copy of a slice from a DataFrame\n",
            "\n",
            "See the caveats in the documentation: https://pandas.pydata.org/pandas-docs/stable/user_guide/indexing.html#returning-a-view-versus-a-copy\n",
            "  self.iloc._setitem_with_indexer((slice(None), indexer), value)\n",
            "/usr/local/lib/python3.7/dist-packages/pandas/core/frame.py:3041: SettingWithCopyWarning: \n",
            "A value is trying to be set on a copy of a slice from a DataFrame\n",
            "\n",
            "See the caveats in the documentation: https://pandas.pydata.org/pandas-docs/stable/user_guide/indexing.html#returning-a-view-versus-a-copy\n",
            "  self._setitem_array(key, value)\n"
          ]
        }
      ]
    },
    {
      "cell_type": "markdown",
      "metadata": {
        "id": "RDEqSi3ToOnG"
      },
      "source": [
        "### Preparing train and test data"
      ]
    },
    {
      "cell_type": "code",
      "metadata": {
        "id": "kfHC-71JoOnG"
      },
      "source": [
        "X_tr = mean_med_tr_sc\n",
        "y_tr = mean_med_tr['label']\n",
        "X_te = mean_med_te_sc\n",
        "y_te = data_te['label']"
      ],
      "execution_count": null,
      "outputs": []
    },
    {
      "cell_type": "markdown",
      "metadata": {
        "id": "ixHFFaeKoOnG"
      },
      "source": [
        "### Using logistic regression"
      ]
    },
    {
      "cell_type": "code",
      "metadata": {
        "colab": {
          "base_uri": "https://localhost:8080/"
        },
        "id": "rOQYViHioOnG",
        "outputId": "4fb98cae-a4de-4937-997b-bfc2bee095f9"
      },
      "source": [
        "from sklearn.linear_model import LogisticRegression\n",
        "clf_reg = make_pipeline(StandardScaler(),LogisticRegression())\n",
        "clf_reg.fit(X_tr,y_tr)"
      ],
      "execution_count": null,
      "outputs": [
        {
          "output_type": "execute_result",
          "data": {
            "text/plain": [
              "Pipeline(steps=[('standardscaler', StandardScaler()),\n",
              "                ('logisticregression', LogisticRegression())])"
            ]
          },
          "metadata": {},
          "execution_count": 94
        }
      ]
    },
    {
      "cell_type": "code",
      "metadata": {
        "colab": {
          "base_uri": "https://localhost:8080/"
        },
        "id": "kvbhFTg_oOnH",
        "outputId": "522783c5-98f0-4d34-d2a5-1defde4b1ca9"
      },
      "source": [
        "clf_reg.score(X_tr,y_tr)"
      ],
      "execution_count": null,
      "outputs": [
        {
          "output_type": "execute_result",
          "data": {
            "text/plain": [
              "0.99"
            ]
          },
          "metadata": {},
          "execution_count": 95
        }
      ]
    },
    {
      "cell_type": "code",
      "metadata": {
        "colab": {
          "base_uri": "https://localhost:8080/"
        },
        "id": "4Coay8T9oOnH",
        "outputId": "844a0497-9c80-483b-b9a3-8cd8badf9b8c"
      },
      "source": [
        "clf_reg.score(X_te,y_te)"
      ],
      "execution_count": null,
      "outputs": [
        {
          "output_type": "execute_result",
          "data": {
            "text/plain": [
              "0.9992"
            ]
          },
          "metadata": {},
          "execution_count": 96
        }
      ]
    },
    {
      "cell_type": "code",
      "metadata": {
        "colab": {
          "base_uri": "https://localhost:8080/"
        },
        "id": "LuYChdhgoOnH",
        "outputId": "83c35141-f7ef-4dd7-e43e-0d9276babcf2"
      },
      "source": [
        "scores = cross_val_score(clf_reg,X_tr,y_tr,cv = 5)\n",
        "scores"
      ],
      "execution_count": null,
      "outputs": [
        {
          "output_type": "execute_result",
          "data": {
            "text/plain": [
              "array([0.98, 0.98, 0.99, 0.98, 1.  ])"
            ]
          },
          "metadata": {},
          "execution_count": 97
        }
      ]
    },
    {
      "cell_type": "code",
      "metadata": {
        "colab": {
          "base_uri": "https://localhost:8080/"
        },
        "id": "QDSgZBv2oOnI",
        "outputId": "bbc71ae9-b1c3-4fb0-b08a-5115da3f5ec5"
      },
      "source": [
        "scores2 = cross_val_score(clf_reg,X_te,y_te,cv = 5)\n",
        "scores2"
      ],
      "execution_count": null,
      "outputs": [
        {
          "output_type": "execute_result",
          "data": {
            "text/plain": [
              "array([0.998, 1.   , 0.999, 0.998, 0.999])"
            ]
          },
          "metadata": {},
          "execution_count": 98
        }
      ]
    },
    {
      "cell_type": "markdown",
      "metadata": {
        "id": "eXtx-NWeoOnI"
      },
      "source": [
        "### Using SVC classifier"
      ]
    },
    {
      "cell_type": "code",
      "metadata": {
        "colab": {
          "base_uri": "https://localhost:8080/"
        },
        "id": "V2PyX3t5oOnI",
        "outputId": "9a170319-e253-41d2-e2ef-2be925a8057b"
      },
      "source": [
        "from sklearn.svm import SVC\n",
        "clf_svc = make_pipeline(StandardScaler(),SVC(kernel = 'linear'))\n",
        "clf_svc.fit(X_tr,y_tr)"
      ],
      "execution_count": null,
      "outputs": [
        {
          "output_type": "execute_result",
          "data": {
            "text/plain": [
              "Pipeline(steps=[('standardscaler', StandardScaler()),\n",
              "                ('svc', SVC(kernel='linear'))])"
            ]
          },
          "metadata": {},
          "execution_count": 99
        }
      ]
    },
    {
      "cell_type": "code",
      "metadata": {
        "colab": {
          "base_uri": "https://localhost:8080/"
        },
        "id": "RA3OEFdNoOnJ",
        "outputId": "9a0544f0-cfb9-4666-b550-0d5d3835dd04"
      },
      "source": [
        "clf_svc.score(X_tr,y_tr)"
      ],
      "execution_count": null,
      "outputs": [
        {
          "output_type": "execute_result",
          "data": {
            "text/plain": [
              "0.998"
            ]
          },
          "metadata": {},
          "execution_count": 100
        }
      ]
    },
    {
      "cell_type": "code",
      "metadata": {
        "colab": {
          "base_uri": "https://localhost:8080/"
        },
        "id": "SDO4_yGioOnJ",
        "outputId": "b50018b5-7bd2-426e-da48-3a0355baaa35"
      },
      "source": [
        "clf_svc.score(X_te,y_te)"
      ],
      "execution_count": null,
      "outputs": [
        {
          "output_type": "execute_result",
          "data": {
            "text/plain": [
              "0.9994"
            ]
          },
          "metadata": {},
          "execution_count": 101
        }
      ]
    },
    {
      "cell_type": "code",
      "metadata": {
        "id": "fr8xNAOroOnK"
      },
      "source": [
        "y_pre_svc = clf_svc.predict(X_te)"
      ],
      "execution_count": null,
      "outputs": []
    },
    {
      "cell_type": "code",
      "metadata": {
        "colab": {
          "base_uri": "https://localhost:8080/"
        },
        "id": "lTmiZCjjoOnK",
        "outputId": "bbe51749-86da-43b2-9e33-8b0b8c63e697"
      },
      "source": [
        "np.array_equal(y_pre_svc,y_te)"
      ],
      "execution_count": null,
      "outputs": [
        {
          "output_type": "execute_result",
          "data": {
            "text/plain": [
              "False"
            ]
          },
          "metadata": {},
          "execution_count": 103
        }
      ]
    },
    {
      "cell_type": "code",
      "metadata": {
        "colab": {
          "base_uri": "https://localhost:8080/"
        },
        "id": "dQgrOPrSoOnK",
        "outputId": "36ed0da5-0c77-4418-e876-01218fa6aa7a"
      },
      "source": [
        "scores = cross_val_score(clf_svc,X_tr,y_tr,cv = 5)\n",
        "scores"
      ],
      "execution_count": null,
      "outputs": [
        {
          "output_type": "execute_result",
          "data": {
            "text/plain": [
              "array([1.  , 1.  , 1.  , 0.99, 1.  ])"
            ]
          },
          "metadata": {},
          "execution_count": 104
        }
      ]
    },
    {
      "cell_type": "code",
      "metadata": {
        "colab": {
          "base_uri": "https://localhost:8080/"
        },
        "id": "zLWTGeIxoOnK",
        "outputId": "a1ca9510-b3ef-4b40-a456-cc1795de8d62"
      },
      "source": [
        "scores2 = cross_val_score(clf_svc,X_te,y_te,cv = 5)\n",
        "scores2"
      ],
      "execution_count": null,
      "outputs": [
        {
          "output_type": "execute_result",
          "data": {
            "text/plain": [
              "array([0.999, 1.   , 1.   , 0.999, 0.999])"
            ]
          },
          "metadata": {},
          "execution_count": 105
        }
      ]
    },
    {
      "cell_type": "markdown",
      "metadata": {
        "id": "WOr1mc-VoOnL"
      },
      "source": [
        "### Using SGD Classifier"
      ]
    },
    {
      "cell_type": "code",
      "metadata": {
        "colab": {
          "base_uri": "https://localhost:8080/"
        },
        "id": "I3vQJ93JoOnL",
        "outputId": "a43157d0-dc91-4619-cbd9-2474af451ca8"
      },
      "source": [
        "# Fit the model with training data\n",
        "from sklearn.linear_model import SGDClassifier\n",
        "clf_sgd = make_pipeline(StandardScaler(),SGDClassifier())\n",
        "clf_sgd.fit(X_tr,y_tr)"
      ],
      "execution_count": null,
      "outputs": [
        {
          "output_type": "execute_result",
          "data": {
            "text/plain": [
              "Pipeline(steps=[('standardscaler', StandardScaler()),\n",
              "                ('sgdclassifier', SGDClassifier())])"
            ]
          },
          "metadata": {},
          "execution_count": 106
        }
      ]
    },
    {
      "cell_type": "code",
      "metadata": {
        "colab": {
          "base_uri": "https://localhost:8080/"
        },
        "id": "h9sWxZJJoOnL",
        "outputId": "352f74e7-a3fb-4445-a33b-2ecf1a5ab826"
      },
      "source": [
        "# See the score for the training set\n",
        "clf_sgd.score(X_tr,y_tr)"
      ],
      "execution_count": null,
      "outputs": [
        {
          "output_type": "execute_result",
          "data": {
            "text/plain": [
              "0.998"
            ]
          },
          "metadata": {},
          "execution_count": 107
        }
      ]
    },
    {
      "cell_type": "code",
      "metadata": {
        "colab": {
          "base_uri": "https://localhost:8080/"
        },
        "id": "1gUqgpjJoOnM",
        "outputId": "80430a89-0e65-4d35-bb79-0226a3e180a8"
      },
      "source": [
        "# See the score for the test set\n",
        "clf_sgd.score(X_te,y_te)"
      ],
      "execution_count": null,
      "outputs": [
        {
          "output_type": "execute_result",
          "data": {
            "text/plain": [
              "0.9994"
            ]
          },
          "metadata": {},
          "execution_count": 108
        }
      ]
    },
    {
      "cell_type": "code",
      "metadata": {
        "colab": {
          "base_uri": "https://localhost:8080/"
        },
        "id": "cZ_I5Jj1oOnM",
        "outputId": "7fb603f0-4fab-4e5e-cf95-deca476432c7"
      },
      "source": [
        "# Cross fold validation with training data set\n",
        "scores = cross_val_score(clf_sgd,X_tr,y_tr,cv = 5)\n",
        "scores"
      ],
      "execution_count": null,
      "outputs": [
        {
          "output_type": "execute_result",
          "data": {
            "text/plain": [
              "array([1., 1., 1., 1., 1.])"
            ]
          },
          "metadata": {},
          "execution_count": 109
        }
      ]
    },
    {
      "cell_type": "code",
      "metadata": {
        "colab": {
          "base_uri": "https://localhost:8080/"
        },
        "id": "EARIqIcdoOnM",
        "outputId": "583aca45-198d-4507-ac7f-84fe3f5ceebb"
      },
      "source": [
        "# Cross fold validation with test data set\n",
        "scores2 = cross_val_score(clf_sgd,X_te,y_te,cv = 5)\n",
        "scores2"
      ],
      "execution_count": null,
      "outputs": [
        {
          "output_type": "execute_result",
          "data": {
            "text/plain": [
              "array([0.999, 1.   , 1.   , 0.999, 0.999])"
            ]
          },
          "metadata": {},
          "execution_count": 110
        }
      ]
    },
    {
      "cell_type": "markdown",
      "metadata": {
        "id": "FeivOIevNODI"
      },
      "source": [
        "# Combinaison des trois datasets"
      ]
    },
    {
      "cell_type": "code",
      "metadata": {
        "id": "mJhguVvgNU08"
      },
      "source": [
        "full_data_tr = pd.DataFrame()\n",
        "full_data_te = pd.DataFrame()\n",
        "for i in range(1,4):\n",
        "  data_path = './pub_dataset{}.mat'.format(i)\n",
        "  with h5py.File(data_path, 'r') as f:\n",
        "        full_data_tr = full_data_tr.append(pd.DataFrame(data=f['data_tr']).T,ignore_index = True)\n",
        "        full_data_te = full_data_te.append(pd.DataFrame(data=f['data_te']).T,ignore_index = True)"
      ],
      "execution_count": null,
      "outputs": []
    },
    {
      "cell_type": "code",
      "metadata": {
        "id": "YVmOPSAmOu9W"
      },
      "source": [
        "def rename_columns(ds):\n",
        "    url = 'https://archive.ics.uci.edu/ml/datasets/Unmanned+Aerial+Vehicle+%28UAV%29+Intrusion+Detection'\n",
        "    response = requests.get(url)\n",
        "    soup = BeautifulSoup(response.text, 'html.parser')\n",
        "    cat = soup.find_all('p', {'class': 'normal'})[21]\n",
        "    cat = cat.get_text(separator='<br/>', strip=True).split('<br/>')[1:]\n",
        "    col_names = [(re.search('(?<=. )\\D+', c).group()) for c in cat]\n",
        "    old_new_col = {i: col for i, col in enumerate(col_names)}\n",
        "    ds.rename(old_new_col, axis=1, inplace=True)\n",
        "\n",
        "    return ds"
      ],
      "execution_count": null,
      "outputs": []
    },
    {
      "cell_type": "code",
      "metadata": {
        "id": "c8kTy82-PJTV"
      },
      "source": [
        "def filter_scale(ds):\n",
        "    fil_col = [col for col in list(ds.columns) if re.search(\n",
        "        '\\_size_mean$|\\_size_median$', col)]\n",
        "    ds_sc = ds[fil_col]\n",
        "    return ds_sc"
      ],
      "execution_count": null,
      "outputs": []
    },
    {
      "cell_type": "code",
      "metadata": {
        "id": "xNeX0M4RPOJI"
      },
      "source": [
        "full_data_tr = rename_columns(full_data_tr)\n",
        "full_data_te = rename_columns(full_data_te)\n",
        "X_tr = filter_scale(full_data_tr)\n",
        "y_tr = full_data_tr['label']\n",
        "X_te = filter_scale(full_data_te)\n",
        "y_te = full_data_te['label']"
      ],
      "execution_count": null,
      "outputs": []
    },
    {
      "cell_type": "code",
      "metadata": {
        "colab": {
          "base_uri": "https://localhost:8080/"
        },
        "id": "xw4lKbUEPXVG",
        "outputId": "e8de0ad0-df23-49c0-fafd-054101055d01"
      },
      "source": [
        "clf_svc = make_pipeline(StandardScaler(), SVC(kernel='linear'))\n",
        "clf_svc.fit(X_tr, y_tr)"
      ],
      "execution_count": null,
      "outputs": [
        {
          "output_type": "execute_result",
          "data": {
            "text/plain": [
              "Pipeline(steps=[('standardscaler', StandardScaler()),\n",
              "                ('svc', SVC(kernel='linear'))])"
            ]
          },
          "metadata": {},
          "execution_count": 44
        }
      ]
    },
    {
      "cell_type": "code",
      "metadata": {
        "colab": {
          "base_uri": "https://localhost:8080/"
        },
        "id": "M2BznH4YPuja",
        "outputId": "8bd970b6-97a2-43b5-ac0e-b407b7cf5f30"
      },
      "source": [
        "clf_svc.score(X_tr,y_tr)"
      ],
      "execution_count": null,
      "outputs": [
        {
          "output_type": "execute_result",
          "data": {
            "text/plain": [
              "0.999738219895288"
            ]
          },
          "metadata": {},
          "execution_count": 45
        }
      ]
    },
    {
      "cell_type": "code",
      "metadata": {
        "colab": {
          "base_uri": "https://localhost:8080/"
        },
        "id": "rf5OLrGZQDNf",
        "outputId": "76119678-302b-4a66-f50b-56b633b0ce42"
      },
      "source": [
        "clf_svc.score(X_te,y_te)"
      ],
      "execution_count": null,
      "outputs": [
        {
          "output_type": "execute_result",
          "data": {
            "text/plain": [
              "0.9995563211191147"
            ]
          },
          "metadata": {},
          "execution_count": 46
        }
      ]
    },
    {
      "cell_type": "code",
      "metadata": {
        "colab": {
          "base_uri": "https://localhost:8080/"
        },
        "id": "7yoUvzeRQG0I",
        "outputId": "8416ce32-28b5-430b-aecc-a590d627899f"
      },
      "source": [
        "scores = cross_val_score(clf_svc,X_tr,y_tr,cv = 5)\n",
        "scores"
      ],
      "execution_count": null,
      "outputs": [
        {
          "output_type": "execute_result",
          "data": {
            "text/plain": [
              "array([1.       , 0.9986911, 1.       , 1.       , 1.       ])"
            ]
          },
          "metadata": {},
          "execution_count": 47
        }
      ]
    },
    {
      "cell_type": "code",
      "metadata": {
        "colab": {
          "base_uri": "https://localhost:8080/"
        },
        "id": "ecyYteIPQScI",
        "outputId": "72c665e9-40cb-483a-9975-87c992738558"
      },
      "source": [
        "scores2 = cross_val_score(clf_svc,X_te,y_te,cv = 5)\n",
        "scores2"
      ],
      "execution_count": null,
      "outputs": [
        {
          "output_type": "execute_result",
          "data": {
            "text/plain": [
              "array([0.99986952, 0.99934751, 0.99960851, 0.9998695 , 1.        ])"
            ]
          },
          "metadata": {},
          "execution_count": 48
        }
      ]
    }
  ]
}